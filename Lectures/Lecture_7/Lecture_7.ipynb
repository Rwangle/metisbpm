{
 "cells": [
  {
   "cell_type": "markdown",
   "metadata": {},
   "source": [
    "# Beginner Python and Math for Data Science\n",
    "## Lecture 7 \n",
    "### Linear Algebra - Part 1 "
   ]
  },
  {
   "cell_type": "markdown",
   "metadata": {},
   "source": [
    "__Purpose:__ The purpose of this lecture is to explore what the field of Linear Algebra is, why Linear Algebra is so useful (and necessary) and how Linear Algebra is actually used in Data Science. We will then begin learning some very basic and fundamental concepts in Linear Algebra such as scalars, vectors, vector operations and vector spaces. We will also see how the NumPy package allows us to work with vectors in Python and perform operations easily.\n",
    "\n",
    "__At the end of this lecture you will be able to:__\n",
    "> 1. Understand what Linear Algebra is and how it can be used in Data Science \n",
    "> 2. Work with scalars \n",
    "> 3. Work with vectors and understand the properties of vector operations \n",
    "> 4. Understand vector spaces and the properties of subspaces with examples\n",
    "> 5. Use NumPy to work with vectors and perform operations on them in Python "
   ]
  },
  {
   "cell_type": "markdown",
   "metadata": {},
   "source": [
    "## 7.1 Introduction to Linear Algebra"
   ]
  },
  {
   "cell_type": "markdown",
   "metadata": {},
   "source": [
    "### 7.1.1 What is Linear Algebra?"
   ]
  },
  {
   "cell_type": "markdown",
   "metadata": {},
   "source": [
    "__Overview:__ \n",
    "- __[Linear Algebra](https://en.wikipedia.org/wiki/Linear_algebra):__ Linear Algebra is a branch of Mathematics that studies linear sets of equations and their transformational properties \n",
    "- The essence of Linear Algebra is working with __vectors__ and __matrices__ (we will study these concepts in depth throughout Lectures 7 and 8)\n",
    "- We can operate on vectors and matrices both in their geometric form (only in 2 or 3-dimensions) and their algebraic form in higher dimensions since (most of us) can't visualize anything higher than 3 dimensions \n",
    "\n",
    "- There are three main definitions to understand before we begin exploring Linear Algebra:\n",
    "> 1. __Linear:__ The \"linear\" component in Linear Algebra says that the objects we will deal with will be \"straight\" or \"flat\", versus a \"curved\" or \"sloped\" objects which are out of the scope of this course and covered in \"non-linear\" system analysis\n",
    "> 2. __[Linear Equations](https://en.wikipedia.org/wiki/Linear_equation):__ Linear Equations take simple forms and primarily deal with addition, subtraction, multiplication, and division (although addition and multiplication are by far, more common)\n",
    "> 3. __[Algebra](https://en.wikipedia.org/wiki/Algebra):__ You are likely familiar with the term \"algebra\" from high school and it is used to refer the manipulation and use of mathemtical symbols\n",
    "- If you combine the above three definitions, you are well on your way to understanding what Linear Algebra actually is! "
   ]
  },
  {
   "cell_type": "markdown",
   "metadata": {},
   "source": [
    "### 7.1.2 History of Linear Algebra"
   ]
  },
  {
   "cell_type": "markdown",
   "metadata": {},
   "source": [
    "- The field of Linear Algebra was contributed to by famous mathematicians over the last 3 centuries such as:\n",
    "> 1. __[Leibniz](https://en.wikipedia.org/wiki/Gottfried_Wilhelm_Leibniz_)__ (Determinants in 1693)\n",
    "> 2. __[Cramer](https://en.wikipedia.org/wiki/Gabriel_Cramer)__ (Cramer's rule for solving linear systems in 1750)\n",
    "> 3. __[Gauss](https://en.wikipedia.org/wiki/Carl_Friedrich_Gauss)__ (Gaussian elimination for solving linear systems in 1810)\n",
    "> 4. __[Grassmann](https://en.wikipedia.org/wiki/Hermann_Grassmann)__ (Foundations of Linear Algebra in 1844) \n",
    "> 5. __[Sylvester](https://en.wikipedia.org/wiki/James_Joseph_Sylvester)__ (Matrix definition in 1848)\n",
    "> 6. __[Pasha](https://translate.google.com/translate?&u=https%3A%2F%2Ftr.wikipedia.org%2Fwiki%2FH%C3%BCseyin+Tevfik+Pa%C5%9Fa&sl=tr&tl=en&prev=_t&hl=en)__ (\"Inventor\" of Linear Algebra in 1882)\n",
    "> 7. __[Peano](https://en.wikipedia.org/wiki/Giuseppe_Peano)__ (Vector Space in 1888)"
   ]
  },
  {
   "cell_type": "markdown",
   "metadata": {},
   "source": [
    "### 7.1.3 Why Study Linear Algebra?"
   ]
  },
  {
   "cell_type": "markdown",
   "metadata": {},
   "source": [
    "__Overview:__\n",
    "- Linear Algebra is a fundamental tool in mathematics, science, and engineering for many reasons:\n",
    "> 1. Linear Algebra allows us to break large, complicated problems into simple matrix equations ($Ax = b$)\n",
    "> 2. Linear Algebra provides a first approximation to non-linear systems \n",
    "> 3. Linear Algebra allows us to explore and understand multi-dimensional spaces \n",
    "> 4. Linear Algebra provides a visual, geometric tool to understand abstract objects, situations, and spaces "
   ]
  },
  {
   "cell_type": "markdown",
   "metadata": {},
   "source": [
    "### 7.1.4 How is Linear Algebra used in Data Science? "
   ]
  },
  {
   "cell_type": "markdown",
   "metadata": {},
   "source": [
    "__Overview:__\n",
    "- Linear Algebra pervades the field of Data Science because it gives us tools for representing an observation in a large data set as nothing more than a vector in multi-dimensional space. Once in this form, we can operate on this vector using Linear Algebra's vast toolset \n",
    "- It should be of no surprise that Linear Algebra is at the core of many popular Data Science [algorithms](https://en.wikipedia.org/wiki/Algorithm) including: \n",
    "> 1. __[Support Vector Machines (SVM)](https://en.wikipedia.org/wiki/Support_vector_machine)__\n",
    "> 2. __[Image Compression](https://en.wikipedia.org/wiki/Image_compression)__\n",
    "> 3. __[Page Rank](https://en.wikipedia.org/wiki/PageRank)__\n",
    "> 4. __[Markov Chain](https://en.wikipedia.org/wiki/Markov_chain)__\n",
    "> 5. __[K-Means Clustering](https://en.wikipedia.org/wiki/K-means_clustering)__"
   ]
  },
  {
   "cell_type": "markdown",
   "metadata": {},
   "source": [
    "### 7.1.5 Linear Algebra in Python:"
   ]
  },
  {
   "cell_type": "markdown",
   "metadata": {},
   "source": [
    "__Overview:__\n",
    "- Python has a wide range of useful functions to perform Linear Algebra routines. These functions are found in the following two Modules:\n",
    "> 1. __[`scipy.linalg`](https://docs.scipy.org/doc/scipy-0.18.1/reference/linalg.html):__ The `linalg` module in the SciPy Package offers many Linear Algebra functions such as matrix operations, eigenvalue problems, decompositions, matirx functions, and matrix equation solvers\n",
    "> 2. __[`numpy.linalg`](https://docs.scipy.org/doc/numpy-1.14.0/reference/routines.linalg.html):__ The `linalg` module in the NumPy Package offers many Linear Algebra functions such as matrix/vector products, decompositions, matrix eigenvalues, matrix/vector norms and solving equations \n",
    "\n",
    "__Helpful Points:__\n",
    "1. You may be wondering what the difference is between `scipy.linalg` and `numpy.linalg`. [Here](https://www.scipy.org/scipylib/faq.html#why-both-numpy-linalg-and-scipy-linalg-what-s-the-difference) is the complete explanation of the differences between the two, but in summary:\n",
    "> 1. Both `linalg` modules within NumPy and SciPy have similar functions, but with different docstrings\n",
    "> 2. `scipy.linalg` contains some functions not found in `numpy.linalg`\n",
    "> 3. Some functions that exist in both `scipy.linalg` and `numpy.linalg` have additional functionality in `scipy.linalg` that are not found in `numpy.linalg`\n",
    "2. You might also be wondering what the difference is between SciPy and NumPy, for this, you can refer to [this](https://www.scipy.org/scipylib/faq.html#what-is-the-difference-between-numpy-and-scipy) explanation\n",
    "\n",
    "__Practice:__ Import the Linear Algebra modules in Python "
   ]
  },
  {
   "cell_type": "markdown",
   "metadata": {},
   "source": [
    "### Example 1 (Importing Linear Algebra Packages):"
   ]
  },
  {
   "cell_type": "code",
   "execution_count": 5,
   "metadata": {},
   "outputs": [],
   "source": [
    "import numpy as np \n",
    "from scipy import linalg \n",
    "import math "
   ]
  },
  {
   "cell_type": "code",
   "execution_count": 6,
   "metadata": {
    "scrolled": true
   },
   "outputs": [
    {
     "name": "stdout",
     "output_type": "stream",
     "text": [
      "Variable      Type      Data/Info\n",
      "---------------------------------\n",
      "linalg        module    <module 'scipy.linalg' fr<...>cipy/linalg/__init__.py'>\n",
      "math          module    <module 'math' from '/ana<...>h.cpython-36m-darwin.so'>\n",
      "my_scalar     int       5\n",
      "my_scalar_1   float     3.14\n",
      "np            module    <module 'numpy' from '/an<...>kages/numpy/__init__.py'>\n"
     ]
    }
   ],
   "source": [
    "%whos"
   ]
  },
  {
   "cell_type": "markdown",
   "metadata": {},
   "source": [
    "Notes:\n",
    "\n",
    "> 1. We import the entire NumPy Package since we don't just want the Linear Algebra capabilities, but also all the other capabilities such as the multi-dimensional array we saw in Lecture 4 (`ndarray`)\n",
    "> 2. We import ONLY the `linalg` module from the SciPy Package since we only want these capabilities (and because SciPy is a massive Package with many sub-modules and functions that may cause conflict with other function names - see discussion of Modules in Lecture 3)"
   ]
  },
  {
   "cell_type": "markdown",
   "metadata": {},
   "source": [
    "## 7.2 Scalars "
   ]
  },
  {
   "cell_type": "markdown",
   "metadata": {},
   "source": [
    "### 7.2.1 What is a Scalar?:"
   ]
  },
  {
   "cell_type": "markdown",
   "metadata": {},
   "source": [
    "__Overview:__\n",
    "- __[Scalar](https://en.wikipedia.org/wiki/Scalar_(mathematics):__ A Scalar is, simply, just a single number (versus other common objects in Linear Algebra such as vectors and matrices which consist of multiple numbers)\n",
    "- Here are some important properties of scalars:\n",
    "> 1. All the __[real numbers](https://en.wikipedia.org/wiki/Real_number)__ are considered scalars \n",
    "> 2. Scalars make up the individual components of a vector (see the vector section below) \n",
    "\n",
    "__Helpful Points:__\n",
    "1. The NumPy Package has many \"built-in\" scalar types and these should be familiar from Lecture 2\n",
    "\n",
    "__Practice:__ Examples of Scalars in Python "
   ]
  },
  {
   "cell_type": "markdown",
   "metadata": {},
   "source": [
    "### Example 1 (Initialize Scalar):"
   ]
  },
  {
   "cell_type": "code",
   "execution_count": 2,
   "metadata": {},
   "outputs": [
    {
     "name": "stdout",
     "output_type": "stream",
     "text": [
      "5 is a scalar\n"
     ]
    }
   ],
   "source": [
    "my_scalar = 5\n",
    "print(\"{} is a scalar\".format(my_scalar))"
   ]
  },
  {
   "cell_type": "code",
   "execution_count": 3,
   "metadata": {
    "scrolled": true
   },
   "outputs": [
    {
     "name": "stdout",
     "output_type": "stream",
     "text": [
      "3.14 is a scalar\n"
     ]
    }
   ],
   "source": [
    "my_scalar_1 = 3.14\n",
    "print(\"{} is a scalar\".format(my_scalar_1))"
   ]
  },
  {
   "cell_type": "markdown",
   "metadata": {},
   "source": [
    "### Example 2 (Initialize non-Scalar):"
   ]
  },
  {
   "cell_type": "code",
   "execution_count": 5,
   "metadata": {},
   "outputs": [
    {
     "name": "stdout",
     "output_type": "stream",
     "text": [
      "[1, 2, 3] is NOT a scalar\n"
     ]
    }
   ],
   "source": [
    "my_list = [1,2,3]\n",
    "print(\"{} is NOT a scalar\".format(my_list))"
   ]
  },
  {
   "cell_type": "code",
   "execution_count": 6,
   "metadata": {},
   "outputs": [
    {
     "name": "stdout",
     "output_type": "stream",
     "text": [
      "[10  9  8  7] is NOT a scalar\n"
     ]
    }
   ],
   "source": [
    "my_array = np.array(np.arange(10,6,-1))\n",
    "print(\"{} is NOT a scalar\".format(my_array))"
   ]
  },
  {
   "cell_type": "markdown",
   "metadata": {},
   "source": [
    "### Example 3 (NumPy Scalar Types):"
   ]
  },
  {
   "cell_type": "code",
   "execution_count": 7,
   "metadata": {},
   "outputs": [
    {
     "data": {
      "text/plain": [
       "(int,\n",
       " float,\n",
       " complex,\n",
       " int,\n",
       " bool,\n",
       " bytes,\n",
       " str,\n",
       " memoryview,\n",
       " numpy.bool_,\n",
       " numpy.int8,\n",
       " numpy.uint8,\n",
       " numpy.int16,\n",
       " numpy.uint16,\n",
       " numpy.int32,\n",
       " numpy.uint32,\n",
       " numpy.int64,\n",
       " numpy.uint64,\n",
       " numpy.int64,\n",
       " numpy.uint64,\n",
       " numpy.float16,\n",
       " numpy.float32,\n",
       " numpy.float64,\n",
       " numpy.float128,\n",
       " numpy.complex64,\n",
       " numpy.complex128,\n",
       " numpy.complex256,\n",
       " numpy.object_,\n",
       " numpy.bytes_,\n",
       " numpy.str_,\n",
       " numpy.void,\n",
       " numpy.datetime64,\n",
       " numpy.timedelta64)"
      ]
     },
     "execution_count": 7,
     "metadata": {},
     "output_type": "execute_result"
    }
   ],
   "source": [
    "np.ScalarType"
   ]
  },
  {
   "cell_type": "markdown",
   "metadata": {},
   "source": [
    "### 7.2.2 Notating Scalars:"
   ]
  },
  {
   "cell_type": "markdown",
   "metadata": {},
   "source": [
    "__Overview:__ \n",
    "- It is useful to know the \"proper\" way of notating a scalar in mathematical notation since you may come across this when studying from textbooks or online resources\n",
    "- Here are some practices used when notating scalars:\n",
    "> 1. When defining scalars in mathematical notation, we typically write them in _italics_\n",
    "> 2. When defining scalars in mathematical notation, we typically denote the \"type\" of scalar or the \"family\" that it belongs to. For example if the scalar *x* belongs to the set of real numbers (which just means, it can be any real number), we would write this as: $x \\in \\mathbb R$\n",
    "\n",
    "__Helpful Points:__\n",
    "1. It is important to remember that the \"fancy\" looking R $(\\mathbb R)$ denotes the set of real numbers"
   ]
  },
  {
   "cell_type": "markdown",
   "metadata": {},
   "source": [
    "### 7.2.3 Operations with Scalars: "
   ]
  },
  {
   "cell_type": "markdown",
   "metadata": {},
   "source": [
    "__Overview:__\n",
    "- Scalars can be operated on other scalars, but also vectors (which we will see below)\n",
    "- Operations involving only scalars include:\n",
    "> 1. Addition of Scalars\n",
    "> 2. Subtraction of Scalars \n",
    "> 3. Multiplication of Scalars\n",
    "> 4. Division of Scalars \n",
    "\n",
    "__Helpful Points:__\n",
    "1. However, scalars are most commonly used in vector operations (such as scalar product and scalar multiplication)\n",
    "2. Be careful not to confuse \"Scalar Multiplication\" and \"Multiplication of Scalars\". The former refers to a vector multiplied by a scalar and the latter refers to 2 scalars being multiplied\n",
    "\n",
    "__Practice:__ Operations with Scalars in Python "
   ]
  },
  {
   "cell_type": "markdown",
   "metadata": {},
   "source": [
    "### Example 1 (Scalar Operations on Scalars):"
   ]
  },
  {
   "cell_type": "code",
   "execution_count": 8,
   "metadata": {},
   "outputs": [
    {
     "data": {
      "text/plain": [
       "10"
      ]
     },
     "execution_count": 8,
     "metadata": {},
     "output_type": "execute_result"
    }
   ],
   "source": [
    "5 + 5"
   ]
  },
  {
   "cell_type": "code",
   "execution_count": 9,
   "metadata": {},
   "outputs": [
    {
     "data": {
      "text/plain": [
       "2"
      ]
     },
     "execution_count": 9,
     "metadata": {},
     "output_type": "execute_result"
    }
   ],
   "source": [
    "4 - 2"
   ]
  },
  {
   "cell_type": "code",
   "execution_count": 10,
   "metadata": {},
   "outputs": [
    {
     "data": {
      "text/plain": [
       "4"
      ]
     },
     "execution_count": 10,
     "metadata": {},
     "output_type": "execute_result"
    }
   ],
   "source": [
    "2 * 2"
   ]
  },
  {
   "cell_type": "code",
   "execution_count": 11,
   "metadata": {},
   "outputs": [
    {
     "data": {
      "text/plain": [
       "2.0"
      ]
     },
     "execution_count": 11,
     "metadata": {},
     "output_type": "execute_result"
    }
   ],
   "source": [
    "2 / 1"
   ]
  },
  {
   "cell_type": "markdown",
   "metadata": {},
   "source": [
    "This may seem extremely trivial (and almost a waste of time), but its purpose is not to teach you basic arithmetic (we hope you know that already), but instead to differentiate between scalars acting on other scalars and scalars acting on vectors which will be covered below"
   ]
  },
  {
   "cell_type": "markdown",
   "metadata": {},
   "source": [
    "## 7.3 Vectors "
   ]
  },
  {
   "cell_type": "markdown",
   "metadata": {},
   "source": [
    "### 7.3.1 What is a Vector?"
   ]
  },
  {
   "cell_type": "markdown",
   "metadata": {},
   "source": [
    "__Overview:__\n",
    "- __[Vector](https://en.wikipedia.org/wiki/Vector_(mathematics_and_physics):__ A vector is simply an array (or collection) of numbers (scalars)\n",
    "- The numbers contained in a vector are referred to as the vector elements and are usually numbered for easier access and reference\n",
    "- Vectors can be expressed in two ways: \n",
    "> 1. __Algebraically__: Vectors can be expressed in their algebraic form as either __Row Vectors__ or __Column Vectors__ (which are both explained below)\n",
    "> 2. __Geometrically__: Vectors can be expressed in their geometric form by denoting the elements of a vector in a space, where each element of the vector provides a coordinate on an axis \n",
    "\n",
    "__Helpful Points:__ \n",
    "1. In Python, vectors are considered one-dimensional arrays of `ndarray` type \n",
    "2. Remember that in NumPy Arrays, all the elements must be of the same type \n",
    "3. There are some \"special\" vector such as:\n",
    "> a. The __Zero Vector__ which is just the number zero repeated $n$ times<br>\n",
    "> b. The __One Vector__ which is just the number one repeated $n$ times<br>\n",
    "> c. The __Unit Vector__ which includes the vectors that have length 1 \n",
    "\n",
    "__Practice:__ Examples of Vectors in Python "
   ]
  },
  {
   "cell_type": "markdown",
   "metadata": {},
   "source": [
    "### Example 1 (Initialize Row Vector):"
   ]
  },
  {
   "cell_type": "code",
   "execution_count": 12,
   "metadata": {},
   "outputs": [
    {
     "name": "stdout",
     "output_type": "stream",
     "text": [
      "[ 0  1  2  3  4  5  6  7  8  9 10 11] is a row vector with 12 elements and each element is a scalar\n"
     ]
    }
   ],
   "source": [
    "my_vector = np.array(np.arange(12))\n",
    "print(\"{} is a row vector with {} elements and each element is a scalar\".format(my_vector, len(my_vector)))"
   ]
  },
  {
   "cell_type": "code",
   "execution_count": 13,
   "metadata": {
    "scrolled": false
   },
   "outputs": [
    {
     "name": "stdout",
     "output_type": "stream",
     "text": [
      "[1.  2.  3.5] is a row vector with 3 elements and each element is a scalar\n"
     ]
    }
   ],
   "source": [
    "my_vector_1 = np.array([1.0, 2, 3.5])\n",
    "print(\"{} is a row vector with {} elements and each element is a scalar\".format(my_vector_1, len(my_vector_1)))"
   ]
  },
  {
   "cell_type": "markdown",
   "metadata": {},
   "source": [
    "Notice that the NumPy array can only contain one type, but the elements passed in were both type `int` and `float`, therefore the NumPy array had to \"coerce\" all elements into one type, which it intelligently chose as `float`"
   ]
  },
  {
   "cell_type": "markdown",
   "metadata": {},
   "source": [
    "### Example 2 (Initialize Column Vector):"
   ]
  },
  {
   "cell_type": "code",
   "execution_count": 14,
   "metadata": {
    "scrolled": true
   },
   "outputs": [
    {
     "name": "stdout",
     "output_type": "stream",
     "text": [
      "[[ 0]\n",
      " [ 1]\n",
      " [ 2]\n",
      " [ 3]\n",
      " [ 4]\n",
      " [ 5]\n",
      " [ 6]\n",
      " [ 7]\n",
      " [ 8]\n",
      " [ 9]\n",
      " [10]\n",
      " [11]] is a column vector with 12 elements and each element is a scalar\n"
     ]
    }
   ],
   "source": [
    "my_vector = np.array(np.arange(12).reshape(12,1))\n",
    "print(\"{} is a column vector with {} elements and each element is a scalar\".format(my_vector, len(my_vector)))"
   ]
  },
  {
   "cell_type": "code",
   "execution_count": 15,
   "metadata": {
    "scrolled": true
   },
   "outputs": [
    {
     "name": "stdout",
     "output_type": "stream",
     "text": [
      "[[1. ]\n",
      " [2. ]\n",
      " [3.5]] is a column vector with 3 elements and each element is a scalar\n"
     ]
    }
   ],
   "source": [
    "my_vector_1 = np.array([[1.0, 2, 3.5]]).T # this is the transpose (will be covered later)\n",
    "print(\"{} is a column vector with {} elements and each element is a scalar\".format(my_vector_1, len(my_vector_1)))"
   ]
  },
  {
   "cell_type": "markdown",
   "metadata": {},
   "source": [
    "Technically, these are 2-dimensional arrays given NumPy's printing method. However, the intenion here is to illustrate the orientation of the vector and not so much the dimension. The vectors above are both meant to be in one dimension but oritented vertically to denote a column veector. "
   ]
  },
  {
   "cell_type": "markdown",
   "metadata": {},
   "source": [
    "### 7.3.2 Notating Vectors:"
   ]
  },
  {
   "cell_type": "markdown",
   "metadata": {},
   "source": [
    "__Overview:__\n",
    "- Again, it is useful to know how vectors are notated in mathematical notation \n",
    "- Here are some practices used when notating vectors:\n",
    "> 1. The vector name is usually lowercase (so $\\pmb x$ would be a vector and $\\pmb X$ would not be a vector)\n",
    "> 2. The vector name is usually boldfaced ($\\pmb x$)\n",
    "> 3. The elements within a vector are italicized and referenced with subscripts denoting their ordered position\n",
    "\n",
    "- As mentioned above, vectors can be represented in one of two forms: \n",
    "> \\1. __Algebraically__: Algebraically we can represent column and row vectors as such:<br>\n",
    "\n",
    ">> __a. Column Vector:__\n",
    "\n",
    "\\begin{equation}\n",
    "\\pmb x =\n",
    "\\begin{bmatrix}\n",
    "    x_{1}\\\\\n",
    "    x_{2}\\\\\n",
    "    x_{3}\n",
    "\\end{bmatrix}\n",
    "\\end{equation}\n",
    "\n",
    ">> __b. Row Vector:__\n",
    "\n",
    "\\begin{equation}\n",
    "\\pmb x =\n",
    "\\begin{bmatrix}\n",
    "    x_{1} x_{2} x_{3}\n",
    "\\end{bmatrix}\n",
    "\\end{equation}\n",
    "\n",
    "> \\2. __Geometrically__: Geometrically we can represent vectors in multi-dimensional space where each element is a coordinate on an axis:\n",
    "\n",
    ">> __a. Two-Dimensional Space (vector of 2 elements):__\n",
    "<img src=\"img33.PNG\", width=300,height=300>\n",
    ">> __b. Three-Dimensional Space (vector of 3 elements):__ \n",
    "<img src=\"img34.PNG\", width=300,height=300>\n",
    "\n",
    "__Helpful Points:__\n",
    "1. Vectors are most commonly represented as Column Vectors\n",
    "2. It should be clear now that the first element of a vector ($x_1$) refers to the coordinate on the x axis, the second element of a vector ($x_2$) refers to the coordinate on the y axis, and the third element of a vector, if applicable, ($x_3$) refers to the coordinate on the z axis \n",
    "3. Vectors do not have to begin at the origin as shown in the examples above (this is used commonly for illustration purposes), they can start at any point in the multi-dimensional space\n",
    "\n",
    "__Practice:__ Examples of Notating Vectors in Python "
   ]
  },
  {
   "cell_type": "code",
   "execution_count": 10,
   "metadata": {},
   "outputs": [],
   "source": [
    "import matplotlib.pyplot as plt\n",
    "from mpl_toolkits.mplot3d import axes3d\n",
    "%matplotlib inline "
   ]
  },
  {
   "cell_type": "markdown",
   "metadata": {},
   "source": [
    "### Example 1 (2-Dimensional Vector from Origin):"
   ]
  },
  {
   "cell_type": "code",
   "execution_count": 17,
   "metadata": {},
   "outputs": [
    {
     "data": {
      "image/png": "[encoded data removed]",
      "text/plain": [
       "<matplotlib.figure.Figure at 0x60c554c88>"
      ]
     },
     "metadata": {},
     "output_type": "display_data"
    }
   ],
   "source": [
    "# draw the vector [1, 2] starting at (0,0) which is known as the \"origin\" \n",
    "soa = np.array([[0, 0, 1, 2]]) # create two points (0,0) and (1,2) \n",
    "X, Y, U, V = zip(*soa)\n",
    "plt.figure()\n",
    "ax = plt.gca()\n",
    "ax.quiver(X, Y, U, V, angles='xy', scale_units='xy', scale=1) # connects the two points with an arrow at the end \n",
    "ax.set_xlim([0, 3])\n",
    "ax.set_ylim([0, 3])\n",
    "plt.title('2-D Vector [1,2]')\n",
    "plt.xlabel('$x_1$', fontsize = 20)\n",
    "plt.ylabel('$x_2$', fontsize = 20)\n",
    "plt.grid()\n",
    "plt.plot([0,2])\n",
    "plt.draw()"
   ]
  },
  {
   "cell_type": "markdown",
   "metadata": {},
   "source": [
    "Notes:\n",
    "\n",
    "1. We can see that the elements of the vector ($x_1$ and $x_2$) represent the coordinates on the x and y axis, respectively. To produce the geometric interpretation of this vector, we move 1 unit to the right on the x axis and 2 units up on the y axis\n",
    "2. The vector is essentially created by connecting two points (0,0) and (1,2). Since we wanted the vector to start at the origin, the \"tail\" of the vector is (0,0)\n",
    "3. We will use the `quiver` method to draw vectors in the MatplotLib Package and its documentation can be found [here](https://matplotlib.org/api/_as_gen/matplotlib.axes.Axes.quiver.html)"
   ]
  },
  {
   "cell_type": "markdown",
   "metadata": {},
   "source": [
    "### Example 2 (2-Dimensional Vector not from Origin):"
   ]
  },
  {
   "cell_type": "code",
   "execution_count": 18,
   "metadata": {},
   "outputs": [
    {
     "data": {
      "image/png": "[encoded data removed]",
      "text/plain": [
       "<matplotlib.figure.Figure at 0x6154bacc0>"
      ]
     },
     "metadata": {},
     "output_type": "display_data"
    }
   ],
   "source": [
    "# draw the vector [3, 5] starting at (1,1)\n",
    "soa = np.array([[1, 1, 3, 5]]) \n",
    "X, Y, U, V = zip(*soa)\n",
    "plt.figure()\n",
    "ax = plt.gca()\n",
    "ax.quiver(X, Y, U, V, angles='xy', scale_units='xy', scale=1) # connects the two points with an arrow at the end \n",
    "ax.set_xlim([0, 10])\n",
    "ax.set_ylim([0, 10])\n",
    "plt.title('2-D Vector [3,5]')\n",
    "plt.xlabel('$x_1$', fontsize = 20)\n",
    "plt.ylabel('$x_2$', fontsize = 20)\n",
    "plt.grid()"
   ]
  },
  {
   "cell_type": "markdown",
   "metadata": {},
   "source": [
    "Notes:\n",
    "\n",
    "1. We can see that the elements of the vector ($x_1$ and $x_2$) no longer represent the coordinates on the x and y axis since we did not start our vector at the origin. To produce the geometric interpretation of this vector, we must start from (1,1) and then we move 3 units to the right on the x axis and 5 units up on the y axis\n",
    "2. The vector is essentially created by connecting two points (1,1) and (4,6). Since we didn't want the vector to start at the origin, the \"tail\" of the vector is (1,1)"
   ]
  },
  {
   "cell_type": "markdown",
   "metadata": {},
   "source": [
    "### 7.3.3 Real Coordinate Spaces:"
   ]
  },
  {
   "cell_type": "markdown",
   "metadata": {},
   "source": [
    "__Overview:__\n",
    "- __[Real Coordinate Space](https://en.wikipedia.org/wiki/Real_coordinate_space):__ Real coordinate space is simply a space where real numbers collectively determine points (coordinates) according to a coordinate system\n",
    "- Each coordinate space can be classified by its __dimension__ which refers to the number of elements required to define a point in that space (i.e. in the examples above we needed 2 elements ($x_1$ and $x_2$) to define a point, therefore we were working in a two-dimensional coordinate space and since both $x_1 \\in \\mathbb R$ and $x_2 \\in \\mathbb R$, this was actually a two-dimensional _real_ coordinate space) \n",
    "- In general, we define real coordinate spaces by the notation $\\mathbb R^n$ where $n$ is the dimension of the space and $\\mathbb R$ refers to the set of all real numbers \n",
    "\n",
    "__Helpful Points:__\n",
    "1. $\\mathbb R^n$ refers to the set of all $n$-tuples of real numbers (which means if we were to plot all the possible n-tuples, we would completely fill the entire coordinate space) \n",
    "2. For example, in $\\mathbb R^2$, we can plot all the 2-tuples such as $(0,1), (1,1), (3,4), ..., $ and we would eventually fill the entire two-dimensional space   \n",
    "3. It makes sense that an $n$-dimensional vector belongs to $\\mathbb R^n$ space since if each element belongs to $\\mathbb R$, then the dimension of the space that the vector lies in is just the product of $\\mathbb R$, $n$ times. For example, for a vector with 3 elements ($\\pmb v = [v_1, v_2, v_3] \\in [\\mathbb R, \\mathbb R, \\mathbb R] = \\mathbb R^3$) \n",
    "\n",
    "__Practice:__ Examples of Real Coordinate Spaces in Python "
   ]
  },
  {
   "cell_type": "markdown",
   "metadata": {},
   "source": [
    "### Example 1 (2-Dimensional Real Coordinate Space - ScatterPlot):"
   ]
  },
  {
   "cell_type": "code",
   "execution_count": 19,
   "metadata": {},
   "outputs": [],
   "source": [
    "_2_tuple_1 = [-1, 2]\n",
    "_2_tuple_2 = [2, -1] # different than above since order matters \n",
    "_2_tuple_3 = [3, 2]"
   ]
  },
  {
   "cell_type": "code",
   "execution_count": 20,
   "metadata": {
    "scrolled": true
   },
   "outputs": [
    {
     "data": {
      "text/plain": [
       "<matplotlib.collections.PathCollection at 0x6156cca58>"
      ]
     },
     "execution_count": 20,
     "metadata": {},
     "output_type": "execute_result"
    },
    {
     "data": {
      "image/png": "[encoded data removed]",
      "text/plain": [
       "<matplotlib.figure.Figure at 0x615504470>"
      ]
     },
     "metadata": {},
     "output_type": "display_data"
    }
   ],
   "source": [
    "x, y = zip(*[_2_tuple_1, _2_tuple_2, _2_tuple_3])\n",
    "plt.scatter(x, y)"
   ]
  },
  {
   "cell_type": "markdown",
   "metadata": {},
   "source": [
    "We can continue plotting all the $2$-tuples in this 2-dimensional space "
   ]
  },
  {
   "cell_type": "markdown",
   "metadata": {},
   "source": [
    "### Example 2 (2-Dimensional Real Coordinate Space - Vectors):"
   ]
  },
  {
   "cell_type": "code",
   "execution_count": 21,
   "metadata": {
    "scrolled": true
   },
   "outputs": [
    {
     "data": {
      "image/png": "[encoded data removed]",
      "text/plain": [
       "<matplotlib.figure.Figure at 0x61578a470>"
      ]
     },
     "metadata": {},
     "output_type": "display_data"
    }
   ],
   "source": [
    "soa = np.array([[0, 0, -1, 2], [0, 0, 2, -1], [0, 0, 3, 2]])\n",
    "X, Y, U, V = zip(*soa)\n",
    "plt.figure()\n",
    "ax = plt.gca()\n",
    "ax.quiver(X, Y, U, V, angles='xy', scale_units='xy', scale=1)\n",
    "ax.set_xlim([-3, 3])\n",
    "ax.set_ylim([-3, 3])\n",
    "plt.title('Three 2-D Vectors ([-1,2], [2,-1], and [3,2]) in R^2')\n",
    "plt.xlabel('$x_1$', fontsize = 20)\n",
    "plt.ylabel('$x_2$', fontsize = 20)\n",
    "plt.grid()"
   ]
  },
  {
   "cell_type": "markdown",
   "metadata": {},
   "source": [
    "### 7.3.4 Operations with Vectors (Vector Addition and Scalar Multiplication):"
   ]
  },
  {
   "cell_type": "markdown",
   "metadata": {},
   "source": [
    "__Overview:__ \n",
    "- Vectors are very versatile as they allow operations on other vectors as well as scalars\n",
    "- The main vector operations are described below:\n",
    "> a. Addition of Vectors: $\\pmb a + \\pmb b = (a_1 + b_1, a_2 + b_2, a_3 + b_3)$<br>\n",
    "> b. Subtraction of Vectors: $\\pmb a - \\pmb b = (a_1 - b_1, a_2 - b_2, a_3 - b_3)$<br>\n",
    "> c. Multiplication of Vectors: (covered in below sections of Dot Product and Cross Product)<br>\n",
    "> d. Multiplication of Vector by a Scalar: $u\\pmb a = (ua_1, ua_2, ua_3)$ \n",
    "\n",
    "- Here we will primarily focus on a. and d. which are governed by the following properties (first four deal with vector addition and second four deal with scalar multiplication of a vector): \n",
    "> 1. $\\pmb a + \\pmb b = \\pmb b + \\pmb a$ (Commutativity of addition)\n",
    "> 2. $\\pmb a + (\\pmb b + \\pmb c) = (\\pmb a + \\pmb b) + \\pmb c$ (Associativity of addition)\n",
    "> 3. $\\pmb a + \\pmb 0 = \\pmb a$ (Identity element of addition)\n",
    "> 4. $\\pmb a + (-\\pmb a) = \\pmb 0$ (Inverse elements of addition) \n",
    "> 5. $c(\\pmb a + \\pmb b) = c\\pmb a + c\\pmb b$ (Distributivity of scalar multiplication with respect to vector addition)\n",
    "> 6. $(c + d)\\pmb a = c\\pmb a + d\\pmb a$ (Distributivity of scalar multiplication with respect to scalar addition)\n",
    "> 7. $(cd)\\pmb a = c(d\\pmb a)$ (Compatibility of scalar multiplication with scalar multiplication) \n",
    "> 8. $1\\pmb a = \\pmb a$ (Identity element of scalar multiplication) \n",
    "\n",
    "__Helpful Points:__ \n",
    "1. We can understand addition of vectors and multiplication of vectors by scalars (our two main vector operations) both algebraically and geometrically\n",
    "\n",
    "__Practice:__ Examples of Operations with Vectors in Python "
   ]
  },
  {
   "cell_type": "markdown",
   "metadata": {},
   "source": [
    "### Example 1 (Addition of Vectors - Algebraically):"
   ]
  },
  {
   "cell_type": "markdown",
   "metadata": {},
   "source": [
    "If $\\pmb a, \\pmb b \\in \\mathbb R^2$, and $\\pmb a = [a_1, a_2]$ and $\\pmb b = [b_1, b_2]$, then $\\pmb a + \\pmb b = [(a_1+b_1), (a_2+b_2)]$ "
   ]
  },
  {
   "cell_type": "code",
   "execution_count": 22,
   "metadata": {},
   "outputs": [],
   "source": [
    "a = np.array([1,4])\n",
    "b = np.array([2,1])\n",
    "c = np.array([3,5])\n",
    "zero = np.zeros(2)"
   ]
  },
  {
   "cell_type": "code",
   "execution_count": 23,
   "metadata": {},
   "outputs": [
    {
     "data": {
      "text/plain": [
       "array([3, 5])"
      ]
     },
     "execution_count": 23,
     "metadata": {},
     "output_type": "execute_result"
    }
   ],
   "source": [
    "a + b # (1+2, 4+1)"
   ]
  },
  {
   "cell_type": "code",
   "execution_count": 24,
   "metadata": {},
   "outputs": [
    {
     "data": {
      "text/plain": [
       "array([4, 9])"
      ]
     },
     "execution_count": 24,
     "metadata": {},
     "output_type": "execute_result"
    }
   ],
   "source": [
    "c + a # (1+3, 4+5)"
   ]
  },
  {
   "cell_type": "code",
   "execution_count": 25,
   "metadata": {
    "scrolled": true
   },
   "outputs": [
    {
     "data": {
      "text/plain": [
       "array([5, 6])"
      ]
     },
     "execution_count": 25,
     "metadata": {},
     "output_type": "execute_result"
    }
   ],
   "source": [
    "b + c # (2+3, 1+5)"
   ]
  },
  {
   "cell_type": "markdown",
   "metadata": {},
   "source": [
    "### Example 2 (Explore Vector Addition Properties):"
   ]
  },
  {
   "cell_type": "code",
   "execution_count": 26,
   "metadata": {},
   "outputs": [
    {
     "name": "stdout",
     "output_type": "stream",
     "text": [
      "a + b is [3 5] and b + a is [3 5]\n"
     ]
    }
   ],
   "source": [
    "print(\"a + b is {} and b + a is {}\".format(a + b, b + a)) # property 1"
   ]
  },
  {
   "cell_type": "code",
   "execution_count": 27,
   "metadata": {
    "scrolled": true
   },
   "outputs": [
    {
     "name": "stdout",
     "output_type": "stream",
     "text": [
      "a + (b+c) is [ 6 10] and (a + b) + c is [ 6 10]\n"
     ]
    }
   ],
   "source": [
    "print(\"a + (b+c) is {} and (a + b) + c is {}\".format(a + (b+c), (a + b) + c)) # property 2"
   ]
  },
  {
   "cell_type": "code",
   "execution_count": 28,
   "metadata": {
    "scrolled": true
   },
   "outputs": [
    {
     "name": "stdout",
     "output_type": "stream",
     "text": [
      "a + 0 is [1. 4.] and a is [1 4]\n"
     ]
    }
   ],
   "source": [
    "print(\"a + 0 is {} and a is {}\".format(a + zero, a)) # property 3"
   ]
  },
  {
   "cell_type": "code",
   "execution_count": 29,
   "metadata": {
    "scrolled": false
   },
   "outputs": [
    {
     "name": "stdout",
     "output_type": "stream",
     "text": [
      "a + -a is [0 0] and 0 is [0. 0.]\n"
     ]
    }
   ],
   "source": [
    "print(\"a + -a is {} and 0 is {}\".format(a + -a, zero)) # property 4"
   ]
  },
  {
   "cell_type": "markdown",
   "metadata": {},
   "source": [
    "### Example 3 (Addition of Vectors - Geometrically):"
   ]
  },
  {
   "cell_type": "markdown",
   "metadata": {},
   "source": [
    "Vector addition can be visualized in geometric form quite easily in two dimensions. To add two vectors, we have to move the tail of vector a to the tip of vector b. Then we can draw a line from the tail of vector b to the tip of vector a which becomes the resultant (or additive) vector. See below for examples"
   ]
  },
  {
   "cell_type": "code",
   "execution_count": 30,
   "metadata": {
    "scrolled": true
   },
   "outputs": [
    {
     "data": {
      "image/png": "[encoded data removed]",
      "text/plain": [
       "<matplotlib.figure.Figure at 0x6156cad30>"
      ]
     },
     "metadata": {},
     "output_type": "display_data"
    }
   ],
   "source": [
    "# plot a (1, 4), b (2, 1) and a + b (3, 5)\n",
    "soa = np.array([[0, 0, 1, 4], [0, 0, 2, 1], [0, 0, 3, 5]])\n",
    "X, Y, U, V = zip(*soa)\n",
    "plt.figure()\n",
    "ax = plt.gca()\n",
    "ax.quiver(X, Y, U, V, angles='xy', scale_units='xy', scale=1, color = [\"red\", \"blue\", \"black\"])\n",
    "ax.set_xlim([0, 6])\n",
    "ax.set_ylim([0, 6])\n",
    "plt.title('Vector Addition (a = red, b = blue, a + b = black)')\n",
    "plt.xlabel('$x_1$', fontsize = 20)\n",
    "plt.ylabel('$x_2$', fontsize = 20)\n",
    "plt.grid()"
   ]
  },
  {
   "cell_type": "markdown",
   "metadata": {},
   "source": [
    "We created this plot in such a way that the black vector is the added vector of the red and blue vector. How does this make sense? Recall our instructions: we need to shift either the red or blue vector so that they are \"tip-to-tail\" and then look at the resultant vector. Remember that the vectors can shift anywhere in the 2-d space:"
   ]
  },
  {
   "cell_type": "code",
   "execution_count": 31,
   "metadata": {
    "scrolled": true
   },
   "outputs": [
    {
     "data": {
      "image/png": "[encoded data removed]",
      "text/plain": [
       "<matplotlib.figure.Figure at 0x6156ff160>"
      ]
     },
     "metadata": {},
     "output_type": "display_data"
    }
   ],
   "source": [
    "# shift a so that it begins at the tip of b (2,1)\n",
    "soa = np.array([[2, 1, 1, 4], [0, 0, 2, 1], [0, 0, 3, 5]])\n",
    "X, Y, U, V = zip(*soa)\n",
    "plt.figure()\n",
    "ax = plt.gca()\n",
    "ax.quiver(X, Y, U, V, angles='xy', scale_units='xy', scale=1, color = [\"red\", \"blue\", \"black\"])\n",
    "ax.set_xlim([0, 6])\n",
    "ax.set_ylim([0, 6])\n",
    "plt.title('Vector Addition (a = red, b = blue, a + b = black)')\n",
    "plt.xlabel('$x_1$', fontsize = 20)\n",
    "plt.ylabel('$x_2$', fontsize = 20)\n",
    "plt.grid()"
   ]
  },
  {
   "cell_type": "markdown",
   "metadata": {},
   "source": [
    "Now, if we observe the resultant vector which starts from the tail of blue to the tip of red, it clearly makes sense how this vector is the addition of the blue and red vector. What if we were to shift the blue vector instead of the red vector? "
   ]
  },
  {
   "cell_type": "code",
   "execution_count": 32,
   "metadata": {
    "scrolled": true
   },
   "outputs": [
    {
     "data": {
      "image/png": "[encoded data removed]",
      "text/plain": [
       "<matplotlib.figure.Figure at 0x61594b128>"
      ]
     },
     "metadata": {},
     "output_type": "display_data"
    }
   ],
   "source": [
    "# shift b so that it begins at the tip of a (1,4)\n",
    "soa = np.array([[0, 0, 1, 4], [1, 4, 2, 1], [0, 0, 3, 5]])\n",
    "X, Y, U, V = zip(*soa)\n",
    "plt.figure()\n",
    "ax = plt.gca()\n",
    "ax.quiver(X, Y, U, V, angles='xy', scale_units='xy', scale=1, color = [\"red\", \"blue\", \"black\"])\n",
    "ax.set_xlim([0, 6])\n",
    "ax.set_ylim([0, 6])\n",
    "plt.title('Vector Addition (a = red, b = blue, a + b = black)')\n",
    "plt.xlabel('$x_1$', fontsize = 20)\n",
    "plt.ylabel('$x_2$', fontsize = 20)\n",
    "plt.grid()"
   ]
  },
  {
   "cell_type": "markdown",
   "metadata": {},
   "source": [
    "Again, it is clear how the black vector is the addition of the other two vectors. We also observe that it doesn't matter which vector we shift, the result will be the same (recall property 1 above). "
   ]
  },
  {
   "cell_type": "markdown",
   "metadata": {},
   "source": [
    "Notes:\n",
    "\n",
    "- It is perfectly okay to \"shift\" vectors to different points in the real coordinate space, as long as you maintain their direction and length\n",
    "- If the direction and/or length is changed, it is no longer the same vector\n",
    "- We saw earlier in our discussion of the geometric interpreation of vectors that vectors do NOT have to be drawn with their tip at the origin and now we see why this is useful "
   ]
  },
  {
   "cell_type": "markdown",
   "metadata": {},
   "source": [
    "### Example 4 (Multiplication of a Vector by a Scalar - Algebraically):"
   ]
  },
  {
   "cell_type": "markdown",
   "metadata": {},
   "source": [
    "If $\\pmb a \\in \\mathbb R^2$, $\\pmb c \\in \\mathbb R$, and $\\pmb a = [a_1, a_2]$, then $u\\pmb a = [(u*a_1), (u*a_2)]$"
   ]
  },
  {
   "cell_type": "code",
   "execution_count": 33,
   "metadata": {},
   "outputs": [],
   "source": [
    "a = np.array([2,3])\n",
    "b = np.array([3,1])\n",
    "c = 2\n",
    "d = -3"
   ]
  },
  {
   "cell_type": "code",
   "execution_count": 34,
   "metadata": {},
   "outputs": [
    {
     "data": {
      "text/plain": [
       "array([4, 6])"
      ]
     },
     "execution_count": 34,
     "metadata": {},
     "output_type": "execute_result"
    }
   ],
   "source": [
    "c*a # (2*2, 2*3)"
   ]
  },
  {
   "cell_type": "markdown",
   "metadata": {},
   "source": [
    "### Example 5 (Explore Scalar Multiplication Properties):"
   ]
  },
  {
   "cell_type": "code",
   "execution_count": 35,
   "metadata": {},
   "outputs": [
    {
     "name": "stdout",
     "output_type": "stream",
     "text": [
      "c(a + b) is [10  8] and ca + cb is [10  8]\n"
     ]
    }
   ],
   "source": [
    "print(\"c(a + b) is {} and ca + cb is {}\".format(c*(a + b), c*a + c*b)) # property 5"
   ]
  },
  {
   "cell_type": "code",
   "execution_count": 36,
   "metadata": {
    "scrolled": true
   },
   "outputs": [
    {
     "name": "stdout",
     "output_type": "stream",
     "text": [
      "(c + d)a is [-2 -3] and ca + da is [-2 -3]\n"
     ]
    }
   ],
   "source": [
    "print(\"(c + d)a is {} and ca + da is {}\".format((c+d)*a, c*a + d*a)) # property 6"
   ]
  },
  {
   "cell_type": "code",
   "execution_count": 37,
   "metadata": {
    "scrolled": true
   },
   "outputs": [
    {
     "name": "stdout",
     "output_type": "stream",
     "text": [
      "(cd)a is [-12 -18] and c(da) is [-12 -18]\n"
     ]
    }
   ],
   "source": [
    "print(\"(cd)a is {} and c(da) is {}\".format((c*d)*a, c*(d*a))) # property 7"
   ]
  },
  {
   "cell_type": "code",
   "execution_count": 38,
   "metadata": {
    "scrolled": false
   },
   "outputs": [
    {
     "name": "stdout",
     "output_type": "stream",
     "text": [
      "1*a is [2 3] and a is [2 3]\n"
     ]
    }
   ],
   "source": [
    "print(\"1*a is {} and a is {}\".format(1*a, a)) # property 8"
   ]
  },
  {
   "cell_type": "markdown",
   "metadata": {},
   "source": [
    "### Example 6 (Scalar Multiplication - Geometrically):"
   ]
  },
  {
   "cell_type": "markdown",
   "metadata": {},
   "source": [
    "Vector multiplication with a scalar can be visualized in geometric form quite easily in two dimensions. To multiply a vector by a scalar, you can think of this as \"shrinking\" or \"expanding\" the vector, based on the magnitude of the scalar. For example, if a vector is multiplied by the scalar 2, the vector doubles in size. If it is multipled by the scalar 0.25, it shrinks to a quarter of its original size. "
   ]
  },
  {
   "cell_type": "code",
   "execution_count": 39,
   "metadata": {},
   "outputs": [
    {
     "data": {
      "text/plain": [
       "array([4, 6])"
      ]
     },
     "execution_count": 39,
     "metadata": {},
     "output_type": "execute_result"
    }
   ],
   "source": [
    "a * c"
   ]
  },
  {
   "cell_type": "code",
   "execution_count": 40,
   "metadata": {
    "scrolled": false
   },
   "outputs": [
    {
     "data": {
      "image/png": "[encoded data removed]",
      "text/plain": [
       "<matplotlib.figure.Figure at 0x6154799e8>"
      ]
     },
     "metadata": {},
     "output_type": "display_data"
    }
   ],
   "source": [
    "# multiply the vector a by the scalar c to get the result of ac\n",
    "soa = np.array([[0, 0, 2, 3], [0, 0, 4, 6]])\n",
    "X, Y, U, V = zip(*soa)\n",
    "plt.figure()\n",
    "ax = plt.gca()\n",
    "ax.quiver(X, Y, U, V, angles='xy', scale_units='xy', scale=1, color = [\"red\", \"black\"])\n",
    "ax.set_xlim([0, 6])\n",
    "ax.set_ylim([0, 6])\n",
    "plt.title('Scalar Multiplication (a = red, c * a = black)')\n",
    "plt.xlabel('$x_1$', fontsize = 20)\n",
    "plt.ylabel('$x_2$', fontsize = 20)\n",
    "plt.grid()"
   ]
  },
  {
   "cell_type": "markdown",
   "metadata": {},
   "source": [
    "We can see that the black vector is in the same direction as the red vector and exactly double the size of the red line since we multipled the red vector by 2. "
   ]
  },
  {
   "cell_type": "code",
   "execution_count": 41,
   "metadata": {},
   "outputs": [
    {
     "data": {
      "text/plain": [
       "array([-6, -9])"
      ]
     },
     "execution_count": 41,
     "metadata": {},
     "output_type": "execute_result"
    }
   ],
   "source": [
    "a * d"
   ]
  },
  {
   "cell_type": "code",
   "execution_count": 42,
   "metadata": {
    "scrolled": true
   },
   "outputs": [
    {
     "data": {
      "image/png": "[encoded data removed]",
      "text/plain": [
       "<matplotlib.figure.Figure at 0x6156cafd0>"
      ]
     },
     "metadata": {},
     "output_type": "display_data"
    }
   ],
   "source": [
    "# multiply the vector a by the scalar d to get the result of ad\n",
    "soa = np.array([[0, 0, 2, 3], [0, 0, -6, -9]])\n",
    "X, Y, U, V = zip(*soa)\n",
    "plt.figure()\n",
    "ax = plt.gca()\n",
    "ax.quiver(X, Y, U, V, angles='xy', scale_units='xy', scale=1, color = [\"red\", \"black\"])\n",
    "ax.set_xlim([-10, 10])\n",
    "ax.set_ylim([-10, 10])\n",
    "plt.title('Scalar Multiplication (a = red, d * a = black)')\n",
    "plt.xlabel('$x_1$', fontsize = 20)\n",
    "plt.ylabel('$x_2$', fontsize = 20)\n",
    "plt.grid()"
   ]
  },
  {
   "cell_type": "markdown",
   "metadata": {},
   "source": [
    "We can see that the black vector is in the opposite direction as the red vector and exactly triple the size of the red line since we multipled the red vector by -3. "
   ]
  },
  {
   "cell_type": "markdown",
   "metadata": {},
   "source": [
    "### Problem 1 \n",
    "Create 3 vectors and 1 scalar and call them $\\pmb a$, $\\pmb b$, $\\pmb d$, and $c$, respectively. Show that the 8 properties of vector addition and scalar multiplication with a vector hold.\n",
    "\n",
    "Initialize the vectors and scalar as the following:\n",
    "- $\\pmb a = [1,2,1]$\n",
    "- $\\pmb b = [3,4,5]$\n",
    "- $\\pmb d = [2,3,5]$\n",
    "- $c = 3$"
   ]
  },
  {
   "cell_type": "code",
   "execution_count": 43,
   "metadata": {},
   "outputs": [],
   "source": [
    "# write your code here \n",
    "\n",
    "\n",
    "\n"
   ]
  },
  {
   "cell_type": "markdown",
   "metadata": {},
   "source": [
    "### 7.3.5 Operations with Vectors (Linear Combinations):"
   ]
  },
  {
   "cell_type": "markdown",
   "metadata": {},
   "source": [
    "__Overview:__ \n",
    "- __[Linear Combination](https://en.wikipedia.org/wiki/Linear_combination):__ Linear Combination is the combination of addition of vectors and scalar multiplication. It involves summing vectors, where each vector is multiplied by a set of scalar constants\n",
    "- It is called a __linear__ combination for a reason - the only operations involved are simple arithmetic (addition, subtraction, multiplication, and dvision). We are not, for example, applying an exponent to a vector which would make it a __non-linear__ combination \n",
    "- In general, if we have a set of 3 vectors: ${\\pmb a, \\pmb b, \\pmb c}$, where $\\pmb a, \\pmb b, \\pmb c \\in \\mathbb R^n$, we can add the vectors and multiply each vector by a set of coefficients:  ${c_1\\pmb a + c_2\\pmb b + c_2\\pmb c}$, where $c_1, c_2, c_3 \\in \\mathbb R$, which is known as a linear combination of those vectors \n",
    "- To apply the scalar term as a multiplier and the addition terms as a sum, we can follow the process outlined above with vector addition and scalar multiplication \n",
    "\n",
    "__Helpful Points:__\n",
    "1. Linear Combinations are at the root of many other operations such as solving linear equations, dot product, and many others \n",
    "2. Linear Combinations can be understood both algebraically and geometrically which will be explored below\n",
    "\n",
    "__Practice:__ Examples of Linear Combinations in Python "
   ]
  },
  {
   "cell_type": "markdown",
   "metadata": {},
   "source": [
    "### Example 1 (Linear Combinations - Algebraically):"
   ]
  },
  {
   "cell_type": "markdown",
   "metadata": {},
   "source": [
    "If $\\pmb a, \\pmb b \\in \\mathbb R^2$, and $\\pmb a = [a_1, a_2]$ and $\\pmb b = [b_1, b_2]$, and $c_1, c_2 \\in \\mathbb R^2$, then $c_1\\pmb a + c_2\\pmb b = [(c_1*a_1+c_2*b_1), (c_1*a_2+c_2*b_2)]$ "
   ]
  },
  {
   "cell_type": "code",
   "execution_count": 44,
   "metadata": {},
   "outputs": [],
   "source": [
    "a = np.array([2,3])\n",
    "b = np.array([3,1])\n",
    "c_1 = 2\n",
    "c_2 = -3"
   ]
  },
  {
   "cell_type": "code",
   "execution_count": 45,
   "metadata": {},
   "outputs": [
    {
     "data": {
      "text/plain": [
       "array([-5,  3])"
      ]
     },
     "execution_count": 45,
     "metadata": {},
     "output_type": "execute_result"
    }
   ],
   "source": [
    "c_1*a + c_2*b # (2*2 - 3*3, 2*3 - 3*1)"
   ]
  },
  {
   "cell_type": "code",
   "execution_count": 46,
   "metadata": {},
   "outputs": [
    {
     "data": {
      "text/plain": [
       "array([ 0, -7])"
      ]
     },
     "execution_count": 46,
     "metadata": {},
     "output_type": "execute_result"
    }
   ],
   "source": [
    "c_2*a + c_1*b # (-3*2 + 2*3, -3*3 + 2*1)"
   ]
  },
  {
   "cell_type": "markdown",
   "metadata": {},
   "source": [
    "### Example 2 (Linear Combinations - Geometrically):"
   ]
  },
  {
   "cell_type": "code",
   "execution_count": 47,
   "metadata": {
    "scrolled": true
   },
   "outputs": [
    {
     "data": {
      "image/png": "[encoded data removed]",
      "text/plain": [
       "<matplotlib.figure.Figure at 0x6159ad080>"
      ]
     },
     "metadata": {},
     "output_type": "display_data"
    }
   ],
   "source": [
    "# plot a, b, c_1a, c_2b\n",
    "soa = np.array([[0, 0, 2, 3], [0, 0, 3, 1], [0, 0, 4, 6], [0, 0, -9, -3]])\n",
    "X, Y, U, V = zip(*soa)\n",
    "plt.figure()\n",
    "ax = plt.gca()\n",
    "ax.quiver(X, Y, U, V, angles='xy', scale_units='xy', scale=1, color = [\"red\", \"black\", \"blue\", \"green\"])\n",
    "ax.set_xlim([-10, 10])\n",
    "ax.set_ylim([-10, 10])\n",
    "plt.title('Linear Combination (a = red, b = black, c_1a = blue, c_2b = green)')\n",
    "plt.xlabel('$x_1$', fontsize = 20)\n",
    "plt.ylabel('$x_2$', fontsize = 20)\n",
    "plt.grid()"
   ]
  },
  {
   "cell_type": "markdown",
   "metadata": {},
   "source": [
    "Here, we can observe the two original vectors (red and black) as well as the vectors that are a result of scalar multiplication (blue and green)"
   ]
  },
  {
   "cell_type": "code",
   "execution_count": 48,
   "metadata": {
    "scrolled": true
   },
   "outputs": [
    {
     "data": {
      "image/png": "[encoded data removed]",
      "text/plain": [
       "<matplotlib.figure.Figure at 0x615a90080>"
      ]
     },
     "metadata": {},
     "output_type": "display_data"
    }
   ],
   "source": [
    "# plot c_1a, c_2b, and c_1a + c_2b\n",
    "soa = np.array([[0, 0, 4, 6], [0, 0, -9, -3], [0, 0, -5, 3]])\n",
    "X, Y, U, V = zip(*soa)\n",
    "plt.figure()\n",
    "ax = plt.gca()\n",
    "ax.quiver(X, Y, U, V, angles='xy', scale_units='xy', scale=1, color = [\"blue\", \"green\", \"pink\"])\n",
    "ax.set_xlim([-10, 10])\n",
    "ax.set_ylim([-10, 10])\n",
    "plt.title('Linear Combination (c_1a = blue c_2b = green, c_1a + c_2b = pink)')\n",
    "plt.xlabel('$x_1$', fontsize = 20)\n",
    "plt.ylabel('$x_2$', fontsize = 20)\n",
    "plt.grid()"
   ]
  },
  {
   "cell_type": "markdown",
   "metadata": {},
   "source": [
    "Here, we can be observe the result of the linear combination which is the pink vector. However, similar to our discussion above in vector addition, it is not immediately clear how the pink vector is the sum of the blue and green vector. To make this more ovious, we need to shift either the blue or green vector (see below):"
   ]
  },
  {
   "cell_type": "code",
   "execution_count": 49,
   "metadata": {
    "scrolled": true
   },
   "outputs": [
    {
     "data": {
      "image/png": "[encoded data removed]",
      "text/plain": [
       "<matplotlib.figure.Figure at 0x615b5a780>"
      ]
     },
     "metadata": {},
     "output_type": "display_data"
    }
   ],
   "source": [
    "# plot c_1a, c_2b, and c_1a + c_2b (but shift c_2b vector)\n",
    "soa = np.array([[0, 0, 4, 6], [4, 6, -9, -3], [0, 0, -5, 3]])\n",
    "X, Y, U, V = zip(*soa)\n",
    "plt.figure()\n",
    "ax = plt.gca()\n",
    "ax.quiver(X, Y, U, V, angles='xy', scale_units='xy', scale=1, color = [\"blue\", \"green\", \"pink\"])\n",
    "ax.set_xlim([-10, 10])\n",
    "ax.set_ylim([-10, 10])\n",
    "plt.title('Linear Combination (c_1a = blue c_2b = green, c_1a + c_2b = pink)')\n",
    "plt.xlabel('$x_1$', fontsize = 20)\n",
    "plt.ylabel('$x_2$', fontsize = 20)\n",
    "plt.grid()"
   ]
  },
  {
   "cell_type": "markdown",
   "metadata": {},
   "source": [
    "It is much clearer now that the pink vector is the addition of the green and blue vector. This is all a linear combination is (the combination of multiplication by a scalar and vector addition)."
   ]
  },
  {
   "cell_type": "markdown",
   "metadata": {},
   "source": [
    "### 7.3.6 Operations with Vectors (Vector Norm):"
   ]
  },
  {
   "cell_type": "markdown",
   "metadata": {},
   "source": [
    "__Overview:__ \n",
    "- __[Norm](https://en.wikipedia.org/wiki/Norm_(mathematics):__ The norm is simply a function that assigns a positive length to each vector. There are many norms, but we will focus only on the Euclidean Norm\n",
    "- The Euclidean norm assigns each vector a length equal to the distance from the origin to the tip of the vector (which is why Euclidean norm is referred to as the __magnitude__ of the vector)\n",
    "- In an $n$-dimensional space ($\\mathbb R^n$), the Euclidean norm of an arbitrary vector $\\pmb x = (x_1, x_2, x_3, ..., x_n)$ is given by the following formula:<br>\n",
    "\n",
    "<center> $\\| \\pmb x \\| = \\sqrt{x_1^2 + x_2^2 + ... + x_n^2}$ </center>\n",
    "- This formula follows from the __[Pythagorean Theorem](https://en.wikipedia.org/wiki/Pythagorean_theorem)__\n",
    "\n",
    "__Helpful Points:__\n",
    "1. Euclidean norm is also called the __Euclidean Length__ or $\\pmb L^2$ __distance__ (the power refers to the fact that each element is squared)\n",
    "2. The norm is a scalar quantity, so it will return one number \n",
    "3. The `numpy.linalg` and `scipy.linalg` modules will help us calculate vector norms\n",
    "\n",
    "__Practice:__ Examples of Vector Norm in Python "
   ]
  },
  {
   "cell_type": "markdown",
   "metadata": {},
   "source": [
    "### Example 1 (Understanding Euclidean Norm Formula):"
   ]
  },
  {
   "cell_type": "code",
   "execution_count": 50,
   "metadata": {},
   "outputs": [],
   "source": [
    "c = np.array([3,4])\n",
    "a = np.array([3,0])\n",
    "b = np.array([0,4])"
   ]
  },
  {
   "cell_type": "code",
   "execution_count": 51,
   "metadata": {
    "scrolled": false
   },
   "outputs": [
    {
     "data": {
      "image/png": "[encoded data removed]",
      "text/plain": [
       "<matplotlib.figure.Figure at 0x615b66c50>"
      ]
     },
     "metadata": {},
     "output_type": "display_data"
    }
   ],
   "source": [
    "# plot c, a, and b (shifted)\n",
    "soa = np.array([[0, 0, 3, 4], [0, 0, 3, 0], [3, 0, 0, 4]])\n",
    "X, Y, U, V = zip(*soa)\n",
    "plt.figure()\n",
    "ax = plt.gca()\n",
    "ax.quiver(X, Y, U, V, angles='xy', scale_units='xy', scale=1, color = [\"blue\", \"red\", \"green\"])\n",
    "ax.set_xlim([-1, 5])\n",
    "ax.set_ylim([-1, 5])\n",
    "plt.title('Vector Norm (c = blue, a = red, b = green)')\n",
    "plt.xlabel('$x_1$', fontsize = 20)\n",
    "plt.ylabel('$x_2$', fontsize = 20)\n",
    "plt.grid()"
   ]
  },
  {
   "cell_type": "markdown",
   "metadata": {},
   "source": [
    "The blue vector can be broken down into two \"component\" vectors (the red vector is the x component and the green vector is the y component). The point (3,4) defines the blue vector and is also called the coordinates or elements of the vector. Therefore, if we wanted to calculate the length of the blue vector, how would we do it using pythagorean theorem? \n",
    "\n",
    "- Recall, the theorem: $c^2 = a^2 + b^2$, therefore to get the length of the resultant, we simply take the square root of the sum of the squared lengths of the two components:\n",
    "<center> $\\| \\pmb c \\| = \\sqrt{\\| \\pmb a \\|^2 + \\| \\pmb b \\|^2}$ </center>\n",
    "- We can expand this formula for the squared lengths of $\\pmb a$ and $\\pmb b$:\n",
    "<center> $\\| \\pmb a \\|^2 = (\\sqrt{a_1^2 + a_2^2})^2$ </center>\n",
    "<center> $\\| \\pmb b \\|^2 = (\\sqrt{b_1^2 + b_2^2})^2$ </center>\n",
    "- Plugging this back in the formula of the Pythagorean formula:\n",
    "<center> $\\| \\pmb c \\| = \\sqrt{(\\sqrt{a_1^2 + a_2^2})^2 + (\\sqrt{b_1^2 + b_2^2})^2}$ </center>\n",
    "- We can remove the square root since the square cancels out the square roots:\n",
    "<center> $\\| \\pmb c \\| = \\sqrt{a_1^2 + a_2^2 + b_1^2 + b_2^2}$ </center>\n",
    "- We can plug in values and we will get the following:\n",
    "<center> $\\| \\pmb c \\| = \\sqrt{3^2 + 0^2 + 0^2 + 4^2}$ </center>\n",
    "- Notice this is the same as the original formula:\n",
    "<center> $\\| \\pmb x \\| = \\sqrt{3^2 + 4^2}$ </center>"
   ]
  },
  {
   "cell_type": "markdown",
   "metadata": {},
   "source": [
    "### Example 2 (Calculating Vector Norms - Manually):"
   ]
  },
  {
   "cell_type": "code",
   "execution_count": 52,
   "metadata": {
    "scrolled": false
   },
   "outputs": [
    {
     "data": {
      "image/png": "[encoded data removed]",
      "text/plain": [
       "<matplotlib.figure.Figure at 0x615d2da90>"
      ]
     },
     "metadata": {},
     "output_type": "display_data"
    }
   ],
   "source": [
    "# plot a, b, and c\n",
    "soa = np.array([[0, 0, 1, 2], [0, 0, 3, 4], [0, 0, 1, 0]])\n",
    "X, Y, U, V = zip(*soa)\n",
    "plt.figure()\n",
    "ax = plt.gca()\n",
    "ax.quiver(X, Y, U, V, angles='xy', scale_units='xy', scale=1, color = [\"blue\", \"green\", \"red\"])\n",
    "ax.set_xlim([-1, 5])\n",
    "ax.set_ylim([-1, 5])\n",
    "plt.title('Vector Norm (a = blue, b = green, c = red)')\n",
    "plt.xlabel('$x_1$', fontsize = 20)\n",
    "plt.ylabel('$x_2$', fontsize = 20)\n",
    "plt.grid()"
   ]
  },
  {
   "cell_type": "markdown",
   "metadata": {},
   "source": [
    "The Euclidean Vector Norms of the blue, green, and red vector is simply the length of the vectors. We can calculate the vector lengths manually using the formula written above: \n",
    "\n",
    "> 1. Vector a: $\\| \\pmb a \\| = \\sqrt{1^2 + 2^2} = \\sqrt{5} \\approx 2.24 $\n",
    "> 2. Vector b: $\\| \\pmb b \\| = \\sqrt{3^2 + 4^2} = \\sqrt{25} = 5$\n",
    "> 3. Vector c: $\\| \\pmb c \\| = \\sqrt{1^2 + 0^2} = \\sqrt{1} = 1$"
   ]
  },
  {
   "cell_type": "markdown",
   "metadata": {},
   "source": [
    "The fact that vector $\\pmb c$ had Euclidean norm (or length) equal to 1 is important. This means that the vector had unit length, therefore we would consider this vector a __Unit Vector__. We can also make any vector a unit vector by dividing the vector by its length. For example, we can make both vectors $\\pmb a$ and $\\pmb b$ unit vectors, by dividing by their lengths:\n",
    "\n",
    "- $\\pmb a = \\frac{\\pmb a}{\\| \\pmb a \\|} = [\\frac{1}{2.25}, \\frac{2}{2.25}]$ and now if you take the length of this normalized vector, the value will be 1\n",
    "- $\\pmb b = \\frac{\\pmb b}{\\| \\pmb b \\|} = [\\frac{3}{5}, \\frac{4}{5}]$ and now if you take the length of this normalized vector, the value will be 1"
   ]
  },
  {
   "cell_type": "markdown",
   "metadata": {},
   "source": [
    "### Example 3 (Calculating Vector Norms - Programmatically):"
   ]
  },
  {
   "cell_type": "code",
   "execution_count": 53,
   "metadata": {},
   "outputs": [],
   "source": [
    "a = np.array([1,2])\n",
    "b = np.array([3,4])\n",
    "c = np.array([1,0])"
   ]
  },
  {
   "cell_type": "markdown",
   "metadata": {},
   "source": [
    "### Example 3.1 (Using `numpy.linalg`):"
   ]
  },
  {
   "cell_type": "code",
   "execution_count": 54,
   "metadata": {},
   "outputs": [
    {
     "data": {
      "text/plain": [
       "2.23606797749979"
      ]
     },
     "execution_count": 54,
     "metadata": {},
     "output_type": "execute_result"
    }
   ],
   "source": [
    "np.linalg.norm(a)"
   ]
  },
  {
   "cell_type": "code",
   "execution_count": 55,
   "metadata": {},
   "outputs": [
    {
     "data": {
      "text/plain": [
       "5.0"
      ]
     },
     "execution_count": 55,
     "metadata": {},
     "output_type": "execute_result"
    }
   ],
   "source": [
    "np.linalg.norm(b)"
   ]
  },
  {
   "cell_type": "code",
   "execution_count": 56,
   "metadata": {},
   "outputs": [
    {
     "data": {
      "text/plain": [
       "1.0"
      ]
     },
     "execution_count": 56,
     "metadata": {},
     "output_type": "execute_result"
    }
   ],
   "source": [
    "np.linalg.norm(c)"
   ]
  },
  {
   "cell_type": "markdown",
   "metadata": {},
   "source": [
    "### Example 3.2 (Using `scipy.linalg`):"
   ]
  },
  {
   "cell_type": "code",
   "execution_count": 57,
   "metadata": {},
   "outputs": [
    {
     "data": {
      "text/plain": [
       "2.23606797749979"
      ]
     },
     "execution_count": 57,
     "metadata": {},
     "output_type": "execute_result"
    }
   ],
   "source": [
    "linalg.norm(a)"
   ]
  },
  {
   "cell_type": "code",
   "execution_count": 58,
   "metadata": {},
   "outputs": [
    {
     "data": {
      "text/plain": [
       "5.0"
      ]
     },
     "execution_count": 58,
     "metadata": {},
     "output_type": "execute_result"
    }
   ],
   "source": [
    "linalg.norm(b)"
   ]
  },
  {
   "cell_type": "code",
   "execution_count": 59,
   "metadata": {},
   "outputs": [
    {
     "data": {
      "text/plain": [
       "1.0"
      ]
     },
     "execution_count": 59,
     "metadata": {},
     "output_type": "execute_result"
    }
   ],
   "source": [
    "linalg.norm(c)"
   ]
  },
  {
   "cell_type": "markdown",
   "metadata": {},
   "source": [
    "### 7.3.7 Operations with Vectors (Vector Multiplication - Dot Product):"
   ]
  },
  {
   "cell_type": "markdown",
   "metadata": {},
   "source": [
    "__Overview:__ \n",
    "- __[Dot Product](https://en.wikipedia.org/wiki/Dot_product):__ The dot product is one of two ways to multiply vectors and it takes two equal-length sequences of numbers and returns a single number \n",
    "- The Dot Product can be represented both algebraically and geomtrically:\n",
    "> 1. __Algebraically:__ Algebraically, the dot product is expressed as a linear combination of the elements of the two vectors:\n",
    "<center> If $\\pmb a = [a_1, a_2, a_3]$ and $\\pmb b = [b_1, b_2, b_3]$, then $\\pmb a \\cdot \\pmb b = a_1b_1 + a_2b_2 + a_3b_3$ </center>\n",
    "> 2. __Geometrically:__ Geometrically, the dot product is expressed as the product of the two vectors length (recall the definition of length above) and the cosine of the angle between the two vectors:\n",
    "<center> $\\pmb a \\cdot \\pmb b = \\| \\pmb a \\| \\| \\pmb b \\| cos(\\theta)$, where $\\theta$ is the angle between the vectors </center>\n",
    "- The Dot Product obeys the following laws:\n",
    "> 1. $\\pmb a \\cdot \\pmb b = \\pmb b \\cdot \\pmb a$\n",
    "> 2. $\\pmb a \\cdot (\\pmb b + \\pmb c) = \\pmb a \\cdot \\pmb b + \\pmb a \\cdot \\pmb c$\n",
    "> 3. $(c\\pmb a) \\cdot \\pmb b = c(\\pmb a \\cdot \\pmb b)$\n",
    "> 4. $\\pmb 0 \\cdot \\pmb a = 0$\n",
    "\n",
    "__Helpful Points:__\n",
    "1. Knowing the definition of the Dot Product, we can re-write the Euclidean Norm or Length of a vector in terms of the dot product:\n",
    "<center> $\\| \\pmb a \\| = \\sqrt{\\pmb a \\cdot \\pmb a}$ since $\\pmb a \\cdot \\pmb a = a_1a_1 + a_2a_2 + ... + a_na_n = a_1^2 + a_2^2 + ... a_n^2$ </center>\n",
    "2. Since each term of a dot product will equal a number, the sum will also just be a number. Therefore, the dot product returns a scalar value \n",
    "3. The dot product can be calculated using functions within both the `numpy.linalg` and `scipy.linalg` modules\n",
    "\n",
    "__Practice:__ Examples of Dot Product in Python "
   ]
  },
  {
   "cell_type": "markdown",
   "metadata": {},
   "source": [
    "### Example 1 (Dot Product - Manually):"
   ]
  },
  {
   "cell_type": "code",
   "execution_count": 60,
   "metadata": {},
   "outputs": [],
   "source": [
    "a = np.array([4,3])\n",
    "b = np.array([1,2])"
   ]
  },
  {
   "cell_type": "markdown",
   "metadata": {},
   "source": [
    "### Example 1.1 (Algebraically):"
   ]
  },
  {
   "cell_type": "code",
   "execution_count": 61,
   "metadata": {
    "scrolled": true
   },
   "outputs": [
    {
     "data": {
      "text/plain": [
       "10"
      ]
     },
     "execution_count": 61,
     "metadata": {},
     "output_type": "execute_result"
    }
   ],
   "source": [
    "# dot product of a and b \n",
    "a_dot_b = a[0]*b[0] + a[1]*b[1]\n",
    "a_dot_b"
   ]
  },
  {
   "cell_type": "markdown",
   "metadata": {},
   "source": [
    "### Example 1.2 (Geometrically):"
   ]
  },
  {
   "cell_type": "code",
   "execution_count": 62,
   "metadata": {
    "scrolled": true
   },
   "outputs": [
    {
     "data": {
      "image/png": "[encoded data removed]",
      "text/plain": [
       "<matplotlib.figure.Figure at 0x615dfe6a0>"
      ]
     },
     "metadata": {},
     "output_type": "display_data"
    }
   ],
   "source": [
    "# plot a, b, b-a \n",
    "soa = np.array([[0, 0, 4, 3], [0, 0, 1, 2], [4, 3, -3, -1]])\n",
    "X, Y, U, V = zip(*soa)\n",
    "plt.figure()\n",
    "ax = plt.gca()\n",
    "ax.quiver(X, Y, U, V, angles='xy', scale_units='xy', scale=1, color = [\"blue\", \"red\", \"green\"])\n",
    "ax.set_xlim([0, 5])\n",
    "ax.set_ylim([0, 5])\n",
    "plt.title('Dot Product (a = blue, b = red, b-a = green)')\n",
    "plt.xlabel('$x_1$', fontsize = 20)\n",
    "plt.ylabel('$x_2$', fontsize = 20)\n",
    "plt.grid()"
   ]
  },
  {
   "cell_type": "markdown",
   "metadata": {},
   "source": [
    "How can we understand the geometric interpretation of the dot product in terms of the angles between $\\pmb a$ and $\\pmb b$ according to the formula: \n",
    "<center>$\\pmb a \\cdot \\pmb b = \\| \\pmb a \\| \\| \\pmb b \\| cos(\\theta)$ </center>\n",
    "\n",
    "- Recall __[The Law of Cosines](https://en.wikipedia.org/wiki/Law_of_cosines)__ which states for a triangle like the one we have above, we can express the magnitude of the \"third\" vector in terms of the other two vectors length and the angle between them:\n",
    "<center> $\\| \\pmb b - \\pmb a \\|^2 = \\| \\pmb a \\|^2 + \\| \\pmb b\\|^2 - 2\\| \\pmb a \\|\\| \\pmb b\\|cos(\\theta)$ </center><br>\n",
    "- Using our new representation of the length of a vector, we can express the lengths as dot products:\n",
    "> $\\| \\pmb b - \\pmb a \\|^2 = (\\pmb b - \\pmb a) \\cdot (\\pmb b - \\pmb a)$<br>\n",
    "> $\\| \\pmb b \\|^2 = \\pmb b \\cdot \\pmb b$<br>\n",
    "> $\\| \\pmb a \\|^2 = \\pmb a \\cdot \\pmb a$<br>\n",
    "\n",
    "<center> $(\\pmb b - \\pmb a) \\cdot (\\pmb b - \\pmb a) = \\pmb b \\cdot \\pmb b + \\pmb a \\cdot \\pmb a - 2\\| \\pmb a \\| \\| \\pmb b \\|cos(\\theta)$</center>\n",
    "<br>\n",
    "- Using the dot product properties above and some simple algebra, we can reduce this equation to the following (which is exactly what we had above):<br>\n",
    "<center> $(\\pmb a \\cdot \\pmb b) = \\| \\pmb a \\| \\| \\pmb b \\|cos(\\theta)$</center>\n",
    "\n",
    "Note: This equation is typically used to calculate the angle between vectors, not to calculate the dot product of two vectors "
   ]
  },
  {
   "cell_type": "code",
   "execution_count": 63,
   "metadata": {},
   "outputs": [
    {
     "data": {
      "text/plain": [
       "26.565051177077994"
      ]
     },
     "execution_count": 63,
     "metadata": {},
     "output_type": "execute_result"
    }
   ],
   "source": [
    "# angle between vectors a and b \n",
    "length_a = math.sqrt(a[0]**2 + a[1]**2)\n",
    "length_b = math.sqrt(b[0]**2 + b[1]**2)\n",
    "math.degrees(math.acos(a_dot_b / (length_a * length_b))) # inverse cos and convert from radians to degrees"
   ]
  },
  {
   "cell_type": "markdown",
   "metadata": {},
   "source": [
    "### Example 2 (Dot Product - Programmatically):"
   ]
  },
  {
   "cell_type": "code",
   "execution_count": 64,
   "metadata": {},
   "outputs": [],
   "source": [
    "a = np.array([4,3])\n",
    "b = np.array([1,2])"
   ]
  },
  {
   "cell_type": "code",
   "execution_count": 65,
   "metadata": {
    "scrolled": true
   },
   "outputs": [
    {
     "data": {
      "text/plain": [
       "10"
      ]
     },
     "execution_count": 65,
     "metadata": {},
     "output_type": "execute_result"
    }
   ],
   "source": [
    "# dot product of vectors a and b \n",
    "np.dot(a, b)"
   ]
  },
  {
   "cell_type": "code",
   "execution_count": 66,
   "metadata": {
    "scrolled": true
   },
   "outputs": [
    {
     "data": {
      "text/plain": [
       "26.565051177077994"
      ]
     },
     "execution_count": 66,
     "metadata": {},
     "output_type": "execute_result"
    }
   ],
   "source": [
    "# angle between vectors a and b \n",
    "math.degrees(math.acos(np.dot(a, b) / (math.sqrt(np.dot(a,a)) * math.sqrt(np.dot(b,b)))))"
   ]
  },
  {
   "cell_type": "markdown",
   "metadata": {},
   "source": [
    "### 7.3.8 Angles Between Vectors - Part 1:"
   ]
  },
  {
   "cell_type": "markdown",
   "metadata": {},
   "source": [
    "__Overview:__ \n",
    "- Using the formula of dot product expressed in terms of the angle between the two vectors $(\\pmb a \\cdot \\pmb b) = \\| \\pmb a \\| \\| \\pmb b \\|cos(\\theta)$, we can glean some important properties of vectors \n",
    "> 1. __Property 1:__ If $\\pmb a$ and $\\pmb b$ are two vectors where $\\pmb b = c \\pmb a$ and $c \\geq 0, c \\in \\mathbb R$, then we have two vectors that are scalar multiples of each other where the scalar is greater than zero and the angle between the vectors is $0^\\circ$ degrees. Since the cosine of 0 is equal to 1, then $\\pmb a \\cdot \\pmb b$ is equal to $\\| \\pmb a \\| \\| \\pmb b \\|$\n",
    "> 2. __Property 2:__ If $\\pmb a$ and $\\pmb b$ are two vectors where $\\pmb b = c \\pmb a$ and $c \\leq 0, c \\in \\mathbb R$, then we have two vectors that are scalar multiples of each other where the scalar is less than zero and the angle between the vectors is $180^\\circ$ degrees. Since the cosine of 180 is equal to -1, then $\\pmb a \\cdot \\pmb b$ is equal to $-\\| \\pmb a \\| \\| \\pmb b \\|$\n",
    "> 3. __Property 3:__ If $\\pmb a$ and $\\pmb b$ are two non-zero vectors and $\\pmb a \\perp \\pmb b$, then we have two vectors that are perpendicular to each other and the angle between the vectors is $90^\\circ$ degrees. Since the cosine of 90 is equal to 0, then $\\pmb a \\cdot \\pmb b$ is equal to 0\n",
    "\n",
    "__Helpful Notes:__ \n",
    "1. If $\\pmb a$ and $\\pmb b$ are any two vectors (including $\\pmb 0$):\n",
    "> - It is always true to say that if $\\pmb a \\perp \\pmb b$, then $\\pmb a \\cdot \\pmb b$ is equal to 0\n",
    "> - It is not always true to say that if $\\pmb a \\cdot \\pmb b$ is equal to 0, then $\\pmb a \\perp \\pmb b$. This is because $\\pmb 0 \\cdot \\pmb a$ is equal to 0, but $\\pmb 0 \\not\\perp \\pmb a$\n",
    "2. If $\\pmb a$ and $\\pmb b$ are any two non-zero vectors (excluding $\\pmb 0$):\n",
    "> - It is always true to say that if $\\pmb a \\perp \\pmb b$, then $\\pmb a \\cdot \\pmb b$ is equal to 0\n",
    "> - It is always true to say that if $\\pmb a \\cdot \\pmb b$ is equal to 0, then $\\pmb a \\perp \\pmb b$\n",
    "3. __[Perpendicularity](https://en.wikipedia.org/wiki/Perpendicular):__ Perpendicularity refers to any two vectors that are at 90 degrees to each other ($\\pmb a \\cdot \\pmb b = 0$ and $\\pmb a, \\pmb b \\neq \\pmb 0$) \n",
    "4. __[Orthogonality](https://en.wikipedia.org/wiki/Orthogonality):__ Orthogonality generalizes the idea of perpendicular vectors and says that two vectors are orthogonal if their dot product is equal to 0 or one of the two vectors is equal to the 0 vector (since the zero vector dot any vector is equal to 0)\n",
    "\n",
    "__Practice:__ Examples of working with angles between vectors in Python "
   ]
  },
  {
   "cell_type": "markdown",
   "metadata": {},
   "source": [
    "### Example 1 (Cosine Cuve):\n",
    "\n",
    "To understand the possible scenarios that arise as a result of the cosine of different angles, we should make sure we are comfortable with what the cosine curve looks like."
   ]
  },
  {
   "cell_type": "code",
   "execution_count": 67,
   "metadata": {
    "scrolled": true
   },
   "outputs": [
    {
     "data": {
      "image/png": "[encoded data removed]",
      "text/plain": [
       "<matplotlib.figure.Figure at 0x615653198>"
      ]
     },
     "metadata": {},
     "output_type": "display_data"
    }
   ],
   "source": [
    "x = np.arange(360)\n",
    "y = np.cos(np.deg2rad(x))\n",
    "plt.plot(x, y)\n",
    "plt.show()"
   ]
  },
  {
   "cell_type": "markdown",
   "metadata": {},
   "source": [
    "### Example 2 (Property 1 - Dot Product of Scalar Multiples with c > 0):"
   ]
  },
  {
   "cell_type": "code",
   "execution_count": 68,
   "metadata": {},
   "outputs": [],
   "source": [
    "a = np.array([1,1])\n",
    "b = np.array([2,2]) # c = 2 and b = ca"
   ]
  },
  {
   "cell_type": "code",
   "execution_count": 69,
   "metadata": {
    "scrolled": false
   },
   "outputs": [
    {
     "data": {
      "image/png": "[encoded data removed]",
      "text/plain": [
       "<matplotlib.figure.Figure at 0x615f8f5c0>"
      ]
     },
     "metadata": {},
     "output_type": "display_data"
    }
   ],
   "source": [
    "# plot a, b\n",
    "soa = np.array([[0, 0, 1, 1], [0, 0, 2, 2]])\n",
    "X, Y, U, V = zip(*soa)\n",
    "plt.figure()\n",
    "ax = plt.gca()\n",
    "ax.quiver(X, Y, U, V, angles='xy', scale_units='xy', scale=1, color = [\"blue\", \"red\"])\n",
    "ax.set_xlim([0, 5])\n",
    "ax.set_ylim([0, 5])\n",
    "plt.title('Vector Angles (a = blue, b = red)')\n",
    "plt.xlabel('$x_1$', fontsize = 20)\n",
    "plt.ylabel('$x_2$', fontsize = 20)\n",
    "plt.grid()"
   ]
  },
  {
   "cell_type": "code",
   "execution_count": 70,
   "metadata": {
    "scrolled": true
   },
   "outputs": [
    {
     "name": "stdout",
     "output_type": "stream",
     "text": [
      "a dot b is 4 and the product of a and b length and cos(theta) is 4.0\n"
     ]
    }
   ],
   "source": [
    "# compare lhs to rhs \n",
    "a_dot_b = np.dot(a, b)\n",
    "a_length = math.sqrt(np.dot(a,a))\n",
    "b_length = math.sqrt(np.dot(b,b))\n",
    "cos_theta = np.cos(np.deg2rad(0))\n",
    "print(\"a dot b is {} and the product of a and b length and cos(theta) is {}\".format(a_dot_b, round(a_length*b_length*cos_theta,1)))"
   ]
  },
  {
   "cell_type": "markdown",
   "metadata": {},
   "source": [
    "### Example 2 (Property 2 - Dot Product of Scalar Multiples with c < 0):"
   ]
  },
  {
   "cell_type": "code",
   "execution_count": 71,
   "metadata": {},
   "outputs": [],
   "source": [
    "a = np.array([1,1])\n",
    "b = np.array([-2,-2]) # c = -2 and b = ca"
   ]
  },
  {
   "cell_type": "code",
   "execution_count": 72,
   "metadata": {
    "scrolled": false
   },
   "outputs": [
    {
     "data": {
      "image/png": "[encoded data removed]",
      "text/plain": [
       "<matplotlib.figure.Figure at 0x615f9f860>"
      ]
     },
     "metadata": {},
     "output_type": "display_data"
    }
   ],
   "source": [
    "# plot a, b\n",
    "soa = np.array([[0, 0, 1, 1], [0, 0, -2, -2]])\n",
    "X, Y, U, V = zip(*soa)\n",
    "plt.figure()\n",
    "ax = plt.gca()\n",
    "ax.quiver(X, Y, U, V, angles='xy', scale_units='xy', scale=1, color = [\"blue\", \"red\"])\n",
    "ax.set_xlim([-5, 5])\n",
    "ax.set_ylim([-5, 5])\n",
    "plt.title('Vector Angles (a = blue, b = red)')\n",
    "plt.xlabel('$x_1$', fontsize = 20)\n",
    "plt.ylabel('$x_2$', fontsize = 20)\n",
    "plt.grid()"
   ]
  },
  {
   "cell_type": "code",
   "execution_count": 73,
   "metadata": {
    "scrolled": false
   },
   "outputs": [
    {
     "name": "stdout",
     "output_type": "stream",
     "text": [
      "a dot b is -4 and the product of a and b length and cos(theta) is -4.0\n"
     ]
    }
   ],
   "source": [
    "# compare lhs to rhs \n",
    "a_dot_b = np.dot(a, b)\n",
    "a_length = math.sqrt(np.dot(a,a))\n",
    "b_length = math.sqrt(np.dot(b,b))\n",
    "cos_theta = np.cos(np.deg2rad(180))\n",
    "print(\"a dot b is {} and the product of a and b length and cos(theta) is {}\".format(a_dot_b, round(a_length*b_length*cos_theta,1)))"
   ]
  },
  {
   "cell_type": "markdown",
   "metadata": {},
   "source": [
    "### Example 3 (Property 3 - Dot Product of Perpendicular Vectors):"
   ]
  },
  {
   "cell_type": "code",
   "execution_count": 74,
   "metadata": {},
   "outputs": [],
   "source": [
    "a = np.array([3,0])\n",
    "b = np.array([0,4]) "
   ]
  },
  {
   "cell_type": "code",
   "execution_count": 75,
   "metadata": {
    "scrolled": false
   },
   "outputs": [
    {
     "data": {
      "image/png": "[encoded data removed]",
      "text/plain": [
       "<matplotlib.figure.Figure at 0x615f8f0b8>"
      ]
     },
     "metadata": {},
     "output_type": "display_data"
    }
   ],
   "source": [
    "# plot a, b\n",
    "soa = np.array([[0, 0, 3, 0], [0, 0, 0, 4]])\n",
    "X, Y, U, V = zip(*soa)\n",
    "plt.figure()\n",
    "ax = plt.gca()\n",
    "ax.quiver(X, Y, U, V, angles='xy', scale_units='xy', scale=1, color = [\"blue\", \"red\"])\n",
    "ax.set_xlim([-1, 5])\n",
    "ax.set_ylim([-1, 5])\n",
    "plt.title('Vector Angles (a = blue, b = red)')\n",
    "plt.xlabel('$x_1$', fontsize = 20)\n",
    "plt.ylabel('$x_2$', fontsize = 20)\n",
    "plt.grid()"
   ]
  },
  {
   "cell_type": "code",
   "execution_count": 76,
   "metadata": {
    "scrolled": false
   },
   "outputs": [
    {
     "name": "stdout",
     "output_type": "stream",
     "text": [
      "a dot b is 0 and the product of a and b length and cos(theta) is 0.0\n"
     ]
    }
   ],
   "source": [
    "# compare lhs to rhs \n",
    "a_dot_b = np.dot(a, b)\n",
    "a_length = math.sqrt(np.dot(a,a))\n",
    "b_length = math.sqrt(np.dot(b,b))\n",
    "cos_theta = np.cos(np.deg2rad(90))\n",
    "print(\"a dot b is {} and the product of a and b length and cos(theta) is {}\".format(a_dot_b, round(a_length*b_length*cos_theta,1)))"
   ]
  },
  {
   "cell_type": "markdown",
   "metadata": {},
   "source": [
    "### Problem 2:\n",
    "\n",
    "Compute the dot product of the following set of vectors: \n",
    "\n",
    "Set 1: \n",
    "$\\pmb a = [1,3]$\n",
    "$\\pmb b = [2,6]$\n",
    "\n",
    "Set 2:\n",
    "$\\pmb c = [2,1]$\n",
    "$\\pmb d = [-8,-4]$\n",
    "\n",
    "Set 3:\n",
    "$\\pmb e = [4,0]$\n",
    "$\\pmb f = [0,6]$\n",
    "\n",
    "Comment on the angle between each set of vectors. "
   ]
  },
  {
   "cell_type": "code",
   "execution_count": null,
   "metadata": {},
   "outputs": [],
   "source": [
    "# write your code here \n",
    "\n",
    "\n",
    "\n"
   ]
  },
  {
   "cell_type": "markdown",
   "metadata": {},
   "source": [
    "### 7.3.9 Operations with Vectors (Vector Multiplication - Cross Product):"
   ]
  },
  {
   "cell_type": "markdown",
   "metadata": {},
   "source": [
    "__Overview:__\n",
    "- __[Cross Product](https://en.wikipedia.org/wiki/Cross_product):__ The Cross Product is the second of two ways to multiply vectors and it takes two vectors in two-dimensional space and returns a vector that is perpendicular to the two original vectors \n",
    "- The Cross Product can be represented both algebraically and geomtrically:\n",
    "> 1. __Algebraically:__ Algebraically, the cross product is expressed as a seemingly arbitrary combination of the component elements: \n",
    "<center> If $\\pmb a = [a_1, a_2, a_3]$ and $\\pmb b = [b_1, b_2, b_3]$, then $\\pmb a \\times \\pmb b = [a_2b_3 - a_3b_2, a_3b_1 - a_1b_3, a_1b_2 - a_2b_1]$ </center>\n",
    "> 2. __Geometrically:__ Geometrically, the cross product is expressed as the product of the two vectors length (recall the definition of length above) and the sin of the angle between the two vectors:\n",
    "<center> $\\| \\pmb a \\times \\pmb b \\| = \\| \\pmb a \\| \\| \\pmb b \\| sin(\\theta)$, where $\\theta$ is the angle between the vectors </center>\n",
    "- The Cross Product obeys the following laws:\n",
    "> 1. $\\pmb a \\times \\pmb b = -\\pmb b \\times \\pmb a$\n",
    "> 2. $(c\\pmb a) \\times \\pmb b = \\pmb a \\times (c \\pmb b) = c(\\pmb a \\times \\pmb b)$\n",
    "> 3. $\\pmb a \\times (\\pmb b + \\pmb c) = \\pmb a \\times \\pmb b + \\pmb a \\times \\pmb c$\n",
    "> 4. $\\pmb a \\cdot (\\pmb b \\times \\pmb c) = (\\pmb a \\times \\pmb b) \\cdot \\pmb c$\n",
    "> 5. $\\pmb a \\times (\\pmb b \\times \\pmb c) = (\\pmb c \\cdot \\pmb a)\\pmb b - (\\pmb b \\cdot \\pmb a)\\pmb c$\n",
    "\n",
    "__Helpful Points:__\n",
    "1. The Cross Product can only operate in $\\mathbb R^3$, where the Dot Product can operate in any $n$-dimensional space \n",
    "2. The Cross Product returns a vector, whereas the Dot Product returns a number \n",
    "\n",
    "__Practice:__ Examples of Cross Product in Python "
   ]
  },
  {
   "cell_type": "markdown",
   "metadata": {},
   "source": [
    "### Example 1 (Cross Product - Manually):"
   ]
  },
  {
   "cell_type": "code",
   "execution_count": 77,
   "metadata": {},
   "outputs": [],
   "source": [
    "a = np.array([4,3,1])\n",
    "b = np.array([1,2,1])"
   ]
  },
  {
   "cell_type": "markdown",
   "metadata": {},
   "source": [
    "### Example 1.1 (Algebraically):"
   ]
  },
  {
   "cell_type": "code",
   "execution_count": 78,
   "metadata": {
    "scrolled": true
   },
   "outputs": [
    {
     "name": "stdout",
     "output_type": "stream",
     "text": [
      "a cross b is (1, -3, 5)\n"
     ]
    }
   ],
   "source": [
    "# cross product of a and b \n",
    "a_cross_b_1 = a[1]*b[2] - a[2]*b[1]\n",
    "a_cross_b_2 = a[2]*b[0] - a[0]*b[2]\n",
    "a_cross_b_3 = a[0]*b[1] - a[1]*b[0]\n",
    "print(\"a cross b is ({}, {}, {})\".format(a_cross_b_1, a_cross_b_2, a_cross_b_3))"
   ]
  },
  {
   "cell_type": "code",
   "execution_count": 79,
   "metadata": {},
   "outputs": [
    {
     "name": "stdout",
     "output_type": "stream",
     "text": [
      "a cross b dot a is 0\n",
      "a cross b dot b is 0\n"
     ]
    }
   ],
   "source": [
    "# check that a cross b is orthogonal to a and b\n",
    "a_cross_b = np.array([1, -3, 5])\n",
    "print(\"a cross b dot a is {}\".format(np.dot(a_cross_b, a)))\n",
    "print(\"a cross b dot b is {}\".format(np.dot(a_cross_b, b)))"
   ]
  },
  {
   "cell_type": "markdown",
   "metadata": {},
   "source": [
    "### Example 1.2 (Geometrically):"
   ]
  },
  {
   "cell_type": "code",
   "execution_count": 80,
   "metadata": {
    "scrolled": true
   },
   "outputs": [
    {
     "data": {
      "image/png": "[encoded data removed]",
      "text/plain": [
       "<matplotlib.figure.Figure at 0x615f95a20>"
      ]
     },
     "metadata": {},
     "output_type": "display_data"
    }
   ],
   "source": [
    "fig = plt.figure()\n",
    "ax = fig.gca(projection=\"3d\")\n",
    "soa = np.array([[0, 0, 0, 4, 3, 1], [0, 0, 0, 1, 2, 1], [0, 0, 0, 1, -3, 5]])\n",
    "X, Y, Z, U, V, W = zip(*soa)\n",
    "ax.set_xlim3d(0, 5)\n",
    "ax.set_ylim3d(0, 5)\n",
    "ax.set_zlim3d(0, 5)\n",
    "ax.quiver(X, Y, Z, U, V, W, length=1, arrow_length_ratio = 0.1, colors = [\"blue\", \"green\", \"red\"])\n",
    "plt.title('Cross Product (a = blue, b = green, a x b = \"red\")')\n",
    "ax.set_xlabel('$x_1$', fontsize=20)\n",
    "ax.set_ylabel('$x_2$', fontsize=20)\n",
    "ax.set_zlabel('$x_3$', fontsize=20)\n",
    "plt.show()"
   ]
  },
  {
   "cell_type": "code",
   "execution_count": 81,
   "metadata": {},
   "outputs": [
    {
     "data": {
      "text/plain": [
       "28.27249421331206"
      ]
     },
     "execution_count": 81,
     "metadata": {},
     "output_type": "execute_result"
    }
   ],
   "source": [
    "# angle between vectors a and b \n",
    "length_a = math.sqrt(a[0]**2 + a[1]**2 + a[2]**2)\n",
    "length_b = math.sqrt(b[0]**2 + b[1]**2 + b[2]**2)\n",
    "length_a_cross_b = math.sqrt(a_cross_b[0]**2 + a_cross_b[1]**2 + a_cross_b[2]**2)\n",
    "math.degrees(math.asin(length_a_cross_b / (length_a * length_b))) # inverse sin and convert from radians to degrees"
   ]
  },
  {
   "cell_type": "markdown",
   "metadata": {},
   "source": [
    "### Example 2 (Cross Product - Programmatically):"
   ]
  },
  {
   "cell_type": "code",
   "execution_count": 82,
   "metadata": {},
   "outputs": [],
   "source": [
    "a = np.array([4,3,1])\n",
    "b = np.array([1,2,1])"
   ]
  },
  {
   "cell_type": "code",
   "execution_count": 83,
   "metadata": {
    "scrolled": true
   },
   "outputs": [
    {
     "data": {
      "text/plain": [
       "array([ 1, -3,  5])"
      ]
     },
     "execution_count": 83,
     "metadata": {},
     "output_type": "execute_result"
    }
   ],
   "source": [
    "# cross product of vectors a and b \n",
    "np.cross(a, b)"
   ]
  },
  {
   "cell_type": "code",
   "execution_count": 84,
   "metadata": {
    "scrolled": true
   },
   "outputs": [
    {
     "data": {
      "text/plain": [
       "28.27249421331206"
      ]
     },
     "execution_count": 84,
     "metadata": {},
     "output_type": "execute_result"
    }
   ],
   "source": [
    "# angle between vectors a and b \n",
    "math.degrees(math.asin(math.sqrt(np.dot(np.cross(a,b), np.cross(a,b))) / (math.sqrt(np.dot(a,a)) * math.sqrt(np.dot(b,b)))))"
   ]
  },
  {
   "cell_type": "markdown",
   "metadata": {},
   "source": [
    "### 7.3.10 Angles Between Vectors - Part 2:"
   ]
  },
  {
   "cell_type": "markdown",
   "metadata": {},
   "source": [
    "__Overview:__ \n",
    "- Using the formula of cross product expressed in terms of the angle between the two vectors $\\| \\pmb a \\times \\pmb b \\| = \\| \\pmb a \\| \\| \\pmb b \\|sin(\\theta)$, we can glean some important properties of vectors \n",
    "> 1. __Property 1:__ If $\\pmb a$ and $\\pmb b$ are two vectors where $\\pmb b = c \\pmb a$ and $c \\geq 0, c \\in \\mathbb R$, then we have two vectors that are scalar multiples of each other where the scalar is greater than zero and the angle between the vectors is $0^\\circ$ degrees. Since the sin of 0 is equal to 0, then $\\pmb a \\times \\pmb b$ is equal to 0\n",
    "> 2. __Property 2:__ If $\\pmb a$ and $\\pmb b$ are two vectors where $\\pmb b = c \\pmb a$ and $c \\leq 0, c \\in \\mathbb R$, then we have two vectors that are scalar multiples of each other where the scalar is less than zero and the angle between the vectors is $180^\\circ$ degrees. Since the sine of 180 is equal to 0, then $\\pmb a \\times \\pmb b$ is equal to 0\n",
    "> 3. __Property 3:__ If $\\pmb a$ and $\\pmb b$ are two non-zero vectors and $\\pmb a \\perp \\pmb b$, then we have two vectors that are perpendicular to each other and the angle between the vectors is $90^\\circ$ degrees. Since the sin of 90 is equal to 1, then $\\pmb a \\times \\pmb b$ is equal to $\\| \\pmb a \\| \\| \\pmb b \\|$\n",
    "\n",
    "__Helpful Notes:__ \n",
    "1. We can explore the angle properties below in a similar fashion as we did with dot product \n",
    "\n",
    "__Practice:__ Examples of working with angles between vectors (part 2) in Python "
   ]
  },
  {
   "cell_type": "markdown",
   "metadata": {},
   "source": [
    "### Example 1 (Sine Cuve):\n",
    "\n",
    "To understand the possible scenarios that arise as a result of the sine of different angles, we should make sure we are comfortable with what the sine curve looks like."
   ]
  },
  {
   "cell_type": "code",
   "execution_count": 85,
   "metadata": {
    "scrolled": true
   },
   "outputs": [
    {
     "data": {
      "image/png": "[encoded data removed]",
      "text/plain": [
       "<matplotlib.figure.Figure at 0x615e13f98>"
      ]
     },
     "metadata": {},
     "output_type": "display_data"
    }
   ],
   "source": [
    "x = np.arange(360)\n",
    "y = np.sin(np.deg2rad(x))\n",
    "plt.plot(x, y)\n",
    "plt.show()"
   ]
  },
  {
   "cell_type": "markdown",
   "metadata": {},
   "source": [
    "### Example 2 (Property 1 - CrossProduct of Scalar Multiples with c > 0):"
   ]
  },
  {
   "cell_type": "code",
   "execution_count": 86,
   "metadata": {},
   "outputs": [],
   "source": [
    "a = np.array([1,1,1])\n",
    "b = np.array([2,2,2]) # c = 2 and b = ca"
   ]
  },
  {
   "cell_type": "code",
   "execution_count": 87,
   "metadata": {
    "scrolled": false
   },
   "outputs": [
    {
     "data": {
      "image/png": "[encoded data removed]",
      "text/plain": [
       "<matplotlib.figure.Figure at 0x6159527f0>"
      ]
     },
     "metadata": {},
     "output_type": "display_data"
    }
   ],
   "source": [
    "fig = plt.figure()\n",
    "ax = fig.gca(projection=\"3d\")\n",
    "soa = np.array([[0, 0, 0, 1, 1, 1], [0, 0, 0, 2, 2, 2], [0, 0, 0, 0, 0, 0]])\n",
    "X, Y, Z, U, V, W = zip(*soa)\n",
    "ax.set_xlim3d(0, 5)\n",
    "ax.set_ylim3d(0, 5)\n",
    "ax.set_zlim3d(0, 5)\n",
    "ax.quiver(X, Y, Z, U, V, W, length=1, arrow_length_ratio = 0.1, colors = [\"blue\", \"green\"])\n",
    "plt.title('Cross Product (a = blue, b = green, a x b = \"red\")')\n",
    "ax.set_xlabel('$x_1$', fontsize=20)\n",
    "ax.set_ylabel('$x_2$', fontsize=20)\n",
    "ax.set_zlabel('$x_3$', fontsize=20)\n",
    "plt.show()"
   ]
  },
  {
   "cell_type": "code",
   "execution_count": 88,
   "metadata": {
    "scrolled": true
   },
   "outputs": [
    {
     "name": "stdout",
     "output_type": "stream",
     "text": [
      "a cross b is 0.0 and the product of a and b length and sin(theta) is 0.0\n"
     ]
    }
   ],
   "source": [
    "# compare lhs to rhs \n",
    "a_cross_b = np.cross(a, b)\n",
    "a_length = math.sqrt(np.dot(a,a))\n",
    "b_length = math.sqrt(np.dot(b,b))\n",
    "sin_theta = np.sin(np.deg2rad(0))\n",
    "print(\"a cross b is {} and the product of a and b length and sin(theta) is {}\".format(math.sqrt(np.dot(a_cross_b, a_cross_b)), round(a_length*b_length*sin_theta,1)))"
   ]
  },
  {
   "cell_type": "markdown",
   "metadata": {},
   "source": [
    "### Example 2 (Property 2 - Cross Product of Scalar Multiples with c < 0):"
   ]
  },
  {
   "cell_type": "code",
   "execution_count": 89,
   "metadata": {},
   "outputs": [],
   "source": [
    "a = np.array([1,1,1])\n",
    "b = np.array([-2,-2,-2]) # c = -2 and b = ca"
   ]
  },
  {
   "cell_type": "code",
   "execution_count": 90,
   "metadata": {
    "scrolled": false
   },
   "outputs": [
    {
     "data": {
      "image/png": "[encoded data removed]",
      "text/plain": [
       "<matplotlib.figure.Figure at 0x6154b3390>"
      ]
     },
     "metadata": {},
     "output_type": "display_data"
    }
   ],
   "source": [
    "fig = plt.figure()\n",
    "ax = fig.gca(projection=\"3d\")\n",
    "soa = np.array([[0, 0, 0, 1, 1, 1], [0, 0, 0, -2, -2, -2], [0, 0, 0, 0, 0, 0]])\n",
    "X, Y, Z, U, V, W = zip(*soa)\n",
    "ax.set_xlim3d(-5, 5)\n",
    "ax.set_ylim3d(-5, 5)\n",
    "ax.set_zlim3d(0, 5)\n",
    "ax.quiver(X, Y, Z, U, V, W, length=1, arrow_length_ratio = 0.1, colors = [\"blue\", \"green\"])\n",
    "plt.title('Cross Product (a = blue, b = green, a x b = \"red\")')\n",
    "ax.set_xlabel('$x_1$', fontsize=20)\n",
    "ax.set_ylabel('$x_2$', fontsize=20)\n",
    "ax.set_zlabel('$x_3$', fontsize=20)\n",
    "plt.show()"
   ]
  },
  {
   "cell_type": "code",
   "execution_count": 91,
   "metadata": {},
   "outputs": [
    {
     "name": "stdout",
     "output_type": "stream",
     "text": [
      "a cross b is 0.0 and the product of a and b length and sin(theta) is 0.0\n"
     ]
    }
   ],
   "source": [
    "# compare lhs to rhs \n",
    "a_cross_b = np.cross(a, b)\n",
    "a_length = math.sqrt(np.dot(a,a))\n",
    "b_length = math.sqrt(np.dot(b,b))\n",
    "sin_theta = np.sin(np.deg2rad(180))\n",
    "print(\"a cross b is {} and the product of a and b length and sin(theta) is {}\".format(math.sqrt(np.dot(a_cross_b, a_cross_b)), round(a_length*b_length*sin_theta,1)))"
   ]
  },
  {
   "cell_type": "markdown",
   "metadata": {},
   "source": [
    "### Example 3 (Property 3 - Cross Product of Perpendicular Vectors):"
   ]
  },
  {
   "cell_type": "code",
   "execution_count": 92,
   "metadata": {},
   "outputs": [],
   "source": [
    "a = np.array([3,0,0])\n",
    "b = np.array([0,3,0])"
   ]
  },
  {
   "cell_type": "code",
   "execution_count": 93,
   "metadata": {
    "scrolled": false
   },
   "outputs": [
    {
     "data": {
      "image/png": "[encoded data removed]",
      "text/plain": [
       "<matplotlib.figure.Figure at 0x615ba96a0>"
      ]
     },
     "metadata": {},
     "output_type": "display_data"
    }
   ],
   "source": [
    "fig = plt.figure()\n",
    "ax = fig.gca(projection=\"3d\")\n",
    "soa = np.array([[0, 0, 0, 3, 0, 0], [0, 0, 0, 0, 3, 0], [0, 0, 0, 0, 0, 9]])\n",
    "X, Y, Z, U, V, W = zip(*soa)\n",
    "ax.set_xlim3d(0, 5)\n",
    "ax.set_ylim3d(0, 5)\n",
    "ax.set_zlim3d(0, 10)\n",
    "ax.quiver(X, Y, Z, U, V, W, length=1, arrow_length_ratio = 0.1, colors = [\"blue\", \"green\", \"red\"])\n",
    "plt.title('Cross Product (a = blue, b = green, a x b = \"red\")')\n",
    "ax.set_xlabel('$x_1$', fontsize=20)\n",
    "ax.set_ylabel('$x_2$', fontsize=20)\n",
    "ax.set_zlabel('$x_3$', fontsize=20)\n",
    "plt.show()"
   ]
  },
  {
   "cell_type": "code",
   "execution_count": 94,
   "metadata": {
    "scrolled": true
   },
   "outputs": [
    {
     "name": "stdout",
     "output_type": "stream",
     "text": [
      "a cross b is 9.0 and the product of a and b length and sin(theta) is 9.0\n"
     ]
    }
   ],
   "source": [
    "# compare lhs to rhs \n",
    "a_cross_b = np.cross(a, b)\n",
    "a_length = math.sqrt(np.dot(a,a))\n",
    "b_length = math.sqrt(np.dot(b,b))\n",
    "sin_theta = np.sin(np.deg2rad(90))\n",
    "print(\"a cross b is {} and the product of a and b length and sin(theta) is {}\".format(math.sqrt(np.dot(a_cross_b, a_cross_b)), round(a_length*b_length*sin_theta,1)))"
   ]
  },
  {
   "cell_type": "markdown",
   "metadata": {},
   "source": [
    "### Problem 3:\n",
    "\n",
    "Compute the cross product of the following set of vectors: \n",
    "\n",
    "Set 1: \n",
    "$\\pmb a = [1,3,1]$\n",
    "$\\pmb b = [2,6,2]$\n",
    "\n",
    "Set 2:\n",
    "$\\pmb c = [2,1,1]$\n",
    "$\\pmb d = [-8,-4,-4]$\n",
    "\n",
    "Set 3:\n",
    "$\\pmb e = [4,0,0]$\n",
    "$\\pmb f = [0,6,0]$\n",
    "\n",
    "Comment on the angle between each set of vectors. "
   ]
  },
  {
   "cell_type": "code",
   "execution_count": 95,
   "metadata": {},
   "outputs": [],
   "source": [
    "# write your code here \n",
    "\n",
    "\n",
    "\n"
   ]
  },
  {
   "cell_type": "markdown",
   "metadata": {},
   "source": [
    "### 7.3.11 Linear Span:"
   ]
  },
  {
   "cell_type": "markdown",
   "metadata": {},
   "source": [
    "__Overview:__ \n",
    "- __[Linear Span](https://en.wikipedia.org/wiki/Linear_span):__ The Linear Span of a set of vectors is all the possible linear combinations of the original vectors \n",
    "- For example, if we had a set of vectors: $\\textit S = \\{ \\pmb u_1, \\pmb u_2, \\pmb u_3, ..., \\pmb u_p \\}$, the span of these vectors $\\langle S \\rangle$ is equal to the set of all possible linear combinations of these vectors, which can be written algebraically as follows:\n",
    "<center> $\\langle S \\rangle = {a_1 \\pmb u_1 + a_2 \\pmb u_2 + a_3 \\pmb u_3 + ... + a_p \\pmb u_p \\mid a_i \\in \\mathbb R, 1 \\leq i \\leq p}$ </center>\n",
    "- This says that to achieve the span of the vectors, you must multiply the vectors by every real scalar $a_i$ where i can be any number between 1 and $p$\n",
    "\n",
    "__Helpful Points:__ \n",
    "1. In the above examples in section 7.3.5, we could have multiplied the vectors $\\pmb a$ and $\\pmb b$ by any values of $c_1$ and $c_2$ and if we kept changing the values of $c_1$ and $c_2$, we would eventually achieve ALL the vectors in $\\mathbb R^2$. This is a remarkable fact - we can go ANYWHERE in the two-dimensional space just using these two vectors \n",
    "2. Therefore, we can say that the span of the vectors $\\pmb a$ and $\\pmb b$ is equal to the entire two-dimensional space, which can be formally written as: \n",
    "<center> If $\\textit S = \\{ \\pmb a, \\pmb b \\}$, and $\\pmb a = [2, 3]$ and $\\pmb b = [3, 1]$, then $\\langle S \\rangle = \\mathbb R^2$ </center>\n",
    "3. Equivalently, we can also say the following:\n",
    "> - $\\textit S$ is a __spanning set__ of $\\mathbb R^2$\n",
    "> - $\\mathbb R^2$ is the space spanned by $\\textit S$\n",
    "> - $\\textit S$ spans $\\mathbb R^2$\n",
    "3. It is important to realize that the above is not necessarily true for ANY arbitrary vectors $\\pmb a$ and $\\pmb b$. These vectors must have an important property to span $\\mathbb R^2$ which we will see below. Can you think of what condition must be true?\n",
    "\n",
    "__Practice:__ Examples of Linear Span in Python "
   ]
  },
  {
   "cell_type": "markdown",
   "metadata": {},
   "source": [
    "### Example 1 (Linear Span of a Space):"
   ]
  },
  {
   "cell_type": "markdown",
   "metadata": {},
   "source": [
    "How can we check if an arbitrary vector is an element of the span of the vectors $\\pmb a$ and $\\pmb b$? \n",
    "- If the arbitrary vector belongs to the same span as the original vectors, we should be able to \"create\" this arbitrary vector using only a linear combination of $\\pmb a$ and $\\pmb b$\n",
    "- For example, let's choose the point $(5,2)$ and call it $\\pmb d$ and now let's see if we can find values of coefficients that would create this vector through a linear combination of the original vectors"
   ]
  },
  {
   "cell_type": "code",
   "execution_count": 96,
   "metadata": {},
   "outputs": [],
   "source": [
    "a = np.array([4,2])\n",
    "b = np.array([5,4])\n",
    "d = np.array([5,2])"
   ]
  },
  {
   "cell_type": "code",
   "execution_count": 97,
   "metadata": {
    "scrolled": true
   },
   "outputs": [
    {
     "data": {
      "image/png": "[encoded data removed]",
      "text/plain": [
       "<matplotlib.figure.Figure at 0x6158c9c18>"
      ]
     },
     "metadata": {},
     "output_type": "display_data"
    }
   ],
   "source": [
    "# plot a, b, and d \n",
    "soa = np.array([[0, 0, 4, 2], [0, 0, 5, 4], [0, 0, 5, 2]])\n",
    "X, Y, U, V = zip(*soa)\n",
    "plt.figure()\n",
    "ax = plt.gca()\n",
    "ax.quiver(X, Y, U, V, angles='xy', scale_units='xy', scale=1, color = [\"blue\", \"green\", \"red\"])\n",
    "ax.set_xlim([-7, 7])\n",
    "ax.set_ylim([-7, 7])\n",
    "plt.title('Linear Span (a = blue b = green, d = red)')\n",
    "plt.xlabel('$x_1$', fontsize = 20)\n",
    "plt.ylabel('$x_2$', fontsize = 20)\n",
    "plt.grid()"
   ]
  },
  {
   "cell_type": "markdown",
   "metadata": {},
   "source": [
    "Formally, we need to solve for the values of $c_1$ and $c_2$. If these values exist (i.e. there is a solution to this equation), then the arbitrary vector $\\pmb d$ lies in the span of the vectors $\\pmb a$ and $\\pmb b$:\n",
    "<center> $c_1 \\pmb a + c_2 \\pmb b = \\pmb d$ </center>\n",
    "- We will actually learn how to solve this problem using Matrix Notation in Lecture 8, but for now you will be given the answer (how nice!):\n",
    "> - $c_1 = \\frac{5}{3}$ \n",
    "> - $c_2 = -\\frac{1}{3}$\n",
    "\n",
    "- Let's check to see this is correct:"
   ]
  },
  {
   "cell_type": "code",
   "execution_count": 98,
   "metadata": {
    "scrolled": true
   },
   "outputs": [
    {
     "name": "stdout",
     "output_type": "stream",
     "text": [
      "c1*a + c2*b is equal to [5. 2.] and d is equal to [5 2]\n"
     ]
    }
   ],
   "source": [
    "c_1 = 5/3\n",
    "c_2 = -1/3\n",
    "new_a = c_1*a\n",
    "new_b = c_2*b \n",
    "print(\"c1*a + c2*b is equal to {} and d is equal to {}\".format(new_a + new_b, d)) "
   ]
  },
  {
   "cell_type": "code",
   "execution_count": 99,
   "metadata": {},
   "outputs": [
    {
     "data": {
      "text/plain": [
       "[6.666666666666667, 3.3333333333333335]"
      ]
     },
     "execution_count": 99,
     "metadata": {},
     "output_type": "execute_result"
    }
   ],
   "source": [
    "new_a.tolist()"
   ]
  },
  {
   "cell_type": "code",
   "execution_count": 100,
   "metadata": {},
   "outputs": [
    {
     "data": {
      "text/plain": [
       "[-1.6666666666666665, -1.3333333333333333]"
      ]
     },
     "execution_count": 100,
     "metadata": {},
     "output_type": "execute_result"
    }
   ],
   "source": [
    "new_b.tolist()"
   ]
  },
  {
   "cell_type": "code",
   "execution_count": 101,
   "metadata": {
    "scrolled": false
   },
   "outputs": [
    {
     "data": {
      "image/png": "[encoded data removed]",
      "text/plain": [
       "<matplotlib.figure.Figure at 0x6159afcf8>"
      ]
     },
     "metadata": {},
     "output_type": "display_data"
    }
   ],
   "source": [
    "# plot c_1a, c_1b, and d \n",
    "soa = np.array([[0, 0, 20/3, 10/3], [0, 0, -5/3, -4/3], [0, 0, 5, 2]])\n",
    "X, Y, U, V = zip(*soa)\n",
    "plt.figure()\n",
    "ax = plt.gca()\n",
    "ax.quiver(X, Y, U, V, angles='xy', scale_units='xy', scale=1, color = [\"blue\", \"green\", \"red\"])\n",
    "ax.set_xlim([-7, 7])\n",
    "ax.set_ylim([-7, 7])\n",
    "plt.title('Linear Span (c_1a = blue, c_2b = green, d = red)')\n",
    "plt.xlabel('$x_1$', fontsize = 20)\n",
    "plt.ylabel('$x_2$', fontsize = 20)\n",
    "plt.grid()"
   ]
  },
  {
   "cell_type": "markdown",
   "metadata": {},
   "source": [
    "Compare this picture with the one above. Specifically notice the differences between the blue vector (which has been stretched by a value of 5/3, but maintained the same direction) and the green vector (which has been shrunk by a value of -1/3 and switched to the opposite direction). \n",
    "\n",
    "- We now should be able to \"create\" the red vector simply by adding the new blue and red vectors together. Remember, in order to show this visually, it is always a good idea to shift one of the two vectors. Let's shift the blue vector:"
   ]
  },
  {
   "cell_type": "code",
   "execution_count": 102,
   "metadata": {
    "scrolled": false
   },
   "outputs": [
    {
     "data": {
      "image/png": "[encoded data removed]",
      "text/plain": [
       "<matplotlib.figure.Figure at 0x615a4f4a8>"
      ]
     },
     "metadata": {},
     "output_type": "display_data"
    }
   ],
   "source": [
    "# plot c_1a (shifted), c_1b, and d \n",
    "soa = np.array([[-5/3, -4/3, 20/3, 10/3], [0, 0, -5/3, -4/3], [0, 0, 5, 2]])\n",
    "X, Y, U, V = zip(*soa)\n",
    "plt.figure()\n",
    "ax = plt.gca()\n",
    "ax.quiver(X, Y, U, V, angles='xy', scale_units='xy', scale=1, color = [\"blue\", \"green\", \"red\"])\n",
    "ax.set_xlim([-7, 7])\n",
    "ax.set_ylim([-7, 7])\n",
    "plt.title('Linear Span (c_1a = blue, c_2b = green, d = red)')\n",
    "plt.xlabel('$x_1$', fontsize = 20)\n",
    "plt.ylabel('$x_2$', fontsize = 20)\n",
    "plt.grid()"
   ]
  },
  {
   "cell_type": "markdown",
   "metadata": {},
   "source": [
    "We can see that using a linear combination of the vectors $\\pmb a$ and $\\pmb b$, we were able to get to \"create\" the red vector. Therefore, we can say that the $\\pmb d$ vector is an element of the span of the vectors $\\pmb a$ and $\\pmb b$."
   ]
  },
  {
   "cell_type": "markdown",
   "metadata": {},
   "source": [
    "### Example 2 (Linear Span of a Line):"
   ]
  },
  {
   "cell_type": "markdown",
   "metadata": {},
   "source": [
    "So far, all the vectors we have used span the $\\mathbb R^2$ space and we mentioned this is not true for any arbitrary set of vectors. So what implicit property did the vectors have that we have taken for granted? \n",
    "\n",
    "- It will become clear after the following example:"
   ]
  },
  {
   "cell_type": "code",
   "execution_count": 103,
   "metadata": {},
   "outputs": [],
   "source": [
    "a = np.array([2,2])\n",
    "b = np.array([4,4])"
   ]
  },
  {
   "cell_type": "code",
   "execution_count": 104,
   "metadata": {
    "scrolled": true
   },
   "outputs": [
    {
     "data": {
      "image/png": "[encoded data removed]",
      "text/plain": [
       "<matplotlib.figure.Figure at 0x615a30278>"
      ]
     },
     "metadata": {},
     "output_type": "display_data"
    }
   ],
   "source": [
    "# plot a and b\n",
    "soa = np.array([[0, 0, 2, 2], [0, 0, 4, 4]])\n",
    "X, Y, U, V = zip(*soa)\n",
    "plt.figure()\n",
    "ax = plt.gca()\n",
    "ax.quiver(X, Y, U, V, angles='xy', scale_units='xy', scale=1, color = [\"blue\", \"green\"])\n",
    "ax.set_xlim([0, 10])\n",
    "ax.set_ylim([0, 10])\n",
    "plt.title('Linear Span (a = blue b = green)')\n",
    "plt.xlabel('$x_1$', fontsize = 20)\n",
    "plt.ylabel('$x_2$', fontsize = 20)\n",
    "plt.grid()"
   ]
  },
  {
   "cell_type": "markdown",
   "metadata": {},
   "source": [
    "Immediately, what do you notice about these two vectors that are different than all the vectors we have seen so far? \n",
    "\n",
    "- They lie on the same line!!\n",
    "- Therefore, the question is now, what is the span of these two vectors? In other words, what set of vectors can we get after applying a linear combination of these two vectors? (__Note__: The \"T\" beside each vector just means that we are actually working with the column vector (flipped/transposed version) and not the row vector which is shown)\n",
    "> 1. Can we get the vector $[8, 8]$?\n",
    "<center> $c_1*[2,2]^T + c_2*[4,4]^T = [8,8]^T$ </center>\n",
    ">> $c_1 = 2$<br> \n",
    ">> $c_2 = 1$\n",
    "> 2. Can we get the vector $[5, 3]$?\n",
    "<center> $c_1*[2,2]^T + c_2*[4,4]^T = [5,3]^T$ </center>\n",
    ">> $c_1$ = Does not exist <br>\n",
    ">> $c_2$ = Does not exist\n",
    "\n",
    "Check this below:"
   ]
  },
  {
   "cell_type": "code",
   "execution_count": 105,
   "metadata": {},
   "outputs": [],
   "source": [
    "d = np.array([8,8])"
   ]
  },
  {
   "cell_type": "code",
   "execution_count": 106,
   "metadata": {},
   "outputs": [
    {
     "name": "stdout",
     "output_type": "stream",
     "text": [
      "c1*a + c2*b is equal to [8 8] and d is equal to [8 8]\n"
     ]
    }
   ],
   "source": [
    "c_1 = 2\n",
    "c_2 = 1\n",
    "new_a = c_1*a\n",
    "new_b = c_2*b \n",
    "print(\"c1*a + c2*b is equal to {} and d is equal to {}\".format(new_a + new_b, d)) "
   ]
  },
  {
   "cell_type": "markdown",
   "metadata": {},
   "source": [
    "In summary, \n",
    "\n",
    "- We can say that $[5,3]$ is not an element of the span of $\\pmb a$ and $\\pmb b$, but $[8,8]$ is an element of the span of $\\pmb a$ and $\\pmb b$\n",
    "- But, this begs the question, what _is_ the span of $\\pmb a$ and $\\pmb b$? To help you answer this, let's plot all 3 vectors in the same graph"
   ]
  },
  {
   "cell_type": "code",
   "execution_count": 107,
   "metadata": {
    "scrolled": true
   },
   "outputs": [
    {
     "data": {
      "image/png": "[encoded data removed]",
      "text/plain": [
       "<matplotlib.figure.Figure at 0x615999b38>"
      ]
     },
     "metadata": {},
     "output_type": "display_data"
    }
   ],
   "source": [
    "# plot a, b and d\n",
    "soa = np.array([[0, 0, 2, 2], [0, 0, 4, 4], [0, 0, 8, 8]])\n",
    "X, Y, U, V = zip(*soa)\n",
    "plt.figure()\n",
    "ax = plt.gca()\n",
    "ax.quiver(X, Y, U, V, angles='xy', scale_units='xy', scale=1, color = [\"blue\", \"green\", \"red\"])\n",
    "ax.set_xlim([0, 10])\n",
    "ax.set_ylim([0, 10])\n",
    "plt.title('Linear Span (a = blue, b = green, d = \"red\")')\n",
    "plt.xlabel('$x_1$', fontsize = 20)\n",
    "plt.ylabel('$x_2$', fontsize = 20)\n",
    "plt.grid()"
   ]
  },
  {
   "cell_type": "markdown",
   "metadata": {},
   "source": [
    "It is clear that $[8,8]$ lies on the same line as the vectors $\\pmb a$ and $\\pmb b$ and since we know the vector $[8,8]$ is in the span of the original vectors, the span of the original vectors must be just this line ($y = x$) and NOT the entire $\\mathbb R^2$ two-dimensional space. \n",
    "\n",
    "- So what was \"different\" about the vectors $\\pmb a$ and $\\pmb b$ in this case versus the previous examples? They were just multiples of each other (or as we will see in the next section, they were a set of __Linearly Dependent__ vectors)"
   ]
  },
  {
   "cell_type": "markdown",
   "metadata": {},
   "source": [
    "### Problem 4:\n",
    "\n",
    "Do the vectors $[1,2]$ and $[3,4]$ span $\\mathbb R^2$? If no, what space do they span? If yes, show that any arbitrary vector, for example, $[3,3]$ can be obtained from the two vectors in the linear span. "
   ]
  },
  {
   "cell_type": "code",
   "execution_count": 108,
   "metadata": {},
   "outputs": [],
   "source": [
    "# write your code here \n",
    "\n",
    "\n",
    "\n"
   ]
  },
  {
   "cell_type": "markdown",
   "metadata": {},
   "source": [
    "### 7.3.12 Linear Dependence:"
   ]
  },
  {
   "cell_type": "markdown",
   "metadata": {},
   "source": [
    "__Overview:__ \n",
    "- __[Linear Dependence](https://en.wikipedia.org/wiki/Linear_independence):__ A set of vectors are linearly __dependent__ if one of the vectors can be defined as a linear combination of the other vectors (i.e. it \"depends\" on the other vectors\"). Conversely, if no vector in the set can be written as a combination of any other vector, then the vectors are linearly __independent__\n",
    "- It is clear in our example above that the vectors $\\pmb a = [2,2]$ and $\\pmb b = [4,4]$ were linearly dependent because the vector $\\pmb b$ could easily be written as a linear combination of vector $\\pmb a$: $2 * [2,2] = [4,4] = \\pmb b$ \n",
    "\n",
    "__Helpful Points:__ \n",
    "1. Remember that all linear combination of a vector will lie on the same line as the original vector, so this is one way of testing if two vectors are linearly dependent \n",
    "2. Another way to think about linearly dependent vectors is that the vector that can be expressed as a linear combination of the other vector(s) is not adding any new information or directionality to the set \n",
    "\n",
    "__Practice:__ Examples of Linear Dependence in Python "
   ]
  },
  {
   "cell_type": "markdown",
   "metadata": {},
   "source": [
    "### Example 1 (Linerly Dependent Set):"
   ]
  },
  {
   "cell_type": "code",
   "execution_count": 109,
   "metadata": {},
   "outputs": [],
   "source": [
    "# consider 3 vectors \n",
    "a = np.array([2,3])\n",
    "b = np.array([3,1])\n",
    "d = np.array([7,7])"
   ]
  },
  {
   "cell_type": "code",
   "execution_count": 110,
   "metadata": {
    "scrolled": false
   },
   "outputs": [
    {
     "data": {
      "image/png": "[encoded data removed]",
      "text/plain": [
       "<matplotlib.figure.Figure at 0x6158c9c18>"
      ]
     },
     "metadata": {},
     "output_type": "display_data"
    }
   ],
   "source": [
    "# plot a, b and d\n",
    "soa = np.array([[0, 0, 2, 3], [0, 0, 3, 1], [0, 0, 7, 7]])\n",
    "X, Y, U, V = zip(*soa)\n",
    "plt.figure()\n",
    "ax = plt.gca()\n",
    "ax.quiver(X, Y, U, V, angles='xy', scale_units='xy', scale=1, color = [\"blue\", \"green\", \"red\"])\n",
    "ax.set_xlim([0, 10])\n",
    "ax.set_ylim([0, 10])\n",
    "plt.title('Linear Dependent Set (a = blue, b = green, d = \"red\")')\n",
    "plt.xlabel('$x_1$', fontsize = 20)\n",
    "plt.ylabel('$x_2$', fontsize = 20)\n",
    "plt.grid()"
   ]
  },
  {
   "cell_type": "markdown",
   "metadata": {},
   "source": [
    "How do we know if the vectors $\\pmb a$, $\\pmb b$, and $\\pmb d$ are linearly dependent or not? \n",
    "\n",
    "> 1. __Intuitively:__ The first \"hint\" is that there are 3 vectors and we are in two-dimensional space. Since we already know that we only need two vectors to create any vector in $\\mathbb R^2$, one of these vectors must be \"extra\"\n",
    "> 2. __Algebraically:__ If we can express one of the 3 vectors as a linear combination of the other 2 vectors, then the set of vectors, must be linearly dependent. Let's try:\n",
    "\n",
    "<center> $c_1[2,3]^T + c_2[3,1]^T = [7,7]^T$ </center>\n",
    "\n",
    "Solving for $c_1$ and $c_2$, we get: \n",
    ">> $c_1 = 2$<br>\n",
    ">> $c_2 = 1$\n",
    "\n",
    "Since a solution exists, we know that the vector $\\pmb d$ is simply a linear combination of the other 2 vectors and the set is linearly dependent (note that this is not a _formal_ proof, but good enough for our purposes). We can plot $c_1 \\pmb a$ and $c_2 \\pmb b$ and see that the resultant is simply the vector $\\pmb d$:"
   ]
  },
  {
   "cell_type": "code",
   "execution_count": 111,
   "metadata": {
    "scrolled": true
   },
   "outputs": [
    {
     "data": {
      "image/png": "[encoded data removed]",
      "text/plain": [
       "<matplotlib.figure.Figure at 0x615798c18>"
      ]
     },
     "metadata": {},
     "output_type": "display_data"
    }
   ],
   "source": [
    "# plot c_1a, c_2b (shifted) and d\n",
    "soa = np.array([[0, 0, 4, 6], [4, 6, 3, 1], [0, 0, 7, 7]])\n",
    "X, Y, U, V = zip(*soa)\n",
    "plt.figure()\n",
    "ax = plt.gca()\n",
    "ax.quiver(X, Y, U, V, angles='xy', scale_units='xy', scale=1, color = [\"blue\", \"green\", \"red\"])\n",
    "ax.set_xlim([0, 10])\n",
    "ax.set_ylim([0, 10])\n",
    "plt.title('Linear Dependent Set (c_1a = blue, c_2b = green, d = \"red\")')\n",
    "plt.xlabel('$x_1$', fontsize = 20)\n",
    "plt.ylabel('$x_2$', fontsize = 20)\n",
    "plt.grid()"
   ]
  },
  {
   "cell_type": "markdown",
   "metadata": {},
   "source": [
    "Clearly the red vector is just a linear combination of the other two vectors.\n",
    "\n",
    "Notes:\n",
    "\n",
    "- The span $\\langle S \\rangle$ of $\\pmb a, \\pmb b, \\pmb d$ is $\\mathbb R^2$ in the same way that the span $\\langle S \\rangle$  of just $\\pmb a, \\pmb b$ is $\\mathbb R^2$\n",
    "- The latter is simply a more \"efficient\" way of providing a representation of the span, whereas the former is \"inefficient\" because it contains redundant vectors \n",
    "- There is a formal definition of a set of vectors that are both linearly dependent and span a space, which is known as the __basis__ of the space (we will explore this later, but keep it in mind for now)"
   ]
  },
  {
   "cell_type": "markdown",
   "metadata": {},
   "source": [
    "__Formal Proof of Linear Dependence:__\n",
    "\n",
    "To check if a set of vectors $\\textit S = \\{\\pmb u_1, \\pmb u_2, ..., \\pmb u_n\\}$ are linearly dependent, the following condition must be true:\n",
    "<center> $ \\alpha_1 \\pmb u_1 + \\alpha_2 \\pmb u_2 + ... + \\alpha_n \\pmb u_n = \\pmb 0$, </center>\n",
    "<center> if there exists other solutions other than $\\alpha_1 = \\alpha_2 = ... = \\alpha_i = 0$ where at least one $\\alpha_i \\neq 0$ </center> "
   ]
  },
  {
   "cell_type": "markdown",
   "metadata": {},
   "source": [
    "In the example above, the vectors $\\pmb a, \\pmb b, \\pmb d$ can be multiplied by coefficients other than zero to get the zero vector:\n",
    "\n",
    "<center> $c_1*[2,3]^T + c_2[3,1]^T - c_3[7,7]^T = [0,0]^T$ </center>\n",
    "\n",
    "> $c_1 = 2$<br>\n",
    "> $c_2 = 1$<br>\n",
    "> $c_3 = 1$\n",
    "\n",
    "Since at least one of $c_i \\neq 0$, the vectors must be linearly dependent "
   ]
  },
  {
   "cell_type": "markdown",
   "metadata": {},
   "source": [
    "### Example 2 (Linearly Independent Set):"
   ]
  },
  {
   "cell_type": "code",
   "execution_count": 112,
   "metadata": {},
   "outputs": [],
   "source": [
    "# consider 3 vectors \n",
    "a = np.array([2,3,3])\n",
    "b = np.array([9,5,7])\n",
    "d = np.array([7,7,2])"
   ]
  },
  {
   "cell_type": "markdown",
   "metadata": {},
   "source": [
    "Note:\n",
    "\n",
    "- These vectors look like this in their general format: $[x_1, x_2, x_3]^T$ and they belong to the three-dimensional space $\\mathbb R^3$"
   ]
  },
  {
   "cell_type": "code",
   "execution_count": 113,
   "metadata": {
    "scrolled": true
   },
   "outputs": [
    {
     "data": {
      "image/png": "[encoded data removed]",
      "text/plain": [
       "<matplotlib.figure.Figure at 0x61565b0b8>"
      ]
     },
     "metadata": {},
     "output_type": "display_data"
    }
   ],
   "source": [
    "fig = plt.figure()\n",
    "ax = fig.gca(projection=\"3d\")\n",
    "soa = np.array([[0, 0, 0, 2, 3, 3], [0, 0, 0, 9, 5, 7], [0, 0, 0, 7, 7, 2]])\n",
    "X, Y, Z, U, V, W = zip(*soa)\n",
    "ax.set_xlim3d(0, 10)\n",
    "ax.set_ylim3d(0, 10)\n",
    "ax.set_zlim3d(0, 10)\n",
    "ax.quiver(X, Y, Z, U, V, W, length=1, arrow_length_ratio = 0.1, colors = [\"blue\", \"green\", \"red\"])\n",
    "plt.title('Linear Independent Set (a = blue, b = green, d = \"red\")')\n",
    "ax.set_xlabel('$x_1$', fontsize=20)\n",
    "ax.set_ylabel('$x_2$', fontsize=20)\n",
    "ax.set_zlabel('$x_3$', fontsize=20)\n",
    "plt.show()"
   ]
  },
  {
   "cell_type": "markdown",
   "metadata": {},
   "source": [
    "How do we know if the vectors $\\pmb a$, $\\pmb b$, and $\\pmb d$ are linearly dependent or not? \n",
    "\n",
    "> 1. __Intuitively:__ The first \"hint\" is that there are 3 vectors and we are in three-dimensional space. Since we need three vectors to create any vector in $\\mathbb R^3$, it is a good sign there are no \"extra\" vectors in the set \n",
    "> 2. __Algebraically:__ If we can express one of the 3 vectors as a linear combination of the other 2 vectors, then the set of vectors, must be linearly independent. Let's try:\n",
    "\n",
    "<center> $c_1[2,3,3]^T + c_2[9,5,7]^T = [7,7,2]^T$ </center>\n",
    "\n",
    "Solving for $c_1$ and $c_2$, we get: \n",
    ">> $c_1$ = Does not exist<br>\n",
    ">> $c_2$ = Does not exist \n",
    "\n",
    "Since a solution does not exist, we know that the vector $\\pmb d$ is not a linear combination of the other 2 vectors and the set is linearly independent (technically, we would have to try the other variations which means this is not a _formal_ proof, but good enough for our purposes). We can also say that the span $\\langle S \\rangle$ of $\\pmb a, \\pmb b, \\pmb d$ is $\\mathbb R^3$ since we can get to any vector in this space using just a linear combination of these 3 vectors."
   ]
  },
  {
   "cell_type": "markdown",
   "metadata": {},
   "source": [
    "__Formal Proof of Linear Independence:__\n",
    "\n",
    "To check if a set of vectors $\\textit S = \\{\\pmb u_1, \\pmb u_2, ..., \\pmb u_n\\}$ are linearly independent, the following condition must be true:\n",
    "<center> $ \\alpha_1 \\pmb u_1 + \\alpha_2 \\pmb u_2 + ... + \\alpha_n \\pmb u_n = \\pmb 0$, </center>\n",
    "<center> if there exists only one solution where $\\alpha_1 = \\alpha_2 = ... = \\alpha_i = 0$</center> "
   ]
  },
  {
   "cell_type": "markdown",
   "metadata": {},
   "source": [
    "In the example above, the vectors $\\pmb a, \\pmb b, \\pmb d$ can not be multiplied by coefficients other than zero to get the zero vector:\n",
    "\n",
    "<center> $c_1*[2,3,3]^T + c_2[9,5,7]^T - c_3[7,7,2]^T = [0,0,0]^T$ </center>\n",
    "\n",
    "> $c_1 = 0$<br>\n",
    "> $c_2 = 0$<br>\n",
    "> $c_3 = 0$\n",
    "\n",
    "Since the only solution is where $c_i = 0$ for $1 \\leq i \\leq 3$, the vectors must be linearly independent "
   ]
  },
  {
   "cell_type": "markdown",
   "metadata": {},
   "source": [
    "### Problem 5:\n",
    "\n",
    "Check if the following vectors are linearly independent:\n",
    "\n",
    "$a = [1,2,1]$<br>\n",
    "$b = [2,4,2]$\n",
    "\n",
    "Show how you arrived at your decision."
   ]
  },
  {
   "cell_type": "code",
   "execution_count": 114,
   "metadata": {},
   "outputs": [],
   "source": [
    "# write your code here \n",
    "\n",
    "\n",
    "\n"
   ]
  },
  {
   "cell_type": "markdown",
   "metadata": {},
   "source": [
    "### 7.3.13 Vector Spaces:"
   ]
  },
  {
   "cell_type": "markdown",
   "metadata": {},
   "source": [
    "__Overview:__\n",
    "- __[Vector Space](https://en.wikipedia.org/wiki/Vector_space):__ A Vector Space is a set of vectors ($V$) together with a type of vector addition and scalar multiplication that both behave according to a list of \"rules\" (and we already know these most of these rules from section 7.3.4)\n",
    "- The two additional rules we will add to the 8 mentioned in section 7.3.4 are:\n",
    "> 9. If $\\pmb u, \\pmb v \\in V$, then $\\pmb u + \\pmb v \\in V$ (Additive Closure - \"closure under addition\")\n",
    "> 10. If $a \\in \\mathbb R$ and $\\pmb u \\in V$, then $a\\pmb u \\in V$ (Scalar Closure - \"closure under scalar multiplication\")\n",
    "- __Additive Closure:__ Additive closure simply means if you have two vectors in a set, then the addition of the two vectors must also be in the set, otherwise it is not a vector space\n",
    "- __Scalar Closure:__ Scalar closure simply means if you have a scalar and also a vector that is in the set, then the scalar multiplication of this vector must also be in the set, otherwise it is not a vector space \n",
    "- Therefore if any set of vectors in $V$ satisfy the 10 properties, then the set of vecors $V$ is considered a vector space \n",
    "\n",
    "__Helpful Points:__\n",
    "1. This may seem like an abstract definition (and you are right, it is), but intuitively you already know what a vector space is and we have already been working with vector spaces throughout this entire lecture \n",
    "2. You can think of a vector space like a recipe in that it contains ingredients (vectors) with instructions on what to do with those ingredients (vector addition and scalar multiplication) and how these instructions should be read (vector addition and scalar multiplication rules)\n",
    "\n",
    "__Practice:__ Examples of Vector Spaces in Python "
   ]
  },
  {
   "cell_type": "markdown",
   "metadata": {},
   "source": [
    "### Example 1 (Set V is a Vector Space):"
   ]
  },
  {
   "cell_type": "code",
   "execution_count": 8,
   "metadata": {},
   "outputs": [],
   "source": [
    "a = np.array([2,2])\n",
    "b = np.array([3,3])\n",
    "c = np.array([1,1])"
   ]
  },
  {
   "cell_type": "markdown",
   "metadata": {},
   "source": [
    "Does the set $V$ of all vectors in the general form of $[x, x]^T$ such as $\\pmb a$ and $\\pmb b$ defined above form a vector space? "
   ]
  },
  {
   "cell_type": "code",
   "execution_count": 11,
   "metadata": {
    "scrolled": false
   },
   "outputs": [
    {
     "data": {
      "image/png": "[encoded data removed]",
      "text/plain": [
       "<Figure size 432x288 with 1 Axes>"
      ]
     },
     "metadata": {
      "needs_background": "light"
     },
     "output_type": "display_data"
    }
   ],
   "source": [
    "# plot a and b \n",
    "soa = np.array([[0, 0, 2, 2], [0, 0, 3, 3]])\n",
    "X, Y, U, V = zip(*soa)\n",
    "plt.figure()\n",
    "ax = plt.gca()\n",
    "ax.quiver(X, Y, U, V, angles='xy', scale_units='xy', scale=1, color = [\"blue\", \"green\"])\n",
    "ax.set_xlim([-5, 5])\n",
    "ax.set_ylim([-5, 5])\n",
    "plt.title('Vector Space (a = blue, b = green)')\n",
    "plt.xlabel('$x_1$', fontsize = 20)\n",
    "plt.ylabel('$x_2$', fontsize = 20)\n",
    "plt.grid()"
   ]
  },
  {
   "cell_type": "markdown",
   "metadata": {},
   "source": [
    "We want to see if the set of vectors that lie on this line form a vector space in $\\mathbb R^2$"
   ]
  },
  {
   "cell_type": "markdown",
   "metadata": {},
   "source": [
    "### Property 1: Additive Closure "
   ]
  },
  {
   "cell_type": "code",
   "execution_count": 117,
   "metadata": {
    "scrolled": true
   },
   "outputs": [
    {
     "data": {
      "image/png": "[encoded data removed]",
      "text/plain": [
       "<matplotlib.figure.Figure at 0x615588550>"
      ]
     },
     "metadata": {},
     "output_type": "display_data"
    }
   ],
   "source": [
    "# plot a, b, and a + b \n",
    "soa = np.array([[0, 0, 2, 2], [0, 0, 3, 3], [0, 0, 5, 5]])\n",
    "X, Y, U, V = zip(*soa)\n",
    "plt.figure()\n",
    "ax = plt.gca()\n",
    "ax.quiver(X, Y, U, V, angles='xy', scale_units='xy', scale=1, color = [\"blue\", \"green\", \"red\"])\n",
    "ax.set_xlim([-5, 5])\n",
    "ax.set_ylim([-5, 5])\n",
    "plt.title('Vector Space (a = blue, b = green, a+b = \"red\")')\n",
    "plt.xlabel('$x_1$', fontsize = 20)\n",
    "plt.ylabel('$x_2$', fontsize = 20)\n",
    "plt.grid()"
   ]
  },
  {
   "cell_type": "markdown",
   "metadata": {},
   "source": [
    "Since $\\pmb a$ + $\\pmb b$ lies on the same line, it is in the same set as $\\pmb a$ and $\\pmb b$, therefore it is closed under addition. "
   ]
  },
  {
   "cell_type": "markdown",
   "metadata": {},
   "source": [
    "### Property 2: Scalar Closure "
   ]
  },
  {
   "cell_type": "code",
   "execution_count": 118,
   "metadata": {
    "scrolled": false
   },
   "outputs": [
    {
     "data": {
      "image/png": "[encoded data removed]",
      "text/plain": [
       "<matplotlib.figure.Figure at 0x61578af60>"
      ]
     },
     "metadata": {},
     "output_type": "display_data"
    }
   ],
   "source": [
    "# plot a and au\n",
    "soa = np.array([[0, 0, 2, 2], [0, 0, 6, 6]])\n",
    "X, Y, U, V = zip(*soa)\n",
    "plt.figure()\n",
    "ax = plt.gca()\n",
    "ax.quiver(X, Y, U, V, angles='xy', scale_units='xy', scale=1, color = [\"blue\", \"green\"])\n",
    "ax.set_xlim([-10, 10])\n",
    "ax.set_ylim([-10, 10])\n",
    "plt.title('Vector Space (a = blue, au = green)')\n",
    "plt.xlabel('$x_1$', fontsize = 20)\n",
    "plt.ylabel('$x_2$', fontsize = 20)\n",
    "plt.grid()"
   ]
  },
  {
   "cell_type": "markdown",
   "metadata": {},
   "source": [
    "Since $\\pmb au$ lies on the same line, it is in the same set as $\\pmb a$ and $\\pmb b$, therefore it is closed under scalar multiplication."
   ]
  },
  {
   "cell_type": "markdown",
   "metadata": {},
   "source": [
    "### Property 3: Commutativity of Addition"
   ]
  },
  {
   "cell_type": "code",
   "execution_count": 119,
   "metadata": {
    "scrolled": false
   },
   "outputs": [
    {
     "name": "stdout",
     "output_type": "stream",
     "text": [
      "a + b is [5 5] and b + a is [5 5]\n"
     ]
    }
   ],
   "source": [
    "print(\"a + b is {} and b + a is {}\".format(a + b, b + a))"
   ]
  },
  {
   "cell_type": "markdown",
   "metadata": {},
   "source": [
    "### Property 4: Associativity of Addition"
   ]
  },
  {
   "cell_type": "code",
   "execution_count": 120,
   "metadata": {},
   "outputs": [
    {
     "name": "stdout",
     "output_type": "stream",
     "text": [
      "a + (b + c) is [8 6] and (a + b) + c is [8 6]\n"
     ]
    }
   ],
   "source": [
    "print(\"a + (b + c) is {} and (a + b) + c is {}\".format(a + (b + c), (a + b) + c))"
   ]
  },
  {
   "cell_type": "markdown",
   "metadata": {},
   "source": [
    "### Property 5: Identity Element of Addition"
   ]
  },
  {
   "cell_type": "code",
   "execution_count": 121,
   "metadata": {},
   "outputs": [],
   "source": [
    "zero = np.zeros(2) # [0, 0] exists in the set of vector V, now we have to check the property holds "
   ]
  },
  {
   "cell_type": "code",
   "execution_count": 122,
   "metadata": {},
   "outputs": [
    {
     "name": "stdout",
     "output_type": "stream",
     "text": [
      "a + 0 is [2. 2.] and a is [2 2]\n"
     ]
    }
   ],
   "source": [
    "print(\"a + 0 is {} and a is {}\".format(a + zero, a))"
   ]
  },
  {
   "cell_type": "markdown",
   "metadata": {},
   "source": [
    "### Property 6: Inverse Elements of Addition"
   ]
  },
  {
   "cell_type": "code",
   "execution_count": 123,
   "metadata": {},
   "outputs": [],
   "source": [
    "a_inv = np.array([-2, -2]) "
   ]
  },
  {
   "cell_type": "code",
   "execution_count": 124,
   "metadata": {
    "scrolled": false
   },
   "outputs": [
    {
     "data": {
      "image/png": "[encoded data removed]",
      "text/plain": [
       "<matplotlib.figure.Figure at 0x615c63e80>"
      ]
     },
     "metadata": {},
     "output_type": "display_data"
    }
   ],
   "source": [
    "# plot a and au\n",
    "soa = np.array([[0, 0, 2, 2], [0, 0, -2, -2]])\n",
    "X, Y, U, V = zip(*soa)\n",
    "plt.figure()\n",
    "ax = plt.gca()\n",
    "ax.quiver(X, Y, U, V, angles='xy', scale_units='xy', scale=1, color = [\"blue\", \"green\"])\n",
    "ax.set_xlim([-5, 5])\n",
    "ax.set_ylim([-5, 5])\n",
    "plt.title('Vector Space (a = blue, -a = green)')\n",
    "plt.xlabel('$x_1$', fontsize = 20)\n",
    "plt.ylabel('$x_2$', fontsize = 20)\n",
    "plt.grid()"
   ]
  },
  {
   "cell_type": "markdown",
   "metadata": {},
   "source": [
    "For each vector $\\pmb a$ in $V$, there exists an element $-\\pmb a$ that is also in $V$. Now we know it exists in the set, we have to check the property holds."
   ]
  },
  {
   "cell_type": "code",
   "execution_count": 125,
   "metadata": {},
   "outputs": [
    {
     "name": "stdout",
     "output_type": "stream",
     "text": [
      "a + (-a) is [0 0]\n"
     ]
    }
   ],
   "source": [
    "print(\"a + (-a) is {}\".format(a + a_inv))"
   ]
  },
  {
   "cell_type": "markdown",
   "metadata": {},
   "source": [
    "### Property 7: (Distributivity of scalar multiplication w.r.t to vector addition)"
   ]
  },
  {
   "cell_type": "code",
   "execution_count": 126,
   "metadata": {},
   "outputs": [
    {
     "name": "stdout",
     "output_type": "stream",
     "text": [
      "u(a + b) is [10 10] and ua + ub is [10 10]\n"
     ]
    }
   ],
   "source": [
    "print(\"u(a + b) is {} and ua + ub is {}\".format(2*(a + b), 2*a + 2*b))"
   ]
  },
  {
   "cell_type": "markdown",
   "metadata": {},
   "source": [
    "### Property 8: (Distributivity of scalar multiplication w.r.t to vector addition)"
   ]
  },
  {
   "cell_type": "code",
   "execution_count": 127,
   "metadata": {},
   "outputs": [
    {
     "name": "stdout",
     "output_type": "stream",
     "text": [
      "(u + v)a is [10 10] and ua + va is [10 10]\n"
     ]
    }
   ],
   "source": [
    "print(\"(u + v)a is {} and ua + va is {}\".format((2 + 3)*a, 2*a + 3*a))"
   ]
  },
  {
   "cell_type": "markdown",
   "metadata": {},
   "source": [
    "### Property 9: (Compatibility of scalar multiplication with scalar multiplication))"
   ]
  },
  {
   "cell_type": "code",
   "execution_count": 128,
   "metadata": {},
   "outputs": [
    {
     "name": "stdout",
     "output_type": "stream",
     "text": [
      "(uv)a is [12 12] and u(va) is [12 12]\n"
     ]
    }
   ],
   "source": [
    "print(\"(uv)a is {} and u(va) is {}\".format((2*3)*a, 2*(3*a)))"
   ]
  },
  {
   "cell_type": "markdown",
   "metadata": {},
   "source": [
    "### Property 10: (Identity element of scalar multiplication))"
   ]
  },
  {
   "cell_type": "code",
   "execution_count": 129,
   "metadata": {
    "scrolled": true
   },
   "outputs": [
    {
     "name": "stdout",
     "output_type": "stream",
     "text": [
      "1a is [2 2] and a is [2 2]\n"
     ]
    }
   ],
   "source": [
    "print(\"1a is {} and a is {}\".format(1*a, a))"
   ]
  },
  {
   "cell_type": "markdown",
   "metadata": {},
   "source": [
    "Since the set $V$ which is defined by the vectors that are in the general form of $[x, x]^T$ satisifies the 10 properties, we can say that this set $V$ is a vector space. In fact, this set $V$ which turned out to be just a line in $\\mathbb R^2$, is a \"special\" vector space since it is contained within a larger vector space (we can also prove that $\\mathbb R^2$ is a vector space). We have a special name for \"vector spaces inside other vector spaces\" - we call them __Subspaces__ (see next section)."
   ]
  },
  {
   "cell_type": "markdown",
   "metadata": {},
   "source": [
    "### Example 2 (Set V is not a Vector Space):"
   ]
  },
  {
   "cell_type": "code",
   "execution_count": 130,
   "metadata": {},
   "outputs": [],
   "source": [
    "a = np.array([1,2])\n",
    "b = np.array([-3,-1])\n",
    "c = np.array([4,3])"
   ]
  },
  {
   "cell_type": "markdown",
   "metadata": {},
   "source": [
    "Does the set $V$ of all vectors in the general form of $[x, y]^T$ where $xy \\geq 0$ such as $\\pmb a$ and $\\pmb b$ defined above form a vector space? "
   ]
  },
  {
   "cell_type": "code",
   "execution_count": 131,
   "metadata": {
    "scrolled": false
   },
   "outputs": [
    {
     "data": {
      "image/png": "[encoded data removed]",
      "text/plain": [
       "<matplotlib.figure.Figure at 0x615c72fd0>"
      ]
     },
     "metadata": {},
     "output_type": "display_data"
    }
   ],
   "source": [
    "# plot a and b \n",
    "soa = np.array([[0, 0, 1, 2], [0, 0, -3, -1]])\n",
    "X, Y, U, V = zip(*soa)\n",
    "plt.figure()\n",
    "ax = plt.gca()\n",
    "ax.quiver(X, Y, U, V, angles='xy', scale_units='xy', scale=1, color = [\"blue\", \"green\"])\n",
    "ax.set_xlim([-5, 5])\n",
    "ax.set_ylim([-5, 5])\n",
    "plt.title('Vector Space (a = blue, b = green)')\n",
    "plt.xlabel('$x_1$', fontsize = 20)\n",
    "plt.ylabel('$x_2$', fontsize = 20)\n",
    "plt.axhline(y=0, color='r', linestyle='-')\n",
    "plt.axvline(x=0, color='r', linestyle='-')\n",
    "plt.grid()"
   ]
  },
  {
   "cell_type": "markdown",
   "metadata": {},
   "source": [
    "We want to see if the set of vectors that lie in the top right and bottom left quadrants form a vector space in $\\mathbb R^2$"
   ]
  },
  {
   "cell_type": "markdown",
   "metadata": {},
   "source": [
    "### Property 1: Additive Closure "
   ]
  },
  {
   "cell_type": "code",
   "execution_count": 132,
   "metadata": {
    "scrolled": true
   },
   "outputs": [
    {
     "data": {
      "image/png": "[encoded data removed]",
      "text/plain": [
       "<matplotlib.figure.Figure at 0x615e4e6d8>"
      ]
     },
     "metadata": {},
     "output_type": "display_data"
    }
   ],
   "source": [
    "# plot a, b, and a + b \n",
    "soa = np.array([[0, 0, 1, 2], [0, 0, -3, -1], [0, 0, -2, 1]])\n",
    "X, Y, U, V = zip(*soa)\n",
    "plt.figure()\n",
    "ax = plt.gca()\n",
    "ax.quiver(X, Y, U, V, angles='xy', scale_units='xy', scale=1, color = [\"blue\", \"green\", \"red\"])\n",
    "ax.set_xlim([-5, 5])\n",
    "ax.set_ylim([-5, 5])\n",
    "plt.title('Vector Space (a = blue, b = green, a+b = \"red\")')\n",
    "plt.xlabel('$x_1$', fontsize = 20)\n",
    "plt.ylabel('$x_2$', fontsize = 20)\n",
    "plt.axhline(y=0, color='r', linestyle='-')\n",
    "plt.axvline(x=0, color='r', linestyle='-')\n",
    "plt.grid()"
   ]
  },
  {
   "cell_type": "markdown",
   "metadata": {},
   "source": [
    "Since $\\pmb a$ + $\\pmb b$ lies in a different quadrant than the vectors that define our set $V$, the set is not closed under addition. "
   ]
  },
  {
   "cell_type": "markdown",
   "metadata": {},
   "source": [
    "The rest of the \"tests\" are not shown here as they replicate the process in Example 1. Although the remaining \"tests\" will pass, if the set of rules fails just once, the set $V$ is not a vector space. "
   ]
  },
  {
   "cell_type": "markdown",
   "metadata": {},
   "source": [
    "### 7.3.14 Linear Subspaces:"
   ]
  },
  {
   "cell_type": "markdown",
   "metadata": {},
   "source": [
    "__Overview:__ \n",
    "- __[Linear Subspace](https://en.wikipedia.org/wiki/Linear_subspace):__ Linear Subspace (or just, Subspace) is simply a set of vectors from a known vector space that is also a vector space (i.e. vector space inside another vector space)\n",
    "- Now that we understand what a vector space is, understanding a subspace is natural. If we can prove a set $V$ is a vector space and then we take a subset of vectors from $V$ and prove that subset is ALSO vector space, then this subset is called a subspace \n",
    "- We can formalize the conditions of a subspace in the following way - If $V$ is a vector space and $W$ is a subset of $V$ (i.e $W$ is just a set of vectors that was taken from $V$), then $W$ is a subspace if and only if the following 3 conditions are met:\n",
    "> 1. $W$ contains the zero vector ($\\pmb 0$)\n",
    "> 2. If $\\pmb u$ and $\\pmb v$ are two vectors in the set $W$, then the sum of $\\pmb u + \\pmb v$ must also be in the set $W$ (closed under addition) \n",
    "> 3. If $\\pmb u$ is a vector in the set $W$, then the scalar product $c \\pmb u$ must also be in the set $W$ (closed under multiplication) \n",
    "\n",
    "__Helpful Points:__\n",
    "1. Note that if the three conditions above hold and we know that $W$ is a subset of a known vector space, then all the 10 properties listed above hold \n",
    "\n",
    "__Examples:__ Practice with Linear Subspaces in Python "
   ]
  },
  {
   "cell_type": "markdown",
   "metadata": {},
   "source": [
    "### Example 1 (Set W is a Subspace):"
   ]
  },
  {
   "cell_type": "markdown",
   "metadata": {},
   "source": [
    "Recall above that the set $W$ of vectors in the general form of $[x, x]$ (which was just a straight line) formed a vector space. Since $\\mathbb R^2$ is also a vector space and since $W$ is a subset of all the vectors in $\\mathbb R^2$, $W$ is a subspace of $\\mathbb R^2$. "
   ]
  },
  {
   "cell_type": "markdown",
   "metadata": {},
   "source": [
    "### Example 2 (Set W is not a Subspace):"
   ]
  },
  {
   "cell_type": "code",
   "execution_count": 133,
   "metadata": {},
   "outputs": [],
   "source": [
    "a = np.array([2,-1])\n",
    "b = np.array([6,3])"
   ]
  },
  {
   "cell_type": "markdown",
   "metadata": {},
   "source": [
    "Does the set $W$ of all vectors in the general form of $[x, y]^T$ where $x \\geq 0$ such as $\\pmb a$ and $\\pmb b$ defined above form a subspace in $\\mathbb R^2$? "
   ]
  },
  {
   "cell_type": "code",
   "execution_count": 134,
   "metadata": {
    "scrolled": false
   },
   "outputs": [
    {
     "data": {
      "image/png": "[encoded data removed]",
      "text/plain": [
       "<matplotlib.figure.Figure at 0x615d67208>"
      ]
     },
     "metadata": {},
     "output_type": "display_data"
    }
   ],
   "source": [
    "# plot a and b \n",
    "soa = np.array([[0, 0, 2, -1], [0, 0, 6, 3]])\n",
    "X, Y, U, V = zip(*soa)\n",
    "plt.figure()\n",
    "ax = plt.gca()\n",
    "ax.quiver(X, Y, U, V, angles='xy', scale_units='xy', scale=1, color = [\"blue\", \"green\"])\n",
    "ax.set_xlim([-10, 10])\n",
    "ax.set_ylim([-10, 10])\n",
    "plt.title('Subspace (a = blue, b = green)')\n",
    "plt.xlabel('$x_1$', fontsize = 20)\n",
    "plt.ylabel('$x_2$', fontsize = 20)\n",
    "plt.axhline(y=0, color='r', linestyle='-')\n",
    "plt.axvline(x=0, color='r', linestyle='-')\n",
    "plt.grid()"
   ]
  },
  {
   "cell_type": "markdown",
   "metadata": {},
   "source": [
    "We want to see if the set of vectors $W$ that lie in the top right and bottom right quadrants form a subspace in $R^2$"
   ]
  },
  {
   "cell_type": "markdown",
   "metadata": {},
   "source": [
    "### Property 1: Contains the Zero Vector"
   ]
  },
  {
   "cell_type": "markdown",
   "metadata": {},
   "source": [
    "Since our set $W$ has only a constraint that $x \\geq 0$, it contains the points $[0, 0]$ and therefore the set $W$ contains the zero vector."
   ]
  },
  {
   "cell_type": "markdown",
   "metadata": {},
   "source": [
    "### Property 2: Additive Closure "
   ]
  },
  {
   "cell_type": "code",
   "execution_count": 135,
   "metadata": {
    "scrolled": false
   },
   "outputs": [
    {
     "data": {
      "image/png": "[encoded data removed]",
      "text/plain": [
       "<matplotlib.figure.Figure at 0x615ddf400>"
      ]
     },
     "metadata": {},
     "output_type": "display_data"
    }
   ],
   "source": [
    "# plot a and b \n",
    "soa = np.array([[0, 0, 2, -1], [0, 0, 6, 3], [0, 0, 8, 2]])\n",
    "X, Y, U, V = zip(*soa)\n",
    "plt.figure()\n",
    "ax = plt.gca()\n",
    "ax.quiver(X, Y, U, V, angles='xy', scale_units='xy', scale=1, color = [\"blue\", \"green\", \"red\"])\n",
    "ax.set_xlim([-10, 10])\n",
    "ax.set_ylim([-10, 10])\n",
    "plt.title('Subspace (a = blue, b = green, a + b = red)')\n",
    "plt.xlabel('$x_1$', fontsize = 20)\n",
    "plt.ylabel('$x_2$', fontsize = 20)\n",
    "plt.axhline(y=0, color='r', linestyle='-')\n",
    "plt.axvline(x=0, color='r', linestyle='-')\n",
    "plt.grid()"
   ]
  },
  {
   "cell_type": "markdown",
   "metadata": {},
   "source": [
    "Since $\\pmb a$ + $\\pmb b$ is also an element of $W$ (i.e. it doesn't leave the top right or bottom right quadrants), it is in the same set as $\\pmb a$ and $\\pmb b$, therefore it is closed under addition. "
   ]
  },
  {
   "cell_type": "markdown",
   "metadata": {},
   "source": [
    "### Property 3: Scalar Closure "
   ]
  },
  {
   "cell_type": "code",
   "execution_count": 136,
   "metadata": {
    "scrolled": false
   },
   "outputs": [
    {
     "data": {
      "image/png": "[encoded data removed]",
      "text/plain": [
       "<matplotlib.figure.Figure at 0x615f87390>"
      ]
     },
     "metadata": {},
     "output_type": "display_data"
    }
   ],
   "source": [
    "# plot a and au \n",
    "soa = np.array([[0, 0, 2, -1], [0, 0, -4, 2]])\n",
    "X, Y, U, V = zip(*soa)\n",
    "plt.figure()\n",
    "ax = plt.gca()\n",
    "ax.quiver(X, Y, U, V, angles='xy', scale_units='xy', scale=1, color = [\"blue\", \"green\"])\n",
    "ax.set_xlim([-10, 10])\n",
    "ax.set_ylim([-10, 10])\n",
    "plt.title('Subspace (a = blue, au = green)')\n",
    "plt.xlabel('$x_1$', fontsize = 20)\n",
    "plt.ylabel('$x_2$', fontsize = 20)\n",
    "plt.axhline(y=0, color='r', linestyle='-')\n",
    "plt.axvline(x=0, color='r', linestyle='-')\n",
    "plt.grid()"
   ]
  },
  {
   "cell_type": "markdown",
   "metadata": {},
   "source": [
    "Since $\\pmb au$ is not an element of $W$ (i.e. it leaves the top right/bottom right quadrants and ends up in the top left quadrant), it is not in the same set as $\\pmb a$ and $\\pmb b$, therefore it is NOT closed under scalar multiplication."
   ]
  },
  {
   "cell_type": "markdown",
   "metadata": {},
   "source": [
    "The set $W$ violates the \"closure under scalar multiplication\" rule and therefore is not a subspace of $\\mathbb R^2$"
   ]
  },
  {
   "cell_type": "markdown",
   "metadata": {},
   "source": [
    "### 7.3.15 Basis:"
   ]
  },
  {
   "cell_type": "markdown",
   "metadata": {},
   "source": [
    "__Overview:__\n",
    "- __[Basis](https://en.wikipedia.org/wiki/Basis_(linear_algebra):__ A basis is a set of vectors from a vector space that are both linearly independent and also span the space (i.e. every element in the space can be written as a linear combination of the basis vectors)\n",
    "- We have seen definitions of linear independence as well as spanning sets, if we combine these definitions, we get a definition for a basis\n",
    "- As a reminder:\n",
    "> 1. __Linear Independence Property:__ A set of vectors $\\textit S = \\{\\pmb u_1, \\pmb u_2, ..., \\pmb u_n\\}$ are linearly independent, if there exists only one solution where $\\alpha_1 = \\alpha_2 = ... = \\alpha_i = 0$ to the linear equation $ \\alpha_1 \\pmb u_1 + \\alpha_2 \\pmb u_2 + ... + \\alpha_n \\pmb u_n = \\pmb 0$\n",
    "> 2. __Spanning Set Property:__ A set of vectors form a spanning set if every vector $x$ in the vector space $V$ can be written as a linear combination of the spanning set: $\\alpha_1 \\pmb u_1 + \\alpha_2 \\pmb u_2 + ... + \\alpha_n \\pmb u_n = \\pmb x$\n",
    "\n",
    "__Helpful Points:__\n",
    "1. Recall that in a spanning set, the vectors don't necessarily have to be linearly independent (i.e. in $\\mathbb R^2$, we can have 3 vectors in our spanning set, although we know one to be \"extra\" or linearly dependent on the others. If we were to remove this \"extra\" vector so our spanning set only contains the \"necessary\" or linearly independent vectors, then we are left with the basis vectors)\n",
    "2. A vector space can have more than one set of basis vectors \n",
    "3. We define the unit vectors $\\pmb u = [0, 1]$ and $\\pmb v = [1, 0]$ to be the standard basis vectors for $\\mathbb R^2$ (i.e. they are linearly independent and span the space $\\mathbb R^2$)\n",
    "\n",
    "__Examples:__ Practice with Bases in Python "
   ]
  },
  {
   "cell_type": "markdown",
   "metadata": {},
   "source": [
    "### Example 1 (Set V form a Basis):"
   ]
  },
  {
   "cell_type": "code",
   "execution_count": 137,
   "metadata": {},
   "outputs": [],
   "source": [
    "a = np.array([0,1])\n",
    "b = np.array([1,0])"
   ]
  },
  {
   "cell_type": "code",
   "execution_count": 138,
   "metadata": {
    "scrolled": true
   },
   "outputs": [
    {
     "data": {
      "image/png": "[encoded data removed]",
      "text/plain": [
       "<matplotlib.figure.Figure at 0x6156cacf8>"
      ]
     },
     "metadata": {},
     "output_type": "display_data"
    }
   ],
   "source": [
    "# plot a and b\n",
    "soa = np.array([[0, 0, 0, 1], [0, 0, 1, 0]])\n",
    "X, Y, U, V = zip(*soa)\n",
    "plt.figure()\n",
    "ax = plt.gca()\n",
    "ax.quiver(X, Y, U, V, angles='xy', scale_units='xy', scale=1, color = [\"blue\", \"green\"])\n",
    "ax.set_xlim([-3, 3])\n",
    "ax.set_ylim([-3, 3])\n",
    "plt.title('Basis (a = blue, b = green)')\n",
    "plt.xlabel('$x_1$', fontsize = 20)\n",
    "plt.ylabel('$x_2$', fontsize = 20)\n",
    "plt.grid()"
   ]
  },
  {
   "cell_type": "markdown",
   "metadata": {},
   "source": [
    "To check if the vectors $\\pmb a$ and $\\pmb b$ form a basis for $\\mathbb R^2$, we must check that they are linearly independent and they span the space $\\mathbb R^2$"
   ]
  },
  {
   "cell_type": "markdown",
   "metadata": {},
   "source": [
    "### Property 1: Linear Independence"
   ]
  },
  {
   "cell_type": "markdown",
   "metadata": {},
   "source": [
    "Check if the vectors $\\pmb a$ and $\\pmb b$ can be multiplied by coefficients other than zero to get the zero vector:\n",
    "\n",
    "<center> $c_1[0,1]^T + c_2[1,0]^T = [0,0]^T$ </center>\n",
    "\n",
    "> $c_1 = 0$<br>\n",
    "> $c_2 = 0$<br>\n",
    "\n",
    "Since the only solution is where $c_i = 0$ for $1 \\leq i \\leq 2$, the vectors must be linearly independent "
   ]
  },
  {
   "cell_type": "markdown",
   "metadata": {},
   "source": [
    "### Property 2: Spanning Set"
   ]
  },
  {
   "cell_type": "markdown",
   "metadata": {},
   "source": [
    "If $\\pmb a$ and $\\pmb b$ span $\\mathbb R^2$, then there should exist some set of coefficients $c_1$ and $c_2$ such that we can produce any vector in $\\mathbb R^2$. For example, let's consider the vector defined by the coordinates $[-2, 5]$:\n",
    "\n",
    "<center> $c_1[0,1]^T + c_2[1,0]^T = [-2,5]^T$ </center>"
   ]
  },
  {
   "cell_type": "code",
   "execution_count": 139,
   "metadata": {
    "scrolled": true
   },
   "outputs": [
    {
     "data": {
      "image/png": "[encoded data removed]",
      "text/plain": [
       "<matplotlib.figure.Figure at 0x61578a470>"
      ]
     },
     "metadata": {},
     "output_type": "display_data"
    }
   ],
   "source": [
    "# plot a and b\n",
    "soa = np.array([[0, 0, 0, 1], [0, 0, 1, 0], [0, 0, -2, 5]])\n",
    "X, Y, U, V = zip(*soa)\n",
    "plt.figure()\n",
    "ax = plt.gca()\n",
    "ax.quiver(X, Y, U, V, angles='xy', scale_units='xy', scale=1, color = [\"blue\", \"green\", \"red\"])\n",
    "ax.set_xlim([-5, 5])\n",
    "ax.set_ylim([-5, 5])\n",
    "plt.title('Basis (a = blue, b = green, x = red)')\n",
    "plt.xlabel('$x_1$', fontsize = 20)\n",
    "plt.ylabel('$x_2$', fontsize = 20)\n",
    "plt.grid()"
   ]
  },
  {
   "cell_type": "markdown",
   "metadata": {},
   "source": [
    "The solution to this linear equation exists (don't worry, we will go over how to solve this in Lecture 8):\n",
    "\n",
    "> $c_1 = 5$<br>\n",
    "> $c_2 = -2$<br>\n",
    "\n",
    "Since coefficients exist for $c_1$ and $c_2$, the vectors span the space"
   ]
  },
  {
   "cell_type": "code",
   "execution_count": 140,
   "metadata": {
    "scrolled": false
   },
   "outputs": [
    {
     "data": {
      "image/png": "[encoded data removed]",
      "text/plain": [
       "<matplotlib.figure.Figure at 0x615b52940>"
      ]
     },
     "metadata": {},
     "output_type": "display_data"
    }
   ],
   "source": [
    "# plot c_1a (shifted), c_2b and x\n",
    "soa = np.array([[-2, 0, 0, 5], [0, 0, -2, 0], [0, 0, -2, 5]])\n",
    "X, Y, U, V = zip(*soa)\n",
    "plt.figure()\n",
    "ax = plt.gca()\n",
    "ax.quiver(X, Y, U, V, angles='xy', scale_units='xy', scale=1, color = [\"blue\", \"green\", \"red\"])\n",
    "ax.set_xlim([-5, 5])\n",
    "ax.set_ylim([-5, 5])\n",
    "plt.title('Basis (a = blue, b = green, x = red)')\n",
    "plt.xlabel('$x_1$', fontsize = 20)\n",
    "plt.ylabel('$x_2$', fontsize = 20)\n",
    "plt.grid()"
   ]
  },
  {
   "cell_type": "markdown",
   "metadata": {},
   "source": [
    "It is clear that that values for $c_1$ and $c_2$ exist such that the sum of $\\pmb a$ and $\\pmb b$ is equal to the vector $[-2, 5]^T$"
   ]
  },
  {
   "cell_type": "markdown",
   "metadata": {},
   "source": [
    "### Example 2 (Set V does not form a Basis):"
   ]
  },
  {
   "cell_type": "code",
   "execution_count": 141,
   "metadata": {},
   "outputs": [],
   "source": [
    "a = np.array([0,0,3])\n",
    "b = np.array([3,0,0])\n",
    "c = np.array([0,3,0])\n",
    "d = np.array([2,2,2])"
   ]
  },
  {
   "cell_type": "code",
   "execution_count": 142,
   "metadata": {
    "scrolled": true
   },
   "outputs": [
    {
     "data": {
      "image/png": "[encoded data removed]",
      "text/plain": [
       "<matplotlib.figure.Figure at 0x6159aec18>"
      ]
     },
     "metadata": {},
     "output_type": "display_data"
    }
   ],
   "source": [
    "fig = plt.figure()\n",
    "ax = fig.gca(projection=\"3d\")\n",
    "soa = np.array([[0,0,0,0,0,3], [0,0,0,3,0,0], [0,0,0,0,3,0], [0,0,0,4,2,2]])\n",
    "X, Y, Z, U, V, W = zip(*soa)\n",
    "ax.set_xlim3d(0, 4)\n",
    "ax.set_ylim3d(0, 4)\n",
    "ax.set_zlim3d(0, 4)\n",
    "ax.quiver(X, Y, Z, U, V, W, length=1, arrow_length_ratio = 0.1, colors = [\"blue\", \"green\", \"red\", \"black\"])\n",
    "plt.title('Basis (a = blue, b = green, c = red, d = black)')\n",
    "ax.set_xlabel('$x_1$', fontsize=20)\n",
    "ax.set_ylabel('$x_2$', fontsize=20)\n",
    "ax.set_zlabel('$x_3$', fontsize=20)\n",
    "plt.show()"
   ]
  },
  {
   "cell_type": "markdown",
   "metadata": {},
   "source": [
    "To check if the vectors $\\pmb a$, $\\pmb b$, $\\pmb c$, and $\\pmb d$ form a basis for $\\mathbb R^3$, we must check that they are linearly independent and they span the space $\\mathbb R^3$"
   ]
  },
  {
   "cell_type": "markdown",
   "metadata": {},
   "source": [
    "### Property 1: Linear Independence"
   ]
  },
  {
   "cell_type": "markdown",
   "metadata": {},
   "source": [
    "Check if the vectors $\\pmb a$, $\\pmb b$, $\\pmb c$, and $\\pmb d$ can be multiplied by coefficients other than zero to get the zero vector:\n",
    "\n",
    "<center> $c_1[0,0,3]^T + c_2[3,0,0]^T + c_3[0,3,0]^T + c_4[4,2,2]^T = [0,0,0]^T$ </center>\n",
    "\n",
    "One possible solution is:\n",
    "> $c_1 = 1$<br>\n",
    "> $c_2 = 2$<br>\n",
    "> $c_3 = 1$<br>\n",
    "> $c_4 = -3/2$<br>\n",
    "\n",
    "Since another solution exists, other than $c_i = 0, 1 \\leq i \\leq 4$, the set of vectors are linearly dependent. This makes since we know inuitively that the vectors $[0,0,3], [3,0,0], [0,3,0]$ are linearly dependent and span $\\mathbb R^3$, therefore any additional vector added will immediately become \"extra\"."
   ]
  },
  {
   "cell_type": "markdown",
   "metadata": {},
   "source": [
    "### Property 2: Spanning Set"
   ]
  },
  {
   "cell_type": "markdown",
   "metadata": {},
   "source": [
    "The set of vectors $\\pmb a, \\pmb b, \\pmb c, \\pmb d$ still span $\\mathbb R^3$, however."
   ]
  },
  {
   "cell_type": "markdown",
   "metadata": {},
   "source": [
    "In summary, although the vectors span $\\mathbb R^3$, they are not linearly independent, therefore they do not form a basis for $\\mathbb R^3$. A formal theorem carries from this observation:\n",
    "\n",
    "If $S = {\\pmb v_1, \\pmb v_2, \\pmb v_3, ..., \\pmb v_t}$ is a set of vectors which spans the vector space $V$, then any set of $t + 1$ or more vectors from $V$ is linearly dependent. \n",
    "\n",
    "In Example 2 above, the set of vectors $\\pmb a, \\pmb b$ and $\\pmb c$ already span the vector space $\\mathbb R^3$, therefore the set of vectors that includes $\\pmb d$ will immediately become linearly dependent. "
   ]
  },
  {
   "cell_type": "markdown",
   "metadata": {},
   "source": [
    "### 7.3.16 Dimension:"
   ]
  },
  {
   "cell_type": "markdown",
   "metadata": {},
   "source": [
    "__Overview:__ \n",
    "- [Dimension](https://en.wikipedia.org/wiki/Dimension_(vector_space): Dimension of a vector space indicates the number of vectors present in the basis of that vector space \n",
    "- We have seen how to compute a basis for any vector space and if we know the basis of a vector space, we can simply count the number of vectors and this tells us the dimension of the space \n",
    "\n",
    "__Helpful Points:__\n",
    "1. In general, if $\\textit V$ is a vector space and $\\{v_1, v_2, v_2, ..., v_t\\}$ is a basis of $V$, then the dimension of $\\textit V$ is defined by $dim(V) = t$\n",
    "2. $\\mathbb R^2$ has dimension 2 since it has 2 basis vectors (i.e. `[0,1]`, `[1,0]`) and $\\mathbb R^3$ has dimension 3 since it has 3 basis vectors (i.e. `[0,0,1]`, `[1,0,0]`, `[0,1,0]`. In general, $dim_R(\\mathbb R^n) = n$\n",
    "3. Remember that if $W$ is a linear subspace of $V$, then by definition, $dim(W) \\leq dim(V)$"
   ]
  },
  {
   "cell_type": "markdown",
   "metadata": {},
   "source": [
    "### ANSWERS TO LECTURE 7 PROBLEMS:"
   ]
  },
  {
   "cell_type": "markdown",
   "metadata": {},
   "source": [
    "### Problem 1:\n",
    "Create 3 vectors and 1 scalar and call them $\\pmb a$, $\\pmb b$, $\\pmb d$, and $c$, respectively. Show that the 8 properties of vector addition and scalar multiplication with a vector hold.\n",
    "\n",
    "Initialize the vectors and scalar as the following:\n",
    "- $\\pmb a = [1,2,1]$\n",
    "- $\\pmb b = [3,4,5]$\n",
    "- $\\pmb d = [2,3,5]$\n",
    "- $c = 3$"
   ]
  },
  {
   "cell_type": "code",
   "execution_count": null,
   "metadata": {},
   "outputs": [],
   "source": [
    "a = np.array([1,2,1])\n",
    "b = np.array([3,4,5])\n",
    "d = np.array([2,3,5])\n",
    "c = 3\n",
    "zero = np.array([0,0,0])"
   ]
  },
  {
   "cell_type": "code",
   "execution_count": null,
   "metadata": {},
   "outputs": [],
   "source": [
    "print(\"Property 1\")\n",
    "print(a + b)\n",
    "print(b + a)\n",
    "print(\"Property 2\")\n",
    "print(a + (b+c))\n",
    "print((a+b) + c)\n",
    "print(\"Property 3\")\n",
    "print(a)\n",
    "print(a + zero)\n",
    "print(\"Property 4\")\n",
    "print(a + -a)\n",
    "print(zero)"
   ]
  },
  {
   "cell_type": "code",
   "execution_count": null,
   "metadata": {
    "scrolled": true
   },
   "outputs": [],
   "source": [
    "print(\"Property 5\")\n",
    "print(c*(a + b))\n",
    "print(c*a + c*b)\n",
    "print(\"Property 6\")\n",
    "print((c+d)*a)\n",
    "print(c*a + d*a)\n",
    "print(\"Property 7\")\n",
    "print((c*d)*a)\n",
    "print(c*(d*a))\n",
    "print(\"Property 8\")\n",
    "print(1*a)\n",
    "print(a)"
   ]
  },
  {
   "cell_type": "markdown",
   "metadata": {},
   "source": [
    "### Problem 2:\n",
    "\n",
    "Compute the dot product of the following set of vectors: \n",
    "\n",
    "Set 1: \n",
    "$\\pmb a = [1,3]$\n",
    "$\\pmb b = [2,6]$\n",
    "\n",
    "Set 2:\n",
    "$\\pmb c = [2,1]$\n",
    "$\\pmb d = [-8,-4]$\n",
    "\n",
    "Set 3:\n",
    "$\\pmb e = [4,0]$\n",
    "$\\pmb f = [0,6]$\n",
    "\n",
    "Comment on the angle between each set of vectors. "
   ]
  },
  {
   "cell_type": "code",
   "execution_count": null,
   "metadata": {},
   "outputs": [],
   "source": [
    "a = np.array([1,3])\n",
    "b = np.array([2,6])\n",
    "c = np.array([2,1])\n",
    "d = np.array([-8,-4])\n",
    "e = np.array([4,0])\n",
    "f = np.array([0,6])"
   ]
  },
  {
   "cell_type": "code",
   "execution_count": null,
   "metadata": {},
   "outputs": [],
   "source": [
    "np.dot(a,b)"
   ]
  },
  {
   "cell_type": "markdown",
   "metadata": {},
   "source": [
    "c > 0 so angle between a and b will be 0 degrees since the vectors lie on top of each other. "
   ]
  },
  {
   "cell_type": "code",
   "execution_count": null,
   "metadata": {},
   "outputs": [],
   "source": [
    "np.dot(c,d)"
   ]
  },
  {
   "cell_type": "markdown",
   "metadata": {},
   "source": [
    "c < 0 so angle between a and b will be 180 degrees since the vectors lie tip to tip. "
   ]
  },
  {
   "cell_type": "code",
   "execution_count": null,
   "metadata": {},
   "outputs": [],
   "source": [
    "np.dot(e,f)"
   ]
  },
  {
   "cell_type": "markdown",
   "metadata": {},
   "source": [
    "Angle between a and b will be 180 degrees since the vectors lie tip to tip. "
   ]
  },
  {
   "cell_type": "markdown",
   "metadata": {},
   "source": [
    "### Problem 3:\n",
    "\n",
    "Compute the cross product of the following set of vectors: \n",
    "\n",
    "Set 1: \n",
    "$\\pmb a = [1,3,1]$\n",
    "$\\pmb b = [2,6,2]$\n",
    "\n",
    "Set 2:\n",
    "$\\pmb c = [2,1,1]$\n",
    "$\\pmb d = [-8,-4,-4]$\n",
    "\n",
    "Set 3:\n",
    "$\\pmb e = [4,0,0]$\n",
    "$\\pmb f = [0,6,0]$\n",
    "\n",
    "Comment on the angle between each set of vectors. "
   ]
  },
  {
   "cell_type": "code",
   "execution_count": null,
   "metadata": {},
   "outputs": [],
   "source": [
    "a = np.array([1,3,1])\n",
    "b = np.array([2,6,2])\n",
    "c = np.array([2,1,1])\n",
    "d = np.array([-8,-4,-4])\n",
    "e = np.array([4,0,0])\n",
    "f = np.array([0,6,0])"
   ]
  },
  {
   "cell_type": "code",
   "execution_count": null,
   "metadata": {},
   "outputs": [],
   "source": [
    "np.cross(a,b)"
   ]
  },
  {
   "cell_type": "markdown",
   "metadata": {},
   "source": [
    "The vectors are scalar multiples so the angle btween them is 0 degrees. $Sin(0) = 0$"
   ]
  },
  {
   "cell_type": "code",
   "execution_count": null,
   "metadata": {},
   "outputs": [],
   "source": [
    "np.cross(c,d)"
   ]
  },
  {
   "cell_type": "markdown",
   "metadata": {},
   "source": [
    "The vectors lie tip to top so the angle btween them is 180 degrees. $Sin(180) = 0$"
   ]
  },
  {
   "cell_type": "code",
   "execution_count": null,
   "metadata": {
    "scrolled": true
   },
   "outputs": [],
   "source": [
    "np.cross(e,f)"
   ]
  },
  {
   "cell_type": "markdown",
   "metadata": {},
   "source": [
    "The vectors are perpendicular and therefore the angle between them is 90 degrees. $Sin(90) = 1$"
   ]
  },
  {
   "cell_type": "markdown",
   "metadata": {},
   "source": [
    "### Problem 4:\n",
    "\n",
    "Do the vectors $[1,2]$ and $[3,4]$ span $\\mathbb R^2$? If no, what space do they span? If yes, show that any arbitrary vector, for example, $[3,3]$ can be obtained from the two vectors in the linear span. "
   ]
  },
  {
   "cell_type": "markdown",
   "metadata": {},
   "source": [
    "The two vectors do span $\\mathbb R^2$ since any arbitrary vector can be written as a linear combination of the two vectors in the span. For example, the vector $[3,3]$ can be written as the following: \n",
    "\n",
    "<center> $a[1,2]^T + b[3,4]^T = [3,3]^T$ </center> \n",
    "<br>\n",
    "<center> $ a = \\frac{-3}{2} $ </center>\n",
    "<center> $ b = \\frac{3}{2} $ </center> "
   ]
  },
  {
   "cell_type": "markdown",
   "metadata": {},
   "source": [
    "### Problem 5:\n",
    "\n",
    "Check if the following vectors are linearly independent:\n",
    "\n",
    "$a = [1,2,1]$<br>\n",
    "$b = [2,4,2]$\n",
    "\n",
    "Show how you arrived at your decision."
   ]
  },
  {
   "cell_type": "markdown",
   "metadata": {},
   "source": [
    "The vectors $\\pmb a, \\pmb b, \\pmb d$ can be multiplied by coefficients other than zero to get the zero vector:\n",
    "\n",
    "<center> $c_1*[1,2,1]^T + c_2[2,4,2]^T = [0,0,0]^T$ </center>\n",
    "\n",
    "> $c_1 = -2$<br>\n",
    "> $c_2 = 1$<br>\n",
    "\n",
    "Since there exsits another solution other than where $c_i = 0$ for $1 \\leq i \\leq 2$, the vectors must be linearly dependent."
   ]
  }
 ],
 "metadata": {
  "kernelspec": {
   "display_name": "Python [conda env:test]",
   "language": "python",
   "name": "conda-env-test-py"
  },
  "language_info": {
   "codemirror_mode": {
    "name": "ipython",
    "version": 3
   },
   "file_extension": ".py",
   "mimetype": "text/x-python",
   "name": "python",
   "nbconvert_exporter": "python",
   "pygments_lexer": "ipython3",
   "version": "3.6.7"
  }
 },
 "nbformat": 4,
 "nbformat_minor": 2
}
