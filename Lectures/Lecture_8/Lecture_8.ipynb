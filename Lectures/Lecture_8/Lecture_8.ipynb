{
 "cells": [
  {
   "cell_type": "markdown",
   "metadata": {},
   "source": [
    "# Beginner Python and Math for Data Science\n",
    "## Lecture 8\n",
    "### Linear Algebra - Part 2 "
   ]
  },
  {
   "cell_type": "markdown",
   "metadata": {},
   "source": [
    "__Purpose:__ The purpose of this lecture is to expand our Linear Algebra knowledge to work with matrices and perform matrix operations. Additionally, we will cover some intermediate topics including solving linear equations in matrix form, the 4 fundamental spaces of matrices, determinants, matrix inverses, eigenvalues and eigenvectors and finally, linear transformations with matrices. As always, we will use NumPy to  \n",
    "\n",
    "__At the end of this lecture you will be able to:__\n",
    "> 1. Work with matrices and understand matrix operations\n",
    "> 2. Understand how to solve a system of linear equations using matrix form \n",
    "> 3. Differentiate the 4 fundamental spaces in Linear Algebra\n",
    "> 4. Understand definitions such as invertible, singular, etc. \n",
    "> 5. Work with eigenvectors and eigenvalues \n",
    "> 6. Perform linear transformations using matrices "
   ]
  },
  {
   "cell_type": "code",
   "execution_count": 1,
   "metadata": {},
   "outputs": [],
   "source": [
    "import numpy as np \n",
    "from scipy import linalg \n",
    "import matplotlib.pyplot as plt\n",
    "from mpl_toolkits.mplot3d import axes3d\n",
    "%matplotlib inline "
   ]
  },
  {
   "cell_type": "markdown",
   "metadata": {},
   "source": [
    "## 8.1 Matrices "
   ]
  },
  {
   "cell_type": "markdown",
   "metadata": {},
   "source": [
    "### 8.1 What is a Matrix?"
   ]
  },
  {
   "cell_type": "markdown",
   "metadata": {},
   "source": [
    "__Overview:__\n",
    "- __[Matrix](https://en.wikipedia.org/wiki/Matrix_(mathematics):__ A Matrix is simply a two-dimensional array that consists of numbers along the rows and columns \n",
    "- Typically, we characterize matrices by their shape: an $m$ $x$ $n$ matrix $\\pmb A$ is said to have $m$ rows and $n$ columns\n",
    "- Each element in the matrix is denoted with `i` and `j` notation in the form of $a_{i,j}$ where $i$ represents the row index and $j$ represents the column index \n",
    "- You will notice that the \"rows\" or \"columns\" in a matrix are just vectors as we have seen so far\n",
    "\n",
    "__Helpful Points:__\n",
    "1. In Python, matrices are considered two-dimensional arrays and are of the type `numpy.ndarray`\n",
    "2. There are some \"special\" matrices such as:\n",
    ">a. An __[Identity Matrix](https://en.wikipedia.org/wiki/Identity_matrix)__ is a matrix that has ones along the main diagonal and zeors everywhere else <br>\n",
    ">b. A __Zero Matrix__ is a matrix with zeros on every element of the matrix <br>\n",
    ">c. A __[Square Matrix](https://en.wikipedia.org/wiki/Square_matrix)__ is a matrix with equal number of rows as columns <br>\n",
    ">d. A __[Symmetric Matrix](https://en.wikipedia.org/wiki/Symmetric_matrix)__ is a matrix that can be flipped (transposed) without affecting the elements of the matrix <br>\n",
    ">e. A __[Diagonal Matrix](https://en.wikipedia.org/wiki/Diagonal_matrix)__ is a matrix the main diagonal has non-zero elements from the upper left to the lower right and the remaining elements are zero<br>\n",
    "\n",
    "__Practice:__ Examples of matrices in Python "
   ]
  },
  {
   "cell_type": "markdown",
   "metadata": {},
   "source": [
    "### Example 1 (Create Square Matrix):"
   ]
  },
  {
   "cell_type": "code",
   "execution_count": 2,
   "metadata": {
    "scrolled": true
   },
   "outputs": [
    {
     "name": "stdout",
     "output_type": "stream",
     "text": [
      "[[1 2]\n",
      " [3 4]]\n"
     ]
    }
   ],
   "source": [
    "my_matrix = np.array([[1,2], [3,4]])\n",
    "print(my_matrix)"
   ]
  },
  {
   "cell_type": "code",
   "execution_count": 3,
   "metadata": {},
   "outputs": [
    {
     "data": {
      "text/plain": [
       "2"
      ]
     },
     "execution_count": 3,
     "metadata": {},
     "output_type": "execute_result"
    }
   ],
   "source": [
    "my_matrix.ndim"
   ]
  },
  {
   "cell_type": "code",
   "execution_count": 4,
   "metadata": {},
   "outputs": [
    {
     "data": {
      "text/plain": [
       "(2, 2)"
      ]
     },
     "execution_count": 4,
     "metadata": {},
     "output_type": "execute_result"
    }
   ],
   "source": [
    "my_matrix.shape"
   ]
  },
  {
   "cell_type": "markdown",
   "metadata": {},
   "source": [
    "The matrix above is square because there are equal rows and columns. "
   ]
  },
  {
   "cell_type": "markdown",
   "metadata": {},
   "source": [
    "### Example 2 (Create Non-Square Matrix):"
   ]
  },
  {
   "cell_type": "code",
   "execution_count": 5,
   "metadata": {},
   "outputs": [
    {
     "name": "stdout",
     "output_type": "stream",
     "text": [
      "[[1 2]\n",
      " [4 5]\n",
      " [7 8]]\n"
     ]
    }
   ],
   "source": [
    "my_matrix_1 = np.array([[1,2], [4,5], [7,8]])\n",
    "print(my_matrix_1)"
   ]
  },
  {
   "cell_type": "code",
   "execution_count": 6,
   "metadata": {},
   "outputs": [
    {
     "data": {
      "text/plain": [
       "2"
      ]
     },
     "execution_count": 6,
     "metadata": {},
     "output_type": "execute_result"
    }
   ],
   "source": [
    "my_matrix_1.ndim"
   ]
  },
  {
   "cell_type": "code",
   "execution_count": 7,
   "metadata": {},
   "outputs": [
    {
     "data": {
      "text/plain": [
       "(3, 2)"
      ]
     },
     "execution_count": 7,
     "metadata": {},
     "output_type": "execute_result"
    }
   ],
   "source": [
    "my_matrix_1.shape"
   ]
  },
  {
   "cell_type": "markdown",
   "metadata": {},
   "source": [
    "The matrix above is not square because there are unequal rows and columns. "
   ]
  },
  {
   "cell_type": "markdown",
   "metadata": {},
   "source": [
    "### Example 3 (Identity Matrix):"
   ]
  },
  {
   "cell_type": "code",
   "execution_count": 8,
   "metadata": {},
   "outputs": [
    {
     "name": "stdout",
     "output_type": "stream",
     "text": [
      "[[1 0 0]\n",
      " [0 1 0]\n",
      " [0 0 1]]\n"
     ]
    }
   ],
   "source": [
    "identity_matrix = np.array([[1,0,0], [0,1,0], [0,0,1]])\n",
    "print(identity_matrix)"
   ]
  },
  {
   "cell_type": "markdown",
   "metadata": {},
   "source": [
    "### Example 4 (Symmetric Matrix):"
   ]
  },
  {
   "cell_type": "code",
   "execution_count": 9,
   "metadata": {},
   "outputs": [
    {
     "name": "stdout",
     "output_type": "stream",
     "text": [
      "[[1 2 1]\n",
      " [2 0 1]\n",
      " [1 1 1]]\n"
     ]
    }
   ],
   "source": [
    "symmetric_matrix = np.array([[1,2,1], [2,0,1], [1,1,1]])\n",
    "print(symmetric_matrix)"
   ]
  },
  {
   "cell_type": "code",
   "execution_count": 10,
   "metadata": {
    "scrolled": true
   },
   "outputs": [
    {
     "name": "stdout",
     "output_type": "stream",
     "text": [
      "[[1 2 1]\n",
      " [2 0 1]\n",
      " [1 1 1]]\n"
     ]
    }
   ],
   "source": [
    "print(symmetric_matrix.transpose()) # flip the matrix "
   ]
  },
  {
   "cell_type": "markdown",
   "metadata": {},
   "source": [
    "The original matrix was considered symmetric since after flipping the matrix (i.e. turning it on its side), the elements of the matrix do not change. "
   ]
  },
  {
   "cell_type": "markdown",
   "metadata": {},
   "source": [
    "### Example 5 (Diagonal Matrix):"
   ]
  },
  {
   "cell_type": "code",
   "execution_count": 11,
   "metadata": {},
   "outputs": [
    {
     "name": "stdout",
     "output_type": "stream",
     "text": [
      "[[ 1  0  0]\n",
      " [ 0  4  0]\n",
      " [ 0  0 -3]\n",
      " [ 0  0  0]]\n"
     ]
    }
   ],
   "source": [
    "diagonal_matrix = np.array([[1,0,0], [0,4,0], [0,0,-3], [0,0,0]])\n",
    "print(diagonal_matrix)"
   ]
  },
  {
   "cell_type": "markdown",
   "metadata": {},
   "source": [
    "In general, a matrix is considered diagonal if for any i,j combination, where i = j, the element must be non-zero. For any other element, it is set to zero "
   ]
  },
  {
   "cell_type": "markdown",
   "metadata": {},
   "source": [
    "### Example 6 (Zero Matrix):"
   ]
  },
  {
   "cell_type": "code",
   "execution_count": 12,
   "metadata": {
    "scrolled": true
   },
   "outputs": [
    {
     "name": "stdout",
     "output_type": "stream",
     "text": [
      "[[0. 0. 0.]\n",
      " [0. 0. 0.]\n",
      " [0. 0. 0.]]\n"
     ]
    }
   ],
   "source": [
    "zero_matrix = np.zeros(9).reshape(3,3)\n",
    "print(zero_matrix)"
   ]
  },
  {
   "cell_type": "markdown",
   "metadata": {},
   "source": [
    "### 8.2 Notating Matrices:"
   ]
  },
  {
   "cell_type": "markdown",
   "metadata": {},
   "source": [
    "__Overview:__\n",
    "- Again, it is useful to know how matrices are notated in mathematical notation \n",
    "- Here are some practices used when notating matrices:\n",
    "> 1. The matrix name is usually uppercase (so $\\pmb X$ would represent a matrix)\n",
    "> 2. The matrix name is usually boldfaced ($\\pmb X$)\n",
    "> 3. The elements within a matrix are italicized and referenced with subscripts denoting their ordered position ($\\textit A_{m,n}$)\n",
    "\n",
    "- As mentioned above, matrices are just two-dimensional arrays where each row and column are vectors: \n",
    "<img src=\"img35.png\">\n",
    "- Row vectors:\n",
    "> $[A_{1,1},A_{1,2}]$ and $[A_{2,1},A_{2,2}]$\n",
    "- Columns vectors:\n",
    "> $[A_{1,1},A_{2,1}]^T$ and $[A_{1,2},A_{2,2}]^T$\n",
    "\n",
    "__Helpful Points:__\n",
    "1. Similar to vectors, we can specify the real coordinate space that the matrix belongs to. If a real-valued matrix $\\pmb A$ has $m$ rows and $n$ columns, then we can say that $\\pmb A \\in \\mathbb R^{m x n}$\n",
    "2. Matrix notation allows us to access specific elements within the matrix by row/column indexing similar to lists and other objects in Python \n",
    "\n",
    "__Practice:__ Examples of Accessing Matrices in Python "
   ]
  },
  {
   "cell_type": "markdown",
   "metadata": {},
   "source": [
    "### Example 1 (Accessing Elements in Matrices):"
   ]
  },
  {
   "cell_type": "code",
   "execution_count": 13,
   "metadata": {},
   "outputs": [
    {
     "name": "stdout",
     "output_type": "stream",
     "text": [
      "[[ 1  2  3]\n",
      " [ 4  5  6]\n",
      " [ 7  8  9]\n",
      " [10 11 12]]\n"
     ]
    }
   ],
   "source": [
    "my_matrix = np.array([[1,2,3], [4,5,6], [7,8,9], [10,11,12]])\n",
    "print(my_matrix)"
   ]
  },
  {
   "cell_type": "code",
   "execution_count": 14,
   "metadata": {},
   "outputs": [
    {
     "data": {
      "text/plain": [
       "array([[ 3],\n",
       "       [ 6],\n",
       "       [ 9],\n",
       "       [12]])"
      ]
     },
     "execution_count": 14,
     "metadata": {},
     "output_type": "execute_result"
    }
   ],
   "source": [
    "my_matrix[:,2:3] # 3rd column, all rows "
   ]
  },
  {
   "cell_type": "markdown",
   "metadata": {},
   "source": [
    "This is known as a Column Vector"
   ]
  },
  {
   "cell_type": "code",
   "execution_count": 15,
   "metadata": {},
   "outputs": [
    {
     "data": {
      "text/plain": [
       "array([1, 2, 3])"
      ]
     },
     "execution_count": 15,
     "metadata": {},
     "output_type": "execute_result"
    }
   ],
   "source": [
    "my_matrix[0,:] # first row, all columns"
   ]
  },
  {
   "cell_type": "markdown",
   "metadata": {},
   "source": [
    "This is known as a Row Vector"
   ]
  },
  {
   "cell_type": "code",
   "execution_count": 16,
   "metadata": {},
   "outputs": [
    {
     "data": {
      "text/plain": [
       "9"
      ]
     },
     "execution_count": 16,
     "metadata": {},
     "output_type": "execute_result"
    }
   ],
   "source": [
    "my_matrix[2,2] # 3rd row,3rd column"
   ]
  },
  {
   "cell_type": "markdown",
   "metadata": {},
   "source": [
    "### 8.3 Operations with Matrices:"
   ]
  },
  {
   "cell_type": "markdown",
   "metadata": {},
   "source": [
    "### 8.3.1 Mathematical Operations with Matrices and Scalars"
   ]
  },
  {
   "cell_type": "markdown",
   "metadata": {},
   "source": [
    "__Overview:__\n",
    "- Addition and multiplication of a matrix by a scalar is very straightforward:\n",
    "> 1. __Addition:__ When adding a scalar to the matrix, each element is added by the scalar value - this operation is performed on an \"element-by-element\" fashion: $\\alpha + \\pmb A$ = $\\alpha + [\\pmb A_{i,j}]$\n",
    "> 2. __Multiplication:__ When multiplying a scalar to the matrix, each element is multiplied by the scalar value - this operation is performed on an \"element-by-element\" fashion: $\\alpha \\pmb A$ = $\\alpha*[\\pmb A_{i,j}]$\n",
    "\n",
    "__Helpful Points:__\n",
    "1. Matrices act the same as vectors do when they are multiplied by and addded with scalars (that is, the scalar is applied on an element-by-element basis) \n",
    "\n",
    "__Practice:__ Examples of Mathematical Operations with Matrices and Scalars in Python "
   ]
  },
  {
   "cell_type": "markdown",
   "metadata": {},
   "source": [
    "### Example 1 (Addition):"
   ]
  },
  {
   "cell_type": "code",
   "execution_count": 17,
   "metadata": {},
   "outputs": [
    {
     "name": "stdout",
     "output_type": "stream",
     "text": [
      "[[1 1 2]\n",
      " [4 5 6]]\n"
     ]
    }
   ],
   "source": [
    "alpha = 2\n",
    "mat = np.array([[1,1,2],[4,5,6]])\n",
    "print(mat)"
   ]
  },
  {
   "cell_type": "code",
   "execution_count": 18,
   "metadata": {},
   "outputs": [
    {
     "name": "stdout",
     "output_type": "stream",
     "text": [
      "[[3 3 4]\n",
      " [6 7 8]]\n"
     ]
    }
   ],
   "source": [
    "mat_addition = alpha + mat\n",
    "print(mat_addition)"
   ]
  },
  {
   "cell_type": "markdown",
   "metadata": {},
   "source": [
    "### Example 2 (Multiplication):"
   ]
  },
  {
   "cell_type": "code",
   "execution_count": 19,
   "metadata": {},
   "outputs": [
    {
     "name": "stdout",
     "output_type": "stream",
     "text": [
      "[[ 2  2  4]\n",
      " [ 8 10 12]]\n"
     ]
    }
   ],
   "source": [
    "mat_multiplication = alpha * mat\n",
    "print(mat_multiplication)"
   ]
  },
  {
   "cell_type": "markdown",
   "metadata": {},
   "source": [
    "### 8.3.2 Mathematical Operations with Matrices and Vectors "
   ]
  },
  {
   "cell_type": "markdown",
   "metadata": {},
   "source": [
    "__Overview:__\n",
    "- It is also possible to add and multiply a matrix by a vector:\n",
    "> 1. __Addition:__ If $\\pmb A$ is an $m$ $x$ $n$ matrix and $\\pmb u$ is a vector, then to add the vector to the matrix, simply add the vector to each row of the matrix. In essence, the vector is being \"broadcast\" (recall definition from Lecture 4) across the matrix.\n",
    "<center> $\\pmb C_{ij} = \\pmb A_{ij} + b_j$ </center>\n",
    "> 2. __Multiplication:__ If $\\pmb A$ is an $m$ $x$ $n$ matrix with columns $\\pmb A_1$, $\\pmb A_2$, $\\pmb A_3$, ...,  $\\pmb A_n$ and $\\pmb u$ is a vector of size n, then the matrix-vector product is simply a linear combination of the elements in $\\pmb u$ with the columns in $\\pmb A$:\n",
    "\n",
    "\\begin{equation}\n",
    "\\begin{bmatrix}\n",
    "    A_{11}       & A_{12} & A_{13} & \\dots & A_{1n} \\\\\n",
    "    A_{21}       & A_{22} & A_{23} & \\dots & A_{2n} \\\\\n",
    "    \\vdots & \\vdots & \\vdots & \\ddots & \\vdots \\\\\n",
    "    A_{m1}       & A_{m2} & A_{m3} & \\dots & A_{mn}\n",
    "\\end{bmatrix}\n",
    "\\begin{bmatrix}\n",
    "    u_1 \\\\\n",
    "    u_2 \\\\\n",
    "    u_3 \\\\\n",
    "    \\vdots \\\\\n",
    "    u_n\n",
    "\\end{bmatrix}\n",
    "=\n",
    "\\begin{bmatrix}\n",
    "    A_{11}u_1 + A_{12}u_2 + A_{13}u_3 + \\dots + A_{1n}u_n \\\\\n",
    "    A_{21}u_1 + A_{22}u_2 + A_{23}u_3 + \\dots + A_{2n}u_n \\\\\n",
    "    \\vdots \\\\\n",
    "    A_{m1}u_1 + A_{m2}u_2 + A_{m3}u_3 + \\dots + A_{mn}u_n \\\\\n",
    "\\end{bmatrix}\n",
    "\\end{equation}\n",
    "\n",
    "\\begin{equation}\n",
    "\\begin{bmatrix}\n",
    "    \\pmb A_1 & \\pmb A_2 & \\pmb A_3 & \\dots & \\pmb A_n\n",
    "\\end{bmatrix}\n",
    "\\begin{bmatrix}\n",
    "    u_1 \\\\\n",
    "    u_2 \\\\\n",
    "    u_3 \\\\\n",
    "    \\vdots \\\\\n",
    "    u_n\n",
    "\\end{bmatrix}\n",
    "=\n",
    "\\begin{bmatrix}\n",
    "    u_1\\pmb A_1 + u_2\\pmb A_2 + u_3\\pmb A_3 + \\dots + u_n\\pmb A_n\n",
    "\\end{bmatrix}\n",
    "\\end{equation}\n",
    "\n",
    "<center>$\\pmb A \\pmb u = u_1 \\pmb A_1 + u_2 \\pmb A_2 + u_3 \\pmb A_3 + ... + u_n \\pmb A_n$</center>\n",
    "    \n",
    "__Helpful Points:__\n",
    "1. The most important rule to follow when adding or multiplying a matrix by a vector is to remember that the vector must have the same number of elements (`n`) as there are columns in the matrix, otherwise you can't add or multiply that vector \n",
    "2. The result of a matrix-vector product is a vector \n",
    "3. Recall linear combination definition from Section 7.3.5 above \n",
    "4. In order for a vector to be added or multiplied to a matrix, the two objects must be \"broadcastable\" - recall the rules for this from Lecture 4 \n",
    "\n",
    "__Practice:__ Examples of Matrix-Vector Product in Python "
   ]
  },
  {
   "cell_type": "markdown",
   "metadata": {},
   "source": [
    "### Example 1 (Addition):"
   ]
  },
  {
   "cell_type": "markdown",
   "metadata": {},
   "source": [
    "### Example 1.1 (Broadcastable Arrays):"
   ]
  },
  {
   "cell_type": "code",
   "execution_count": 20,
   "metadata": {},
   "outputs": [
    {
     "name": "stdout",
     "output_type": "stream",
     "text": [
      "[1 2 3]\n",
      "[[0 1 0]\n",
      " [2 2 1]\n",
      " [3 3 3]]\n"
     ]
    }
   ],
   "source": [
    "my_vector = np.array([1,2,3])\n",
    "print(my_vector)\n",
    "my_matrix = np.array([[0,1,0], [2,2,1], [3,3,3]])\n",
    "print(my_matrix)"
   ]
  },
  {
   "cell_type": "code",
   "execution_count": 21,
   "metadata": {},
   "outputs": [
    {
     "data": {
      "text/plain": [
       "(3,)"
      ]
     },
     "execution_count": 21,
     "metadata": {},
     "output_type": "execute_result"
    }
   ],
   "source": [
    "my_vector.shape"
   ]
  },
  {
   "cell_type": "code",
   "execution_count": 22,
   "metadata": {},
   "outputs": [
    {
     "data": {
      "text/plain": [
       "(3, 3)"
      ]
     },
     "execution_count": 22,
     "metadata": {},
     "output_type": "execute_result"
    }
   ],
   "source": [
    "my_matrix.shape"
   ]
  },
  {
   "cell_type": "code",
   "execution_count": 23,
   "metadata": {
    "scrolled": true
   },
   "outputs": [
    {
     "data": {
      "text/plain": [
       "array([[1, 3, 3],\n",
       "       [3, 4, 4],\n",
       "       [4, 5, 6]])"
      ]
     },
     "execution_count": 23,
     "metadata": {},
     "output_type": "execute_result"
    }
   ],
   "source": [
    "my_vector + my_matrix"
   ]
  },
  {
   "cell_type": "markdown",
   "metadata": {},
   "source": [
    "According to the broadcasting rules in Lecture 4, the vector is first prepended with 1s such that the shape is the same as the matrix - (1,3) and (3,3). Then moving from right to left, the rules dictate that the resulting object will have the length equal to the larger of the two lengths, thus the resulting shape is (3,3)."
   ]
  },
  {
   "cell_type": "markdown",
   "metadata": {},
   "source": [
    "### Example 1.2 (Non-Broadcastable Arrays):"
   ]
  },
  {
   "cell_type": "code",
   "execution_count": 24,
   "metadata": {},
   "outputs": [
    {
     "name": "stdout",
     "output_type": "stream",
     "text": [
      "[1 2]\n",
      "[[0 1 0]\n",
      " [2 2 1]\n",
      " [3 3 3]]\n"
     ]
    }
   ],
   "source": [
    "my_vector = np.array([1,2])\n",
    "print(my_vector)\n",
    "my_matrix = np.array([[0,1,0], [2,2,1], [3,3,3]])\n",
    "print(my_matrix)"
   ]
  },
  {
   "cell_type": "code",
   "execution_count": 25,
   "metadata": {},
   "outputs": [
    {
     "data": {
      "text/plain": [
       "(2,)"
      ]
     },
     "execution_count": 25,
     "metadata": {},
     "output_type": "execute_result"
    }
   ],
   "source": [
    "my_vector.shape"
   ]
  },
  {
   "cell_type": "code",
   "execution_count": 26,
   "metadata": {},
   "outputs": [
    {
     "data": {
      "text/plain": [
       "(3, 3)"
      ]
     },
     "execution_count": 26,
     "metadata": {},
     "output_type": "execute_result"
    }
   ],
   "source": [
    "my_matrix.shape"
   ]
  },
  {
   "cell_type": "code",
   "execution_count": 27,
   "metadata": {
    "scrolled": true
   },
   "outputs": [
    {
     "ename": "ValueError",
     "evalue": "operands could not be broadcast together with shapes (2,) (3,3) ",
     "output_type": "error",
     "traceback": [
      "\u001b[0;31m---------------------------------------------------------------------------\u001b[0m",
      "\u001b[0;31mValueError\u001b[0m                                Traceback (most recent call last)",
      "\u001b[0;32m<ipython-input-27-88803bc93644>\u001b[0m in \u001b[0;36m<module>\u001b[0;34m()\u001b[0m\n\u001b[0;32m----> 1\u001b[0;31m \u001b[0mmy_vector\u001b[0m \u001b[0;34m+\u001b[0m \u001b[0mmy_matrix\u001b[0m\u001b[0;34m\u001b[0m\u001b[0m\n\u001b[0m",
      "\u001b[0;31mValueError\u001b[0m: operands could not be broadcast together with shapes (2,) (3,3) "
     ]
    }
   ],
   "source": [
    "my_vector + my_matrix"
   ]
  },
  {
   "cell_type": "markdown",
   "metadata": {},
   "source": [
    "According to the broadcasting rules in Lecture 4, the vector is first prepended with 1s such that the shape is the same as the matrix - (1,2) and (3,3). Then moving from right to left, the rules dictate that \"2\" and \"3\" can not be reconciled, since they have to be the either the same or one of the two has to be a \"1\". "
   ]
  },
  {
   "cell_type": "markdown",
   "metadata": {},
   "source": [
    "### Example 2 (Multiplication):"
   ]
  },
  {
   "cell_type": "code",
   "execution_count": 28,
   "metadata": {
    "scrolled": true
   },
   "outputs": [
    {
     "name": "stdout",
     "output_type": "stream",
     "text": [
      "[1 2 3]\n",
      "[[0 1 0]\n",
      " [2 2 1]\n",
      " [3 3 3]]\n"
     ]
    }
   ],
   "source": [
    "my_vector = np.array([1,2,3])\n",
    "print(my_vector)\n",
    "my_matrix = np.array([[0,1,0], [2,2,1], [3,3,3]])\n",
    "print(my_matrix)"
   ]
  },
  {
   "cell_type": "markdown",
   "metadata": {},
   "source": [
    "### Example 2.1 (Method 1 - With Dot Function):"
   ]
  },
  {
   "cell_type": "code",
   "execution_count": 29,
   "metadata": {},
   "outputs": [
    {
     "data": {
      "text/plain": [
       "array([ 2,  9, 18])"
      ]
     },
     "execution_count": 29,
     "metadata": {},
     "output_type": "execute_result"
    }
   ],
   "source": [
    "np.dot(my_matrix,my_vector) # matrix-vector product (use dot function to do matrix multiplication)"
   ]
  },
  {
   "cell_type": "markdown",
   "metadata": {},
   "source": [
    "### Example 2.2 (Method 2 - Manual Linear Combination):"
   ]
  },
  {
   "cell_type": "code",
   "execution_count": 30,
   "metadata": {},
   "outputs": [
    {
     "name": "stdout",
     "output_type": "stream",
     "text": [
      "[[0]\n",
      " [2]\n",
      " [3]]\n"
     ]
    }
   ],
   "source": [
    "first_comp = my_vector[0] * my_matrix[:,0:1] # u1 * A1 \n",
    "print(first_comp)"
   ]
  },
  {
   "cell_type": "code",
   "execution_count": 31,
   "metadata": {},
   "outputs": [
    {
     "name": "stdout",
     "output_type": "stream",
     "text": [
      "[[2]\n",
      " [4]\n",
      " [6]]\n"
     ]
    }
   ],
   "source": [
    "second_comp = my_vector[1] * my_matrix[:,1:2] # u2 * A2\n",
    "print(second_comp)"
   ]
  },
  {
   "cell_type": "code",
   "execution_count": 32,
   "metadata": {},
   "outputs": [
    {
     "name": "stdout",
     "output_type": "stream",
     "text": [
      "[[0]\n",
      " [3]\n",
      " [9]]\n"
     ]
    }
   ],
   "source": [
    "third_comp = my_vector[2] * my_matrix[:,2:3] # u3 * A3\n",
    "print(third_comp)"
   ]
  },
  {
   "cell_type": "code",
   "execution_count": 33,
   "metadata": {},
   "outputs": [
    {
     "data": {
      "text/plain": [
       "array([[ 2],\n",
       "       [ 9],\n",
       "       [18]])"
      ]
     },
     "execution_count": 33,
     "metadata": {},
     "output_type": "execute_result"
    }
   ],
   "source": [
    "first_comp + second_comp + third_comp # same as above with dot function "
   ]
  },
  {
   "cell_type": "markdown",
   "metadata": {},
   "source": [
    "### Problem 1 \n",
    "\n",
    "Create a vector $\\pmb u = [1,1,0]$ and a matrix \n",
    "\n",
    "\\begin{equation}\n",
    "\\pmb A = \n",
    "\\begin{bmatrix}\n",
    "    1 & 2 & 4\\\\\n",
    "    2 & 0 & 1\\\\\n",
    "\\end{bmatrix}\n",
    "\\end{equation}\n",
    "\n",
    "Perform vector-matrix multiplication using manual calculation on pencil and paper and also using the dot product function."
   ]
  },
  {
   "cell_type": "code",
   "execution_count": null,
   "metadata": {},
   "outputs": [],
   "source": [
    "# write your code here \n",
    "\n",
    "\n",
    "\n"
   ]
  },
  {
   "cell_type": "markdown",
   "metadata": {},
   "source": [
    "### 8.3.3 Mathematical Operations with Matrices and other Matrices"
   ]
  },
  {
   "cell_type": "markdown",
   "metadata": {},
   "source": [
    "__Overview:__\n",
    "- It is also possible to add and multiply a matrix by another matrix:\n",
    "> 1. __Addition:__ Adding a matrix to another matrix will only work if the two matrices have the same shape. In general, the sum of $\\pmb A$ and $\\pmb B$, where both are matrices is: $[\\pmb A + \\pmb B]_{i,j} = [\\pmb A]_{i,j} + [\\pmb B]_{i,j}$. In other words, the two matrices are added element-by-element to form a new matrix \n",
    "> 2. __Multiplication:__ If $\\pmb A$ is a matrix and $\\pmb B$ is a matrix with columns $\\pmb B_1$, $\\pmb B_2$, $\\pmb B_3$, ...,  $\\pmb B_n$, then the matrix product of $\\pmb A$ with $\\pmb B$ is $\\pmb A \\pmb B = \\pmb A[\\pmb B_1 | \\pmb B_2 | \\pmb B_3 ... \\pmb B_p] = [AB_1 | AB_2 | AB_3 | ... AB_p]$\n",
    "\n",
    "\\begin{equation}\n",
    "\\begin{bmatrix}\n",
    "    A_{11}       & A_{12}\\\\\n",
    "    A_{21}       & A_{22}\n",
    "\\end{bmatrix}\n",
    "\\begin{bmatrix}\n",
    "    B_{11} & B_{12}\\\\\n",
    "    B_{21} & B_{22}\n",
    "\\end{bmatrix}\n",
    "=\n",
    "\\begin{bmatrix}\n",
    "    (A_{11}B_{11} + A_{12}B_{21}) & (A_{11}B_{12} + A_{12}B_{22})\\\\\n",
    "    (A_{21}B_{11} + A_{22}B_{21}) & (A_{12}B_{12} + A_{22}B_{22})\n",
    "\\end{bmatrix}\n",
    "\\end{equation}\n",
    "\n",
    "\\begin{equation}\n",
    "\\begin{bmatrix}\n",
    "    A_{11}       & A_{12}\\\\\n",
    "    A_{21}       & A_{22}\n",
    "\\end{bmatrix}\n",
    "\\begin{bmatrix}\n",
    "    \\pmb B_1 & \\pmb B_2\n",
    "\\end{bmatrix}\n",
    "=\n",
    "\\begin{bmatrix}\n",
    "    \\pmb A \\pmb B_1 & \\pmb A \\pmb B_2\n",
    "\\end{bmatrix}\n",
    "=\n",
    "\\begin{bmatrix}\n",
    "    \\pmb A_1 B_{11}  + \\pmb A_2 B_{21} & \\pmb A_1 B_{12} + \\pmb A_2 B_{22}\n",
    "\\end{bmatrix}\n",
    "\\end{equation}\n",
    "<br>\n",
    "<center> $\\pmb A \\pmb B = \\pmb A[\\pmb B_1 | \\pmb B_2 | \\pmb B_3 ... \\pmb B_p] = [AB_1 | AB_2 | AB_3 | ... AB_p]$ </center>\n",
    "\n",
    "__Note:__ Each column in the multiplied matrix is the matrix-vector product of $\\pmb A \\pmb B_i$\n",
    "\n",
    "__Helpful Points:__\n",
    "1. The most important rule when multiplying two matrices is that matrix A must have the same number of columns that matrix B has rows. Specifically, an $m$ $x$ $n$ matrix multiplied by an $n$ $x$ $k$ matrix is an $m$ $x$ $k$ matrix \n",
    "2. Be very careful to remember that the __Commutative Law__ that we saw with vectors does not hold with matrices. In other words, $\\pmb A \\pmb B \\neq \\pmb B \\pmb A$\n",
    "3. Matrices are NOT multipled element-by-element (be careful!!)\n",
    "\n",
    "__Practice:__ Examples of Addition and Muliplication with Matrices and other Matrices "
   ]
  },
  {
   "cell_type": "markdown",
   "metadata": {},
   "source": [
    "### Example 1 (Addition):"
   ]
  },
  {
   "cell_type": "markdown",
   "metadata": {},
   "source": [
    "### Example 1.1 (Addition with Matrices of Same Shapes):"
   ]
  },
  {
   "cell_type": "code",
   "execution_count": 34,
   "metadata": {},
   "outputs": [
    {
     "name": "stdout",
     "output_type": "stream",
     "text": [
      "[[1 1 2]\n",
      " [2 3 2]\n",
      " [4 0 0]]\n",
      "[[2 1 1]\n",
      " [1 0 0]\n",
      " [2 2 2]]\n"
     ]
    }
   ],
   "source": [
    "matrix_a = np.array([[1,1,2],[2,3,2],[4,0,0]])\n",
    "matrix_b = np.array([[2,1,1],[1,0,0],[2,2,2]])\n",
    "print(matrix_a)\n",
    "print(matrix_b)"
   ]
  },
  {
   "cell_type": "code",
   "execution_count": 35,
   "metadata": {},
   "outputs": [
    {
     "data": {
      "text/plain": [
       "(3, 3)"
      ]
     },
     "execution_count": 35,
     "metadata": {},
     "output_type": "execute_result"
    }
   ],
   "source": [
    "matrix_a.shape"
   ]
  },
  {
   "cell_type": "code",
   "execution_count": 36,
   "metadata": {},
   "outputs": [
    {
     "data": {
      "text/plain": [
       "(3, 3)"
      ]
     },
     "execution_count": 36,
     "metadata": {},
     "output_type": "execute_result"
    }
   ],
   "source": [
    "matrix_b.shape"
   ]
  },
  {
   "cell_type": "code",
   "execution_count": 37,
   "metadata": {
    "scrolled": true
   },
   "outputs": [
    {
     "data": {
      "text/plain": [
       "array([[3, 2, 3],\n",
       "       [3, 3, 2],\n",
       "       [6, 2, 2]])"
      ]
     },
     "execution_count": 37,
     "metadata": {},
     "output_type": "execute_result"
    }
   ],
   "source": [
    "matrix_a + matrix_b"
   ]
  },
  {
   "cell_type": "markdown",
   "metadata": {},
   "source": [
    "### Example 1.2 (Addition with Matrices of Different Shapes):"
   ]
  },
  {
   "cell_type": "code",
   "execution_count": 38,
   "metadata": {},
   "outputs": [
    {
     "name": "stdout",
     "output_type": "stream",
     "text": [
      "[[1 1 2]\n",
      " [2 3 2]\n",
      " [4 0 0]]\n",
      "[[2 1 1]\n",
      " [1 0 0]]\n"
     ]
    }
   ],
   "source": [
    "matrix_a = np.array([[1,1,2],[2,3,2],[4,0,0]])\n",
    "matrix_b = np.array([[2,1,1],[1,0,0]])\n",
    "print(matrix_a)\n",
    "print(matrix_b)"
   ]
  },
  {
   "cell_type": "code",
   "execution_count": 39,
   "metadata": {},
   "outputs": [
    {
     "data": {
      "text/plain": [
       "(3, 3)"
      ]
     },
     "execution_count": 39,
     "metadata": {},
     "output_type": "execute_result"
    }
   ],
   "source": [
    "matrix_a.shape"
   ]
  },
  {
   "cell_type": "code",
   "execution_count": 40,
   "metadata": {},
   "outputs": [
    {
     "data": {
      "text/plain": [
       "(2, 3)"
      ]
     },
     "execution_count": 40,
     "metadata": {},
     "output_type": "execute_result"
    }
   ],
   "source": [
    "matrix_b.shape"
   ]
  },
  {
   "cell_type": "code",
   "execution_count": 41,
   "metadata": {
    "scrolled": true
   },
   "outputs": [
    {
     "ename": "ValueError",
     "evalue": "operands could not be broadcast together with shapes (3,3) (2,3) ",
     "output_type": "error",
     "traceback": [
      "\u001b[0;31m---------------------------------------------------------------------------\u001b[0m",
      "\u001b[0;31mValueError\u001b[0m                                Traceback (most recent call last)",
      "\u001b[0;32m<ipython-input-41-aaea05d83f66>\u001b[0m in \u001b[0;36m<module>\u001b[0;34m()\u001b[0m\n\u001b[0;32m----> 1\u001b[0;31m \u001b[0mmatrix_a\u001b[0m \u001b[0;34m+\u001b[0m \u001b[0mmatrix_b\u001b[0m\u001b[0;34m\u001b[0m\u001b[0m\n\u001b[0m",
      "\u001b[0;31mValueError\u001b[0m: operands could not be broadcast together with shapes (3,3) (2,3) "
     ]
    }
   ],
   "source": [
    "matrix_a + matrix_b"
   ]
  },
  {
   "cell_type": "markdown",
   "metadata": {},
   "source": [
    "### Example 2 (Multiplication):"
   ]
  },
  {
   "cell_type": "code",
   "execution_count": 42,
   "metadata": {
    "scrolled": false
   },
   "outputs": [
    {
     "name": "stdout",
     "output_type": "stream",
     "text": [
      "[[1 1]\n",
      " [2 3]]\n",
      "[[2 1]\n",
      " [1 0]]\n"
     ]
    }
   ],
   "source": [
    "matrix_a = np.array([[1,1],[2,3]])\n",
    "matrix_b = np.array([[2,1],[1,0]])\n",
    "print(matrix_a)\n",
    "print(matrix_b)"
   ]
  },
  {
   "cell_type": "markdown",
   "metadata": {},
   "source": [
    "### Example 2.1 (Method 1 - With Dot Function):"
   ]
  },
  {
   "cell_type": "code",
   "execution_count": 43,
   "metadata": {
    "scrolled": true
   },
   "outputs": [
    {
     "data": {
      "text/plain": [
       "array([[3, 1],\n",
       "       [7, 2]])"
      ]
     },
     "execution_count": 43,
     "metadata": {},
     "output_type": "execute_result"
    }
   ],
   "source": [
    "np.dot(matrix_a, matrix_b)"
   ]
  },
  {
   "cell_type": "markdown",
   "metadata": {},
   "source": [
    "### Example 2.2 (Method 2 - Matrix-Vector Products):"
   ]
  },
  {
   "cell_type": "code",
   "execution_count": 44,
   "metadata": {
    "scrolled": true
   },
   "outputs": [
    {
     "data": {
      "text/plain": [
       "array([[3],\n",
       "       [7]])"
      ]
     },
     "execution_count": 44,
     "metadata": {},
     "output_type": "execute_result"
    }
   ],
   "source": [
    "np.dot(matrix_a,matrix_b[:,0:1]) # A * B1 (first column of new matrix)"
   ]
  },
  {
   "cell_type": "code",
   "execution_count": 45,
   "metadata": {},
   "outputs": [
    {
     "data": {
      "text/plain": [
       "array([[1],\n",
       "       [2]])"
      ]
     },
     "execution_count": 45,
     "metadata": {},
     "output_type": "execute_result"
    }
   ],
   "source": [
    "np.dot(matrix_a,matrix_b[:,1:2]) # A * B2 (second column of new matrix)"
   ]
  },
  {
   "cell_type": "markdown",
   "metadata": {},
   "source": [
    "### Example 2.3 (Method 3 - Linear Combinations):"
   ]
  },
  {
   "cell_type": "markdown",
   "metadata": {},
   "source": [
    "$A_{11}B_{11} + A_{12}B_{21}$"
   ]
  },
  {
   "cell_type": "code",
   "execution_count": 46,
   "metadata": {},
   "outputs": [
    {
     "data": {
      "text/plain": [
       "array([[3]])"
      ]
     },
     "execution_count": 46,
     "metadata": {},
     "output_type": "execute_result"
    }
   ],
   "source": [
    "matrix_a[0:1, 0:1]*matrix_b[0:1, 0:1] + matrix_a[0:1, 1:2]*matrix_b[1:2, 0:1] # top left entry "
   ]
  },
  {
   "cell_type": "markdown",
   "metadata": {},
   "source": [
    "$A_{11}B_{12} + A_{12}B_{22}$"
   ]
  },
  {
   "cell_type": "code",
   "execution_count": null,
   "metadata": {},
   "outputs": [],
   "source": [
    "matrix_a[0:1, 0:1]*matrix_b[0:1, 1:2] + matrix_a[0:1, 1:2]*matrix_b[1:2, 1:2] # top right entry "
   ]
  },
  {
   "cell_type": "markdown",
   "metadata": {},
   "source": [
    "$A_{21}B_{11} + A_{22}B_{21}$"
   ]
  },
  {
   "cell_type": "code",
   "execution_count": null,
   "metadata": {},
   "outputs": [],
   "source": [
    "matrix_a[1:2, 0:1]*matrix_b[0:1, 0:1] + matrix_a[1:2, 1:2]*matrix_b[1:2, 0:1] # bottom left entry "
   ]
  },
  {
   "cell_type": "markdown",
   "metadata": {},
   "source": [
    "$A_{12}B_{12} + A_{22}B_{22}$"
   ]
  },
  {
   "cell_type": "code",
   "execution_count": null,
   "metadata": {
    "scrolled": true
   },
   "outputs": [],
   "source": [
    "matrix_a[1:2, 0:1]*matrix_b[0:1, 1:2] + matrix_a[1:2, 1:2]*matrix_b[1:2, 1:2] # bottom right entry "
   ]
  },
  {
   "cell_type": "markdown",
   "metadata": {},
   "source": [
    "### Example 2.4 (Matrix Multiplication with Identity Matrix):"
   ]
  },
  {
   "cell_type": "markdown",
   "metadata": {},
   "source": [
    "Recall the definition of an Identity Matrix from section 7.4.1. An additional property of an identity matrix is that the multiplication of an identity matrix by any matrix will result in the same matrix. \n",
    "\n",
    "<center> $\\pmb I \\pmb A = \\pmb A$ </center>"
   ]
  },
  {
   "cell_type": "code",
   "execution_count": 47,
   "metadata": {
    "scrolled": true
   },
   "outputs": [
    {
     "name": "stdout",
     "output_type": "stream",
     "text": [
      "[[1 0 0]\n",
      " [0 1 0]\n",
      " [0 0 1]]\n"
     ]
    }
   ],
   "source": [
    "identity_matrix = np.array([[1,0,0], [0,1,0], [0,0,1]])\n",
    "print(identity_matrix)"
   ]
  },
  {
   "cell_type": "markdown",
   "metadata": {},
   "source": [
    "### Example 2.4.1 (Square Matrices):"
   ]
  },
  {
   "cell_type": "code",
   "execution_count": 48,
   "metadata": {},
   "outputs": [
    {
     "name": "stdout",
     "output_type": "stream",
     "text": [
      "[[0 2 0]\n",
      " [1 1 1]\n",
      " [2 2 1]]\n"
     ]
    }
   ],
   "source": [
    "matrix_a = np.array([[0,2,0],[1,1,1],[2,2,1]])\n",
    "print(matrix_a)"
   ]
  },
  {
   "cell_type": "code",
   "execution_count": 49,
   "metadata": {
    "scrolled": true
   },
   "outputs": [
    {
     "data": {
      "text/plain": [
       "array([[0, 2, 0],\n",
       "       [1, 1, 1],\n",
       "       [2, 2, 1]])"
      ]
     },
     "execution_count": 49,
     "metadata": {},
     "output_type": "execute_result"
    }
   ],
   "source": [
    "np.dot(identity_matrix, matrix_a)"
   ]
  },
  {
   "cell_type": "markdown",
   "metadata": {},
   "source": [
    "Note that the identity matrix will always be a square matrix, although the matrix being multiplied does not have to be square. See example below:"
   ]
  },
  {
   "cell_type": "markdown",
   "metadata": {},
   "source": [
    "### Example 2.4.2 (Non-Square Matrices):"
   ]
  },
  {
   "cell_type": "code",
   "execution_count": 50,
   "metadata": {
    "scrolled": true
   },
   "outputs": [
    {
     "name": "stdout",
     "output_type": "stream",
     "text": [
      "[[0 2]\n",
      " [1 1]\n",
      " [2 2]]\n"
     ]
    }
   ],
   "source": [
    "matrix_a = np.array([[0,2],[1,1],[2,2]])\n",
    "print(matrix_a)"
   ]
  },
  {
   "cell_type": "code",
   "execution_count": 51,
   "metadata": {
    "scrolled": true
   },
   "outputs": [
    {
     "data": {
      "text/plain": [
       "array([[0, 2],\n",
       "       [1, 1],\n",
       "       [2, 2]])"
      ]
     },
     "execution_count": 51,
     "metadata": {},
     "output_type": "execute_result"
    }
   ],
   "source": [
    "np.dot(identity_matrix, matrix_a)"
   ]
  },
  {
   "cell_type": "code",
   "execution_count": 52,
   "metadata": {},
   "outputs": [
    {
     "data": {
      "text/plain": [
       "(3, 3)"
      ]
     },
     "execution_count": 52,
     "metadata": {},
     "output_type": "execute_result"
    }
   ],
   "source": [
    "identity_matrix.shape"
   ]
  },
  {
   "cell_type": "code",
   "execution_count": 53,
   "metadata": {},
   "outputs": [
    {
     "data": {
      "text/plain": [
       "(3, 2)"
      ]
     },
     "execution_count": 53,
     "metadata": {},
     "output_type": "execute_result"
    }
   ],
   "source": [
    "matrix_a.shape"
   ]
  },
  {
   "cell_type": "markdown",
   "metadata": {},
   "source": [
    "Since we know that an $m$ $x$ $n$ matrix multiplied by an $n$ $x$ $k$ matrix, will result in an $m$ $x$ $k$ matrix, the product of these two matrices will be (3 X 3) * (3 X 2) = (3 X 2)"
   ]
  },
  {
   "cell_type": "markdown",
   "metadata": {},
   "source": [
    "### Example 2.4 (Matrix Multiplication with Zero Matrix):"
   ]
  },
  {
   "cell_type": "markdown",
   "metadata": {},
   "source": [
    "Recall the definition of a Zero Matrix from section 7.4.1. An additional property of an zero matrix is that the multiplication of a zero matrix by any matrix will also result in the zero matrix with possibly changed shape from the original zero matrix, depending on the shape of the non-zero matrix in the product. \n",
    "\n",
    "<center> $\\pmb 0 \\pmb A = \\pmb 0$ </center>"
   ]
  },
  {
   "cell_type": "code",
   "execution_count": 54,
   "metadata": {
    "scrolled": true
   },
   "outputs": [
    {
     "name": "stdout",
     "output_type": "stream",
     "text": [
      "[[0. 0.]\n",
      " [0. 0.]\n",
      " [0. 0.]]\n"
     ]
    }
   ],
   "source": [
    "zero_matrix = np.zeros(6).reshape(3,2)\n",
    "print(zero_matrix)"
   ]
  },
  {
   "cell_type": "code",
   "execution_count": 55,
   "metadata": {},
   "outputs": [
    {
     "name": "stdout",
     "output_type": "stream",
     "text": [
      "[[1 2 3]\n",
      " [4 1 1]]\n"
     ]
    }
   ],
   "source": [
    "matrix_a = np.array([[1,2,3],[4,1,1]])\n",
    "print(matrix_a)"
   ]
  },
  {
   "cell_type": "code",
   "execution_count": 56,
   "metadata": {},
   "outputs": [
    {
     "data": {
      "text/plain": [
       "array([[0., 0., 0.],\n",
       "       [0., 0., 0.],\n",
       "       [0., 0., 0.]])"
      ]
     },
     "execution_count": 56,
     "metadata": {},
     "output_type": "execute_result"
    }
   ],
   "source": [
    "np.dot(zero_matrix, matrix_a)"
   ]
  },
  {
   "cell_type": "markdown",
   "metadata": {},
   "source": [
    "Since we know that an $m$ $x$ $n$ matrix multiplied by an $n$ $x$ $k$ matrix, will result in an $m$ $x$ $k$ matrix, the product of these two matrices will be (3 X 2) * (2 X 3) = (3 X 3)"
   ]
  },
  {
   "cell_type": "markdown",
   "metadata": {},
   "source": [
    "### Example 2.5 (Commutative Property Check):"
   ]
  },
  {
   "cell_type": "code",
   "execution_count": 57,
   "metadata": {},
   "outputs": [
    {
     "name": "stdout",
     "output_type": "stream",
     "text": [
      "[[1 2 3]\n",
      " [4 1 1]]\n"
     ]
    }
   ],
   "source": [
    "matrix_a = np.array([[1,2,3],[4,1,1]])\n",
    "print(matrix_a)"
   ]
  },
  {
   "cell_type": "code",
   "execution_count": 58,
   "metadata": {},
   "outputs": [
    {
     "name": "stdout",
     "output_type": "stream",
     "text": [
      "[[2 0]\n",
      " [1 4]\n",
      " [2 1]]\n"
     ]
    }
   ],
   "source": [
    "matrix_b = np.array([[2,0],[1,4],[2,1]])\n",
    "print(matrix_b)"
   ]
  },
  {
   "cell_type": "code",
   "execution_count": 59,
   "metadata": {},
   "outputs": [
    {
     "data": {
      "text/plain": [
       "array([[10, 11],\n",
       "       [11,  5]])"
      ]
     },
     "execution_count": 59,
     "metadata": {},
     "output_type": "execute_result"
    }
   ],
   "source": [
    "np.dot(matrix_a, matrix_b) # AB"
   ]
  },
  {
   "cell_type": "code",
   "execution_count": 60,
   "metadata": {},
   "outputs": [
    {
     "data": {
      "text/plain": [
       "array([[ 2,  4,  6],\n",
       "       [17,  6,  7],\n",
       "       [ 6,  5,  7]])"
      ]
     },
     "execution_count": 60,
     "metadata": {},
     "output_type": "execute_result"
    }
   ],
   "source": [
    "np.dot(matrix_b, matrix_a) # BA"
   ]
  },
  {
   "cell_type": "markdown",
   "metadata": {},
   "source": [
    "Therefore, it is clear that matrix multiplication is NOT commutative."
   ]
  },
  {
   "cell_type": "markdown",
   "metadata": {},
   "source": [
    "### Problem 2\n",
    "\n",
    "Create a matrix \n",
    "\n",
    "\\begin{equation}\n",
    "\\pmb A = \n",
    "\\begin{bmatrix}\n",
    "    1 & 2 & 4\\\\\n",
    "    2 & 0 & 1\\\\\n",
    "\\end{bmatrix}\n",
    "\\end{equation}\n",
    "\n",
    "and a matrix \n",
    "\n",
    "\\begin{equation}\n",
    "\\pmb B = \n",
    "\\begin{bmatrix}\n",
    "    2 & 1\\\\\n",
    "    2 & 3\\\\\n",
    "    1 & 1\n",
    "\\end{bmatrix}\n",
    "\\end{equation}\n",
    "\n",
    "Perform matrix multiplication using manual calculation on pencil and paper and also using the dot product function."
   ]
  },
  {
   "cell_type": "code",
   "execution_count": null,
   "metadata": {},
   "outputs": [],
   "source": [
    "# write your code here \n",
    "\n",
    "\n",
    "\n"
   ]
  },
  {
   "cell_type": "markdown",
   "metadata": {},
   "source": [
    "### 8.3.4 Linear Transformations"
   ]
  },
  {
   "cell_type": "markdown",
   "metadata": {},
   "source": [
    "__Overview:__\n",
    "- __Linear Transformation:__ A linear transformation refers to a linear change that is applied to a given vector as a result of some \"action\" from another object\n",
    "- Recall our definitions of functions from Lecture 4 which involved inputs and outputs, where the function applied some operation to the input, resulting in the output. Linear transformations act in the same way and can be represented in matrix representation\n",
    "- In the matrix world, matrices act as functions and are applied to input vectors as matrix-vector products to create new, transformed output vectors in the following form:\n",
    "<center> If $\\pmb A \\in \\mathbb R^{m x n}$, we consider the linear transformation as $T_A$, the input vector as $\\pmb x$, and the output vector as $\\pmb y$:</center> \n",
    "<center>$\\pmb y = T_A(\\pmb x)$ or simply $\\pmb y = \\pmb A \\pmb x$ </center>\n",
    "\n",
    "__Helpful Points:__\n",
    "1. In n-dimensional space, we define the transformation more precisely as \"linear transformation of n-dimensional space\"\n",
    "2. The word \"transformation\" simply means \"function\" (i.e. $f(x) = x^2$ is a transformation that squares the input value\n",
    "3. The most \"intersting\" part of linear transformations is that we can identify the transformational effects to any input vector if we can identify the transformational effects to the standard basis for the input space (see example below and recall definition of basis from Lectue 7 - vectors must be linearly independent and span the space)\n",
    "\n",
    "__Practice:__ Examples of Linear Transformations in Python "
   ]
  },
  {
   "cell_type": "markdown",
   "metadata": {},
   "source": [
    "### Example 1 (Linear Transformation of 2-Dimensional Space):"
   ]
  },
  {
   "cell_type": "markdown",
   "metadata": {},
   "source": [
    "### Example 1.1 (Algebraically):"
   ]
  },
  {
   "cell_type": "code",
   "execution_count": 61,
   "metadata": {},
   "outputs": [
    {
     "name": "stdout",
     "output_type": "stream",
     "text": [
      "[1 2]\n",
      "[[2 2]\n",
      " [1 3]]\n"
     ]
    }
   ],
   "source": [
    "x = np.array([1,2])\n",
    "mat = np.array([[2,2],[1,3]])\n",
    "print(x)\n",
    "print(mat)"
   ]
  },
  {
   "cell_type": "code",
   "execution_count": 62,
   "metadata": {
    "scrolled": true
   },
   "outputs": [
    {
     "name": "stdout",
     "output_type": "stream",
     "text": [
      "[6 7]\n"
     ]
    }
   ],
   "source": [
    "y = np.dot(mat, x)\n",
    "print(y)"
   ]
  },
  {
   "cell_type": "markdown",
   "metadata": {},
   "source": [
    "Notes:\n",
    "\n",
    "- The vector $[1,2]^T$ was transformed to the vector $[6,7]^T$\n",
    "- Recall section 8.3.2 above which discusses matrix-vector products - each column of the matrix is multiplied by the associated element from the vector. See manual calculation below to refresh your memory:"
   ]
  },
  {
   "cell_type": "code",
   "execution_count": 63,
   "metadata": {},
   "outputs": [
    {
     "data": {
      "text/plain": [
       "array([2, 1])"
      ]
     },
     "execution_count": 63,
     "metadata": {},
     "output_type": "execute_result"
    }
   ],
   "source": [
    "mat[:,0] * x[0] "
   ]
  },
  {
   "cell_type": "code",
   "execution_count": 64,
   "metadata": {},
   "outputs": [
    {
     "data": {
      "text/plain": [
       "array([4, 6])"
      ]
     },
     "execution_count": 64,
     "metadata": {},
     "output_type": "execute_result"
    }
   ],
   "source": [
    "mat[:,1] * x[1]"
   ]
  },
  {
   "cell_type": "code",
   "execution_count": 65,
   "metadata": {},
   "outputs": [
    {
     "data": {
      "text/plain": [
       "array([6, 7])"
      ]
     },
     "execution_count": 65,
     "metadata": {},
     "output_type": "execute_result"
    }
   ],
   "source": [
    "(mat[:,0] * x[0]) + (mat[:,1] * x[1]) # same result as above "
   ]
  },
  {
   "cell_type": "markdown",
   "metadata": {},
   "source": [
    "### Example 1.2 (Graphically):"
   ]
  },
  {
   "cell_type": "code",
   "execution_count": 66,
   "metadata": {
    "scrolled": true
   },
   "outputs": [
    {
     "data": {
      "image/png": "[encoded data removed]",
      "text/plain": [
       "<Figure size 432x288 with 1 Axes>"
      ]
     },
     "metadata": {},
     "output_type": "display_data"
    }
   ],
   "source": [
    "soa = np.array([[0, 0, 1, 2], [0, 0, 6, 7]])\n",
    "X, Y, U, V = zip(*soa)\n",
    "plt.figure()\n",
    "ax = plt.gca()\n",
    "ax.quiver(X, Y, U, V, angles='xy', scale_units='xy', scale=1, color = [\"red\", \"blue\"])\n",
    "ax.set_xlim([0, 7])\n",
    "ax.set_ylim([0, 7])\n",
    "plt.title('Linear Transformation (x = red, y = blue)')\n",
    "plt.xlabel('$1$', fontsize = 20)\n",
    "plt.ylabel('$2$', fontsize = 20)\n",
    "plt.grid()"
   ]
  },
  {
   "cell_type": "markdown",
   "metadata": {},
   "source": [
    "### Example 1.3 (Predict Transformation of any Input Vector):"
   ]
  },
  {
   "cell_type": "markdown",
   "metadata": {},
   "source": [
    "To determine the transformational effect of any input vector, we have to know what effect the transformation has on the standard basis of the input space. In the two-dimensional vector space, we know from Lecture 7 the standard basis to be $ u = [0,1]$ and $v = [1,0]$. "
   ]
  },
  {
   "cell_type": "code",
   "execution_count": 67,
   "metadata": {},
   "outputs": [
    {
     "name": "stdout",
     "output_type": "stream",
     "text": [
      "[1 0]\n",
      "[0 1]\n"
     ]
    }
   ],
   "source": [
    "u = np.array([1,0])\n",
    "v = np.array([0,1])\n",
    "print(u)\n",
    "print(v)"
   ]
  },
  {
   "cell_type": "code",
   "execution_count": 68,
   "metadata": {},
   "outputs": [
    {
     "name": "stdout",
     "output_type": "stream",
     "text": [
      "[2 1]\n",
      "[2 3]\n"
     ]
    }
   ],
   "source": [
    "u_transformed = np.dot(mat, u)\n",
    "v_transformed = np.dot(mat, v)\n",
    "print(u_transformed)\n",
    "print(v_transformed)"
   ]
  },
  {
   "cell_type": "code",
   "execution_count": 69,
   "metadata": {
    "scrolled": false
   },
   "outputs": [
    {
     "data": {
      "image/png": "[encoded data removed]",
      "text/plain": [
       "<Figure size 432x288 with 1 Axes>"
      ]
     },
     "metadata": {},
     "output_type": "display_data"
    }
   ],
   "source": [
    "soa = np.array([[0, 0, 1, 0], [0, 0, 0, 1], [0, 0, 2, 1], [0, 0, 2, 3]])\n",
    "X, Y, U, V = zip(*soa)\n",
    "plt.figure()\n",
    "ax = plt.gca()\n",
    "ax.quiver(X, Y, U, V, angles='xy', scale_units='xy', scale=1, color = [\"red\", \"blue\", \"green\", \"black\"])\n",
    "ax.set_xlim([-5, 5])\n",
    "ax.set_ylim([0, 5])\n",
    "plt.title('Linear Transformation (u = red, v = blue, u_transformed = green, v_transformed = black)')\n",
    "plt.xlabel('$1$', fontsize = 20)\n",
    "plt.ylabel('$2$', fontsize = 20)\n",
    "plt.grid()"
   ]
  },
  {
   "cell_type": "markdown",
   "metadata": {},
   "source": [
    "Now that we know how the 2 standard basis vectors have been transformed, we can use this fact to predict the transformational effect of any input vector:"
   ]
  },
  {
   "cell_type": "code",
   "execution_count": 70,
   "metadata": {},
   "outputs": [
    {
     "name": "stdout",
     "output_type": "stream",
     "text": [
      "[4 5]\n"
     ]
    }
   ],
   "source": [
    "x_new = np.array([4,5])\n",
    "print(x_new)"
   ]
  },
  {
   "cell_type": "markdown",
   "metadata": {},
   "source": [
    "__Method 1__ - Find the output vector $\\pmb y_{new}$ using the transformed standard basis vectors in the following form:\n",
    "<center> $x_{new,1} \\pmb u_{transformed} + x_{new,2} \\pmb v_{transformed} = 4[2,1]^T + 5[2,3]^T = \\pmb y_{new}$</center>"
   ]
  },
  {
   "cell_type": "code",
   "execution_count": 71,
   "metadata": {},
   "outputs": [
    {
     "data": {
      "text/plain": [
       "array([18, 19])"
      ]
     },
     "execution_count": 71,
     "metadata": {},
     "output_type": "execute_result"
    }
   ],
   "source": [
    "x_new[0] * u_transformed + x_new[1] * v_transformed"
   ]
  },
  {
   "cell_type": "markdown",
   "metadata": {},
   "source": [
    "__Method 2__ - Find the output vector $\\pmb y_{new}$ using the matrix transformation in the standard form:"
   ]
  },
  {
   "cell_type": "code",
   "execution_count": 72,
   "metadata": {
    "scrolled": true
   },
   "outputs": [
    {
     "data": {
      "text/plain": [
       "array([18, 19])"
      ]
     },
     "execution_count": 72,
     "metadata": {},
     "output_type": "execute_result"
    }
   ],
   "source": [
    "np.dot(mat, x_new)"
   ]
  },
  {
   "cell_type": "markdown",
   "metadata": {},
   "source": [
    "We can see that the two results are the same."
   ]
  },
  {
   "cell_type": "markdown",
   "metadata": {},
   "source": [
    "### Example 2 (Linear Transformation of 3-Dimensional Space):"
   ]
  },
  {
   "cell_type": "markdown",
   "metadata": {},
   "source": [
    "### Example 2.1 (Algebraically):"
   ]
  },
  {
   "cell_type": "code",
   "execution_count": 73,
   "metadata": {
    "scrolled": true
   },
   "outputs": [
    {
     "name": "stdout",
     "output_type": "stream",
     "text": [
      "[1 2 1]\n",
      "[[2 2 1]\n",
      " [1 2 0]\n",
      " [0 0 2]]\n"
     ]
    }
   ],
   "source": [
    "x = np.array([1,2,1])\n",
    "mat = np.array([[2,2,1],[1,2,0],[0,0,2]])\n",
    "print(x)\n",
    "print(mat)"
   ]
  },
  {
   "cell_type": "code",
   "execution_count": 74,
   "metadata": {
    "scrolled": true
   },
   "outputs": [
    {
     "name": "stdout",
     "output_type": "stream",
     "text": [
      "[7 5 2]\n"
     ]
    }
   ],
   "source": [
    "y = np.dot(mat, x)\n",
    "print(y)"
   ]
  },
  {
   "cell_type": "markdown",
   "metadata": {},
   "source": [
    "Notes:\n",
    "\n",
    "- The vector $[1,2,1]^T$ was transformed to the vector $[7,5,2]^T$\n",
    "- Recall section 8.3.2 above which discusses matrix-vector products - each column of the matrix is multiplied by the associated element from the vector. See manual calculation below to refresh your memory:"
   ]
  },
  {
   "cell_type": "code",
   "execution_count": 75,
   "metadata": {},
   "outputs": [
    {
     "data": {
      "text/plain": [
       "array([2, 1, 0])"
      ]
     },
     "execution_count": 75,
     "metadata": {},
     "output_type": "execute_result"
    }
   ],
   "source": [
    "mat[:,0] * x[0] "
   ]
  },
  {
   "cell_type": "code",
   "execution_count": 76,
   "metadata": {},
   "outputs": [
    {
     "data": {
      "text/plain": [
       "array([4, 4, 0])"
      ]
     },
     "execution_count": 76,
     "metadata": {},
     "output_type": "execute_result"
    }
   ],
   "source": [
    "mat[:,1] * x[1]"
   ]
  },
  {
   "cell_type": "code",
   "execution_count": 77,
   "metadata": {},
   "outputs": [
    {
     "data": {
      "text/plain": [
       "array([1, 0, 2])"
      ]
     },
     "execution_count": 77,
     "metadata": {},
     "output_type": "execute_result"
    }
   ],
   "source": [
    "mat[:,2] * x[2]"
   ]
  },
  {
   "cell_type": "code",
   "execution_count": 78,
   "metadata": {},
   "outputs": [
    {
     "data": {
      "text/plain": [
       "array([7, 5, 2])"
      ]
     },
     "execution_count": 78,
     "metadata": {},
     "output_type": "execute_result"
    }
   ],
   "source": [
    "(mat[:,0] * x[0]) + (mat[:,1] * x[1] + mat[:,2] * x[2]) # same result as above "
   ]
  },
  {
   "cell_type": "markdown",
   "metadata": {},
   "source": [
    "### Example 2.2 (Graphically):"
   ]
  },
  {
   "cell_type": "code",
   "execution_count": 79,
   "metadata": {
    "scrolled": false
   },
   "outputs": [
    {
     "data": {
      "image/png": "[encoded data removed]",
      "text/plain": [
       "<Figure size 432x288 with 1 Axes>"
      ]
     },
     "metadata": {},
     "output_type": "display_data"
    }
   ],
   "source": [
    "fig = plt.figure()\n",
    "ax = fig.gca(projection=\"3d\")\n",
    "soa = np.array([[0, 0, 0, 1, 2, 1], [0, 0, 0, 7, 5, 2]])\n",
    "X, Y, Z, U, V, W = zip(*soa)\n",
    "ax.set_xlim3d(0, 7)\n",
    "ax.set_ylim3d(0, 5)\n",
    "ax.set_zlim3d(0, 5)\n",
    "ax.quiver(X, Y, Z, U, V, W, length=1, arrow_length_ratio = 0.1, colors = [\"blue\", \"green\"])\n",
    "plt.title('Linear Transformation (x = blue, y = green)')\n",
    "ax.set_xlabel('$1$', fontsize=20)\n",
    "ax.set_ylabel('$2$', fontsize=20)\n",
    "ax.set_zlabel('$3$', fontsize=20)\n",
    "plt.show()"
   ]
  },
  {
   "cell_type": "markdown",
   "metadata": {},
   "source": [
    "### Example 2.3 (Predict Transformation of any Input Vector):"
   ]
  },
  {
   "cell_type": "markdown",
   "metadata": {},
   "source": [
    "To determine the transformational effect of any input vector, we have to know what effect the transformation has on the standard basis of the input space. In the three-dimensional vector space, we know from Lecture 7 the standard basis to be $ u = [1,0,0]$, $v = [0,1,0]$, and $w = [0,0,1]$."
   ]
  },
  {
   "cell_type": "code",
   "execution_count": 80,
   "metadata": {},
   "outputs": [
    {
     "name": "stdout",
     "output_type": "stream",
     "text": [
      "[1 0 0]\n",
      "[0 1 0]\n",
      "[0 0 1]\n"
     ]
    }
   ],
   "source": [
    "u = np.array([1,0,0])\n",
    "v = np.array([0,1,0])\n",
    "w = np.array([0,0,1])\n",
    "print(u)\n",
    "print(v)\n",
    "print(w)"
   ]
  },
  {
   "cell_type": "code",
   "execution_count": 81,
   "metadata": {},
   "outputs": [
    {
     "name": "stdout",
     "output_type": "stream",
     "text": [
      "[2 1 0]\n",
      "[2 2 0]\n",
      "[1 0 2]\n"
     ]
    }
   ],
   "source": [
    "u_transformed = np.dot(mat, u)\n",
    "v_transformed = np.dot(mat, v)\n",
    "w_transformed = np.dot(mat, w)\n",
    "print(u_transformed)\n",
    "print(v_transformed)\n",
    "print(w_transformed)"
   ]
  },
  {
   "cell_type": "code",
   "execution_count": 82,
   "metadata": {
    "scrolled": false
   },
   "outputs": [
    {
     "data": {
      "image/png": "[encoded data removed]",
      "text/plain": [
       "<Figure size 432x288 with 1 Axes>"
      ]
     },
     "metadata": {},
     "output_type": "display_data"
    }
   ],
   "source": [
    "fig = plt.figure()\n",
    "ax = fig.gca(projection=\"3d\")\n",
    "soa = np.array([[0, 0, 0, 2, 1, 0], [0, 0, 0, 2, 2, 0], [0, 0, 0, 1, 0, 2]])\n",
    "X, Y, Z, U, V, W = zip(*soa)\n",
    "ax.set_xlim3d(0, 5)\n",
    "ax.set_ylim3d(0, 5)\n",
    "ax.set_zlim3d(0, 5)\n",
    "ax.quiver(X, Y, Z, U, V, W, length=1, arrow_length_ratio = 0.1, colors = [\"red\", \"blue\", \"green\"])\n",
    "plt.title('Linear Transformation (u_transformed = red, v_transformed = blue, w_transformed = green)')\n",
    "ax.set_xlabel('$1$', fontsize=20)\n",
    "ax.set_ylabel('$2$', fontsize=20)\n",
    "ax.set_zlabel('$3$', fontsize=20)\n",
    "plt.show()"
   ]
  },
  {
   "cell_type": "markdown",
   "metadata": {},
   "source": [
    "Now that we know how the 3 standard basis vectors have been transformed, we can use this fact to predict the transformational effect of any input vector:"
   ]
  },
  {
   "cell_type": "code",
   "execution_count": 83,
   "metadata": {},
   "outputs": [
    {
     "name": "stdout",
     "output_type": "stream",
     "text": [
      "[4 5 3]\n"
     ]
    }
   ],
   "source": [
    "x_new = np.array([4,5,3])\n",
    "print(x_new)"
   ]
  },
  {
   "cell_type": "markdown",
   "metadata": {},
   "source": [
    "__Method 1__ - Find the output vector $\\pmb y_{new}$ using the transformed standard basis vectors in the following form:\n",
    "<center> $x_{new,1} \\pmb u_{transformed} + x_{new,2} \\pmb v_{transformed} + x_{new,3} \\pmb w_{transformed} = 4[2,1,0]^T + 5[2,2,0]^T + 3[1,0,2]^T= \\pmb y_{new}$</center>"
   ]
  },
  {
   "cell_type": "code",
   "execution_count": 84,
   "metadata": {},
   "outputs": [
    {
     "data": {
      "text/plain": [
       "array([21, 14,  6])"
      ]
     },
     "execution_count": 84,
     "metadata": {},
     "output_type": "execute_result"
    }
   ],
   "source": [
    "x_new[0] * u_transformed + x_new[1] * v_transformed + x_new[2] * w_transformed"
   ]
  },
  {
   "cell_type": "markdown",
   "metadata": {},
   "source": [
    "__Method 2__ - Find the output vector $\\pmb y_{new}$ using the matrix transformation in the standard form:"
   ]
  },
  {
   "cell_type": "code",
   "execution_count": 85,
   "metadata": {
    "scrolled": true
   },
   "outputs": [
    {
     "data": {
      "text/plain": [
       "array([21, 14,  6])"
      ]
     },
     "execution_count": 85,
     "metadata": {},
     "output_type": "execute_result"
    }
   ],
   "source": [
    "np.dot(mat, x_new)"
   ]
  },
  {
   "cell_type": "markdown",
   "metadata": {},
   "source": [
    "We can see that the two results are the same."
   ]
  },
  {
   "cell_type": "markdown",
   "metadata": {},
   "source": [
    "### 8.3.5 Other Operations with Matrices"
   ]
  },
  {
   "cell_type": "markdown",
   "metadata": {},
   "source": [
    "### 8.3.4.1 Matrix Transpose"
   ]
  },
  {
   "cell_type": "markdown",
   "metadata": {},
   "source": [
    "__Overview:__\n",
    "- __[Matrix Transpose](https://en.wikipedia.org/wiki/Transpose):__ The transpose of a matrix is the mirror image of the matrix across the main diagonal of the matrix (upper left corner running down and to the right)\n",
    "- We denote the transpose of a matrix $\\pmb A$ as $\\pmb A^T$ and is defined such that\n",
    "<center> $(\\pmb A^T)_{i,j} = A_{j,i}$ </center>\n",
    "- For example:\n",
    "\n",
    "\\begin{equation}\n",
    "\\pmb A =\n",
    "\\begin{bmatrix}\n",
    "    A_{11}       & A_{12}\\\\\n",
    "    A_{21}       & A_{22}\\\\\n",
    "    A_{31}       & A_{32}\n",
    "\\end{bmatrix}\n",
    "\\Rightarrow\n",
    "\\pmb A^T = \n",
    "\\begin{bmatrix}\n",
    "    A_{11} & A_{21} & A_{31}\\\\\n",
    "    A_{12} & A_{22} & A_{32}\n",
    "\\end{bmatrix}\n",
    "\\end{equation}\n",
    "\n",
    "__Helpful Points:__\n",
    "1. There are some important rules with matrix transpose that we should remember:\n",
    "> a. The transpose of a matrix product is the product of each matrix transpose $(\\pmb A \\pmb B)^T = \\pmb B^T \\pmb A^T$<br>\n",
    "> b. The transpose of a matrix transpose is the original matrix $(\\pmb A^T)^T = \\pmb A$<br>\n",
    "> c. The transpose of matrix addition is the addition of two matrix transpose $(\\pmb A + \\pmb B)^T = \\pmb A^T + \\pmb B^T$<br>\n",
    "> d. The transpose of a scalar multiplication is multiplication of a scalar by the matrix transpose $(c\\pmb A)^T = c\\pmb A^T$<br>\n",
    "> e. The dot product of two vectors is commutative $\\pmb x^T \\pmb y = (\\pmb x^T \\pmb y)^T = \\pmb y^T \\pmb x$ due to the properties above \n",
    "2. The definition in 7.4.1 of Square Matrices now should make sense since we understand what a matrix transpose is \n",
    "\n",
    "__Practice:__ Examples of Matrix Tranpose in Python "
   ]
  },
  {
   "cell_type": "markdown",
   "metadata": {},
   "source": [
    "### Example 1 (Matrix Transpose Examples):"
   ]
  },
  {
   "cell_type": "markdown",
   "metadata": {},
   "source": [
    "### Example 1.1:"
   ]
  },
  {
   "cell_type": "code",
   "execution_count": 86,
   "metadata": {
    "scrolled": true
   },
   "outputs": [
    {
     "name": "stdout",
     "output_type": "stream",
     "text": [
      "[[1 0 1]\n",
      " [2 2 4]\n",
      " [5 6 2]]\n"
     ]
    }
   ],
   "source": [
    "matrix_a = np.array([[1,0,1], [2,2,4], [5,6,2]])\n",
    "print(matrix_a)"
   ]
  },
  {
   "cell_type": "code",
   "execution_count": 87,
   "metadata": {},
   "outputs": [
    {
     "data": {
      "text/plain": [
       "(3, 3)"
      ]
     },
     "execution_count": 87,
     "metadata": {},
     "output_type": "execute_result"
    }
   ],
   "source": [
    "matrix_a.shape"
   ]
  },
  {
   "cell_type": "code",
   "execution_count": 88,
   "metadata": {
    "scrolled": true
   },
   "outputs": [
    {
     "data": {
      "text/plain": [
       "array([[1, 2, 5],\n",
       "       [0, 2, 6],\n",
       "       [1, 4, 2]])"
      ]
     },
     "execution_count": 88,
     "metadata": {},
     "output_type": "execute_result"
    }
   ],
   "source": [
    "matrix_a.transpose()"
   ]
  },
  {
   "cell_type": "code",
   "execution_count": 89,
   "metadata": {},
   "outputs": [
    {
     "data": {
      "text/plain": [
       "(3, 3)"
      ]
     },
     "execution_count": 89,
     "metadata": {},
     "output_type": "execute_result"
    }
   ],
   "source": [
    "matrix_a.transpose().shape"
   ]
  },
  {
   "cell_type": "markdown",
   "metadata": {},
   "source": [
    "### Example 1.2:"
   ]
  },
  {
   "cell_type": "code",
   "execution_count": 90,
   "metadata": {},
   "outputs": [
    {
     "name": "stdout",
     "output_type": "stream",
     "text": [
      "[[1 0]\n",
      " [2 2]\n",
      " [5 6]]\n"
     ]
    }
   ],
   "source": [
    "matrix_b = np.array([[1,0], [2,2], [5,6]])\n",
    "print(matrix_b)"
   ]
  },
  {
   "cell_type": "code",
   "execution_count": 91,
   "metadata": {},
   "outputs": [
    {
     "data": {
      "text/plain": [
       "(3, 2)"
      ]
     },
     "execution_count": 91,
     "metadata": {},
     "output_type": "execute_result"
    }
   ],
   "source": [
    "matrix_b.shape"
   ]
  },
  {
   "cell_type": "code",
   "execution_count": 92,
   "metadata": {},
   "outputs": [
    {
     "data": {
      "text/plain": [
       "array([[1, 2, 5],\n",
       "       [0, 2, 6]])"
      ]
     },
     "execution_count": 92,
     "metadata": {},
     "output_type": "execute_result"
    }
   ],
   "source": [
    "matrix_b.transpose()"
   ]
  },
  {
   "cell_type": "code",
   "execution_count": 93,
   "metadata": {},
   "outputs": [
    {
     "data": {
      "text/plain": [
       "(2, 3)"
      ]
     },
     "execution_count": 93,
     "metadata": {},
     "output_type": "execute_result"
    }
   ],
   "source": [
    "matrix_b.transpose().shape"
   ]
  },
  {
   "cell_type": "markdown",
   "metadata": {},
   "source": [
    "### Example 2 (Matrix Transpose Properties):"
   ]
  },
  {
   "cell_type": "markdown",
   "metadata": {},
   "source": [
    "### Example 2.1 (Property 1):"
   ]
  },
  {
   "cell_type": "code",
   "execution_count": 94,
   "metadata": {},
   "outputs": [
    {
     "data": {
      "text/plain": [
       "array([[ 6, 26, 27],\n",
       "       [ 6, 28, 24]])"
      ]
     },
     "execution_count": 94,
     "metadata": {},
     "output_type": "execute_result"
    }
   ],
   "source": [
    "np.dot(matrix_a, matrix_b).transpose()"
   ]
  },
  {
   "cell_type": "code",
   "execution_count": 95,
   "metadata": {},
   "outputs": [
    {
     "data": {
      "text/plain": [
       "array([[ 6, 26, 27],\n",
       "       [ 6, 28, 24]])"
      ]
     },
     "execution_count": 95,
     "metadata": {},
     "output_type": "execute_result"
    }
   ],
   "source": [
    "np.dot(matrix_b.transpose(), matrix_a.transpose()) # same as above "
   ]
  },
  {
   "cell_type": "markdown",
   "metadata": {},
   "source": [
    "### Example 2.2 (Property 2):"
   ]
  },
  {
   "cell_type": "code",
   "execution_count": 96,
   "metadata": {},
   "outputs": [
    {
     "data": {
      "text/plain": [
       "array([[1, 0, 1],\n",
       "       [2, 2, 4],\n",
       "       [5, 6, 2]])"
      ]
     },
     "execution_count": 96,
     "metadata": {},
     "output_type": "execute_result"
    }
   ],
   "source": [
    "matrix_a"
   ]
  },
  {
   "cell_type": "code",
   "execution_count": 97,
   "metadata": {
    "scrolled": true
   },
   "outputs": [
    {
     "data": {
      "text/plain": [
       "array([[1, 0, 1],\n",
       "       [2, 2, 4],\n",
       "       [5, 6, 2]])"
      ]
     },
     "execution_count": 97,
     "metadata": {},
     "output_type": "execute_result"
    }
   ],
   "source": [
    "matrix_a.transpose().transpose() # same as above "
   ]
  },
  {
   "cell_type": "markdown",
   "metadata": {},
   "source": [
    "### Problem 3\n",
    "\n",
    "Create a matrix \n",
    "\n",
    "\\begin{equation}\n",
    "\\pmb A = \n",
    "\\begin{bmatrix}\n",
    "    1 & 2 & 4\\\\\n",
    "    2 & 0 & 1\\\\\n",
    "\\end{bmatrix}\n",
    "\\end{equation}\n",
    "\n",
    "and a matrix \n",
    "\n",
    "\\begin{equation}\n",
    "\\pmb B = \n",
    "\\begin{bmatrix}\n",
    "    2 & 1 & 1\\\\\n",
    "    2 & 3 & 1\\\\\n",
    "\\end{bmatrix}\n",
    "\\end{equation}\n",
    "\n",
    "Try performing matrix multiplication on these two matrices. If you are unable to do so, explain why. Then modify one of the two matrices in a way that the two matrices can now be multiplied. "
   ]
  },
  {
   "cell_type": "code",
   "execution_count": null,
   "metadata": {},
   "outputs": [],
   "source": [
    "# write your code here \n",
    "\n",
    "\n",
    "\n"
   ]
  },
  {
   "cell_type": "markdown",
   "metadata": {},
   "source": [
    "### 8.3.4.3 Matrix Determinant:"
   ]
  },
  {
   "cell_type": "markdown",
   "metadata": {},
   "source": [
    "__Overview:__ \n",
    "- __[Determinant](https://en.wikipedia.org/wiki/Determinant):__ The determinant of a square matrix is a value that is computed using the elements in the square matrix and is typically denoted as $det(A)$ or $\\vert A \\vert$\n",
    "- The main purpose of a determinant is to check if a matrix is invertible or not (see below)\n",
    "- It is possible to compute the determinant of any $n$ $x$ $n$ matrix:\n",
    "\n",
    "> $2$ $x$ $2$ matrix:\n",
    "\n",
    "\\begin{equation}\n",
    "det\n",
    "\\begin{bmatrix}\n",
    "    A_{11}       & A_{12}\\\\\n",
    "    A_{21}       & A_{22}\n",
    "\\end{bmatrix}\n",
    "= A_{11}A_{22} - A_{12}A_{21}\n",
    "\\end{equation}\n",
    "\n",
    "> $3$ $x$ $3$ matrix:\n",
    "\n",
    "\\begin{equation}\n",
    "det\n",
    "\\begin{bmatrix}\n",
    "    A_{11}       & A_{12} & A_{13}\\\\\n",
    "    A_{21}       & A_{22} & A_{23}\\\\\n",
    "    A_{31}       & A_{32} & A_{33}\n",
    "\\end{bmatrix}\n",
    "= A_{11}\n",
    "\\begin{vmatrix}\n",
    "    A_{22} & A_{23}\\\\\n",
    "    A_{32} & A_{33}\n",
    "\\end{vmatrix}\n",
    "- A_{12}\n",
    "\\begin{vmatrix}\n",
    "    A_{21} & A_{23}\\\\\n",
    "    A_{31} & A_{33}\n",
    "\\end{vmatrix}\n",
    "+ A_{13}\n",
    "\\begin{vmatrix}\n",
    "    A_{21} & A_{22}\\\\\n",
    "    A_{31} & A_{32}\n",
    "\\end{vmatrix}\n",
    "\\end{equation}\n",
    "\n",
    "__Helpful Points:__\n",
    "1. In summary, if the $det(A) = 0$, then the matrix $\\pmb A$ is not invertible. If $det(A) \\neq 0$, then $\\pmb A$ is invertible\n",
    "2. There are two ways to calculate determinants:\n",
    "> a. __Method 1:__ Using the formulas outlined above <br>\n",
    "> b. __Method 2:__ Using NumPy and SciPy's built in matrix determinant methods: [`scipy.linalg.det`](https://docs.scipy.org/doc/scipy/reference/linalg.html) and [`numpy.linalg.det`](https://docs.scipy.org/doc/numpy-1.14.0/reference/routines.linalg.html)\n",
    "\n",
    "__Practice:__ Examples of Matrix Determinant in Python "
   ]
  },
  {
   "cell_type": "markdown",
   "metadata": {},
   "source": [
    "### Example 1 (Determinant of 2x2 Matrix):"
   ]
  },
  {
   "cell_type": "code",
   "execution_count": 98,
   "metadata": {
    "scrolled": true
   },
   "outputs": [
    {
     "name": "stdout",
     "output_type": "stream",
     "text": [
      "[[1 2]\n",
      " [4 1]]\n"
     ]
    }
   ],
   "source": [
    "two_by_two = np.array([[1,2],[4,1]])\n",
    "print(two_by_two)"
   ]
  },
  {
   "cell_type": "markdown",
   "metadata": {},
   "source": [
    "### Example 1.1 (Manual Calculation):"
   ]
  },
  {
   "cell_type": "code",
   "execution_count": 99,
   "metadata": {},
   "outputs": [],
   "source": [
    "# my own function to calculate the determinant of a 2x2 matrix\n",
    "def calc_det(arr):\n",
    "    if arr.shape == (2,2): \n",
    "        return(arr[0,0]*arr[1,1] - arr[0,1]*arr[1,0])\n",
    "    else:\n",
    "        print(\"Not a 2 x 2 array\")\n",
    "        return"
   ]
  },
  {
   "cell_type": "code",
   "execution_count": 100,
   "metadata": {},
   "outputs": [
    {
     "data": {
      "text/plain": [
       "-7"
      ]
     },
     "execution_count": 100,
     "metadata": {},
     "output_type": "execute_result"
    }
   ],
   "source": [
    "calc_det(two_by_two)"
   ]
  },
  {
   "cell_type": "markdown",
   "metadata": {},
   "source": [
    "### Example 1.2 (Programmatic Calculation):"
   ]
  },
  {
   "cell_type": "code",
   "execution_count": 101,
   "metadata": {},
   "outputs": [
    {
     "data": {
      "text/plain": [
       "-7.0"
      ]
     },
     "execution_count": 101,
     "metadata": {},
     "output_type": "execute_result"
    }
   ],
   "source": [
    "linalg.det(two_by_two) # using scipy"
   ]
  },
  {
   "cell_type": "code",
   "execution_count": 102,
   "metadata": {
    "scrolled": true
   },
   "outputs": [
    {
     "data": {
      "text/plain": [
       "-6.999999999999999"
      ]
     },
     "execution_count": 102,
     "metadata": {},
     "output_type": "execute_result"
    }
   ],
   "source": [
    "np.linalg.det(two_by_two) # using numpy"
   ]
  },
  {
   "cell_type": "markdown",
   "metadata": {},
   "source": [
    "### Example 2 (Determinant of 3x3 Matrix):"
   ]
  },
  {
   "cell_type": "code",
   "execution_count": 103,
   "metadata": {},
   "outputs": [
    {
     "name": "stdout",
     "output_type": "stream",
     "text": [
      "[[1 2 1]\n",
      " [4 1 3]\n",
      " [3 2 1]]\n"
     ]
    }
   ],
   "source": [
    "three_by_three = np.array([[1,2,1],[4,1,3],[3,2,1]])\n",
    "print(three_by_three)"
   ]
  },
  {
   "cell_type": "markdown",
   "metadata": {},
   "source": [
    "### Example 2.1 (Manual Calculation):"
   ]
  },
  {
   "cell_type": "code",
   "execution_count": 104,
   "metadata": {},
   "outputs": [],
   "source": [
    "# function to get sub-block of an array\n",
    "def get_sub(arr, row_list, col_list):\n",
    "    rows = np.array(row_list, dtype = np.intp)\n",
    "    columns = np.array(col_list, dtype = np.intp)\n",
    "    sub = three_by_three[rows, columns]\n",
    "    return(sub)"
   ]
  },
  {
   "cell_type": "markdown",
   "metadata": {},
   "source": [
    "\\begin{equation}\n",
    "A_{11}\n",
    "\\begin{vmatrix}\n",
    "    A_{22} & A_{23}\\\\\n",
    "    A_{32} & A_{33}\n",
    "\\end{vmatrix}\n",
    "\\end{equation}"
   ]
  },
  {
   "cell_type": "code",
   "execution_count": 105,
   "metadata": {},
   "outputs": [
    {
     "name": "stdout",
     "output_type": "stream",
     "text": [
      "[[1 3]\n",
      " [2 1]]\n"
     ]
    }
   ],
   "source": [
    "# get the block \n",
    "block_a = get_sub(three_by_three, [[1,1],[2,2]], [[1,2],[1,2]])\n",
    "print(block_a)"
   ]
  },
  {
   "cell_type": "code",
   "execution_count": 106,
   "metadata": {},
   "outputs": [
    {
     "data": {
      "text/plain": [
       "-5"
      ]
     },
     "execution_count": 106,
     "metadata": {},
     "output_type": "execute_result"
    }
   ],
   "source": [
    "# calc det of block\n",
    "part_a = three_by_three[0,0] * calc_det(block_a)\n",
    "part_a"
   ]
  },
  {
   "cell_type": "markdown",
   "metadata": {},
   "source": [
    "\\begin{equation}\n",
    "-A_{12}\n",
    "\\begin{bmatrix}\n",
    "    A_{21} & A_{23}\\\\\n",
    "    A_{31} & A_{33}\n",
    "\\end{bmatrix}\n",
    "\\end{equation}"
   ]
  },
  {
   "cell_type": "code",
   "execution_count": 107,
   "metadata": {},
   "outputs": [
    {
     "name": "stdout",
     "output_type": "stream",
     "text": [
      "[[4 3]\n",
      " [3 1]]\n"
     ]
    }
   ],
   "source": [
    "# get the block \n",
    "block_b = get_sub(three_by_three, [[1,1],[2,2]], [[0,2],[0,2]])\n",
    "print(block_b)"
   ]
  },
  {
   "cell_type": "code",
   "execution_count": 108,
   "metadata": {},
   "outputs": [
    {
     "data": {
      "text/plain": [
       "10"
      ]
     },
     "execution_count": 108,
     "metadata": {},
     "output_type": "execute_result"
    }
   ],
   "source": [
    "# calc det of block\n",
    "part_b = -three_by_three[0,1] * calc_det(block_b)\n",
    "part_b"
   ]
  },
  {
   "cell_type": "markdown",
   "metadata": {},
   "source": [
    "\\begin{equation}\n",
    "A_{13}\n",
    "\\begin{bmatrix}\n",
    "    A_{21} & A_{23}\\\\\n",
    "    A_{31} & A_{32}\n",
    "\\end{bmatrix}\n",
    "\\end{equation}"
   ]
  },
  {
   "cell_type": "code",
   "execution_count": 109,
   "metadata": {},
   "outputs": [
    {
     "name": "stdout",
     "output_type": "stream",
     "text": [
      "[[4 1]\n",
      " [3 2]]\n"
     ]
    }
   ],
   "source": [
    "# get the block \n",
    "block_c = get_sub(three_by_three, [[1,1],[2,2]], [[0,1],[0,1]])\n",
    "print(block_c)"
   ]
  },
  {
   "cell_type": "code",
   "execution_count": 110,
   "metadata": {},
   "outputs": [
    {
     "data": {
      "text/plain": [
       "5"
      ]
     },
     "execution_count": 110,
     "metadata": {},
     "output_type": "execute_result"
    }
   ],
   "source": [
    "# calc det of block\n",
    "part_c = three_by_three[0,2] * calc_det(block_c)\n",
    "part_c"
   ]
  },
  {
   "cell_type": "markdown",
   "metadata": {},
   "source": [
    "\\begin{equation}\n",
    "A_{11}\n",
    "\\begin{bmatrix}\n",
    "    A_{22} & A_{23}\\\\\n",
    "    A_{32} & A_{33}\n",
    "\\end{bmatrix}\n",
    "- A_{12}\n",
    "\\begin{bmatrix}\n",
    "    A_{21} & A_{23}\\\\\n",
    "    A_{31} & A_{33}\n",
    "\\end{bmatrix}\n",
    "+ A_{13}\n",
    "\\begin{bmatrix}\n",
    "    A_{21} & A_{22}\\\\\n",
    "    A_{31} & A_{32}\n",
    "\\end{bmatrix}\n",
    "\\end{equation}"
   ]
  },
  {
   "cell_type": "code",
   "execution_count": 111,
   "metadata": {
    "scrolled": true
   },
   "outputs": [
    {
     "data": {
      "text/plain": [
       "10"
      ]
     },
     "execution_count": 111,
     "metadata": {},
     "output_type": "execute_result"
    }
   ],
   "source": [
    "part_a + part_b + part_c"
   ]
  },
  {
   "cell_type": "markdown",
   "metadata": {},
   "source": [
    "### Example 2.2 (Programmatic Calculation):"
   ]
  },
  {
   "cell_type": "code",
   "execution_count": 112,
   "metadata": {},
   "outputs": [
    {
     "data": {
      "text/plain": [
       "10.0"
      ]
     },
     "execution_count": 112,
     "metadata": {},
     "output_type": "execute_result"
    }
   ],
   "source": [
    "linalg.det(three_by_three) # using scipy"
   ]
  },
  {
   "cell_type": "code",
   "execution_count": 113,
   "metadata": {
    "scrolled": false
   },
   "outputs": [
    {
     "data": {
      "text/plain": [
       "9.999999999999998"
      ]
     },
     "execution_count": 113,
     "metadata": {},
     "output_type": "execute_result"
    }
   ],
   "source": [
    "np.linalg.det(three_by_three) # using numpy"
   ]
  },
  {
   "cell_type": "markdown",
   "metadata": {},
   "source": [
    "### Example 3 (Determinant of Non-Square Matrix):"
   ]
  },
  {
   "cell_type": "code",
   "execution_count": 114,
   "metadata": {},
   "outputs": [
    {
     "name": "stdout",
     "output_type": "stream",
     "text": [
      "[[1 2]\n",
      " [3 4]\n",
      " [5 2]\n",
      " [4 4]]\n"
     ]
    }
   ],
   "source": [
    "new_matrix = np.array([[1,2],[3,4],[5,2],[4,4]])\n",
    "print(new_matrix)"
   ]
  },
  {
   "cell_type": "code",
   "execution_count": 115,
   "metadata": {
    "scrolled": true
   },
   "outputs": [
    {
     "ename": "ValueError",
     "evalue": "expected square matrix",
     "output_type": "error",
     "traceback": [
      "\u001b[0;31m---------------------------------------------------------------------------\u001b[0m",
      "\u001b[0;31mValueError\u001b[0m                                Traceback (most recent call last)",
      "\u001b[0;32m<ipython-input-115-7aeb146f50eb>\u001b[0m in \u001b[0;36m<module>\u001b[0;34m()\u001b[0m\n\u001b[0;32m----> 1\u001b[0;31m \u001b[0mlinalg\u001b[0m\u001b[0;34m.\u001b[0m\u001b[0mdet\u001b[0m\u001b[0;34m(\u001b[0m\u001b[0mnew_matrix\u001b[0m\u001b[0;34m)\u001b[0m \u001b[0;31m# using scipy\u001b[0m\u001b[0;34m\u001b[0m\u001b[0m\n\u001b[0m",
      "\u001b[0;32m/anaconda3/lib/python3.6/site-packages/scipy/linalg/basic.py\u001b[0m in \u001b[0;36mdet\u001b[0;34m(a, overwrite_a, check_finite)\u001b[0m\n\u001b[1;32m   1030\u001b[0m     \u001b[0ma1\u001b[0m \u001b[0;34m=\u001b[0m \u001b[0m_asarray_validated\u001b[0m\u001b[0;34m(\u001b[0m\u001b[0ma\u001b[0m\u001b[0;34m,\u001b[0m \u001b[0mcheck_finite\u001b[0m\u001b[0;34m=\u001b[0m\u001b[0mcheck_finite\u001b[0m\u001b[0;34m)\u001b[0m\u001b[0;34m\u001b[0m\u001b[0m\n\u001b[1;32m   1031\u001b[0m     \u001b[0;32mif\u001b[0m \u001b[0mlen\u001b[0m\u001b[0;34m(\u001b[0m\u001b[0ma1\u001b[0m\u001b[0;34m.\u001b[0m\u001b[0mshape\u001b[0m\u001b[0;34m)\u001b[0m \u001b[0;34m!=\u001b[0m \u001b[0;36m2\u001b[0m \u001b[0;32mor\u001b[0m \u001b[0ma1\u001b[0m\u001b[0;34m.\u001b[0m\u001b[0mshape\u001b[0m\u001b[0;34m[\u001b[0m\u001b[0;36m0\u001b[0m\u001b[0;34m]\u001b[0m \u001b[0;34m!=\u001b[0m \u001b[0ma1\u001b[0m\u001b[0;34m.\u001b[0m\u001b[0mshape\u001b[0m\u001b[0;34m[\u001b[0m\u001b[0;36m1\u001b[0m\u001b[0;34m]\u001b[0m\u001b[0;34m:\u001b[0m\u001b[0;34m\u001b[0m\u001b[0m\n\u001b[0;32m-> 1032\u001b[0;31m         \u001b[0;32mraise\u001b[0m \u001b[0mValueError\u001b[0m\u001b[0;34m(\u001b[0m\u001b[0;34m'expected square matrix'\u001b[0m\u001b[0;34m)\u001b[0m\u001b[0;34m\u001b[0m\u001b[0m\n\u001b[0m\u001b[1;32m   1033\u001b[0m     \u001b[0moverwrite_a\u001b[0m \u001b[0;34m=\u001b[0m \u001b[0moverwrite_a\u001b[0m \u001b[0;32mor\u001b[0m \u001b[0m_datacopied\u001b[0m\u001b[0;34m(\u001b[0m\u001b[0ma1\u001b[0m\u001b[0;34m,\u001b[0m \u001b[0ma\u001b[0m\u001b[0;34m)\u001b[0m\u001b[0;34m\u001b[0m\u001b[0m\n\u001b[1;32m   1034\u001b[0m     \u001b[0mfdet\u001b[0m\u001b[0;34m,\u001b[0m \u001b[0;34m=\u001b[0m \u001b[0mget_flinalg_funcs\u001b[0m\u001b[0;34m(\u001b[0m\u001b[0;34m(\u001b[0m\u001b[0;34m'det'\u001b[0m\u001b[0;34m,\u001b[0m\u001b[0;34m)\u001b[0m\u001b[0;34m,\u001b[0m \u001b[0;34m(\u001b[0m\u001b[0ma1\u001b[0m\u001b[0;34m,\u001b[0m\u001b[0;34m)\u001b[0m\u001b[0;34m)\u001b[0m\u001b[0;34m\u001b[0m\u001b[0m\n",
      "\u001b[0;31mValueError\u001b[0m: expected square matrix"
     ]
    }
   ],
   "source": [
    "linalg.det(new_matrix) # using scipy"
   ]
  },
  {
   "cell_type": "code",
   "execution_count": 116,
   "metadata": {},
   "outputs": [
    {
     "ename": "LinAlgError",
     "evalue": "Last 2 dimensions of the array must be square",
     "output_type": "error",
     "traceback": [
      "\u001b[0;31m---------------------------------------------------------------------------\u001b[0m",
      "\u001b[0;31mLinAlgError\u001b[0m                               Traceback (most recent call last)",
      "\u001b[0;32m<ipython-input-116-419f147d1e6c>\u001b[0m in \u001b[0;36m<module>\u001b[0;34m()\u001b[0m\n\u001b[0;32m----> 1\u001b[0;31m \u001b[0mnp\u001b[0m\u001b[0;34m.\u001b[0m\u001b[0mlinalg\u001b[0m\u001b[0;34m.\u001b[0m\u001b[0mdet\u001b[0m\u001b[0;34m(\u001b[0m\u001b[0mnew_matrix\u001b[0m\u001b[0;34m)\u001b[0m \u001b[0;31m# using numpy\u001b[0m\u001b[0;34m\u001b[0m\u001b[0m\n\u001b[0m",
      "\u001b[0;32m/anaconda3/lib/python3.6/site-packages/numpy/linalg/linalg.py\u001b[0m in \u001b[0;36mdet\u001b[0;34m(a)\u001b[0m\n\u001b[1;32m   1869\u001b[0m     \u001b[0ma\u001b[0m \u001b[0;34m=\u001b[0m \u001b[0masarray\u001b[0m\u001b[0;34m(\u001b[0m\u001b[0ma\u001b[0m\u001b[0;34m)\u001b[0m\u001b[0;34m\u001b[0m\u001b[0m\n\u001b[1;32m   1870\u001b[0m     \u001b[0m_assertRankAtLeast2\u001b[0m\u001b[0;34m(\u001b[0m\u001b[0ma\u001b[0m\u001b[0;34m)\u001b[0m\u001b[0;34m\u001b[0m\u001b[0m\n\u001b[0;32m-> 1871\u001b[0;31m     \u001b[0m_assertNdSquareness\u001b[0m\u001b[0;34m(\u001b[0m\u001b[0ma\u001b[0m\u001b[0;34m)\u001b[0m\u001b[0;34m\u001b[0m\u001b[0m\n\u001b[0m\u001b[1;32m   1872\u001b[0m     \u001b[0mt\u001b[0m\u001b[0;34m,\u001b[0m \u001b[0mresult_t\u001b[0m \u001b[0;34m=\u001b[0m \u001b[0m_commonType\u001b[0m\u001b[0;34m(\u001b[0m\u001b[0ma\u001b[0m\u001b[0;34m)\u001b[0m\u001b[0;34m\u001b[0m\u001b[0m\n\u001b[1;32m   1873\u001b[0m     \u001b[0msignature\u001b[0m \u001b[0;34m=\u001b[0m \u001b[0;34m'D->D'\u001b[0m \u001b[0;32mif\u001b[0m \u001b[0misComplexType\u001b[0m\u001b[0;34m(\u001b[0m\u001b[0mt\u001b[0m\u001b[0;34m)\u001b[0m \u001b[0;32melse\u001b[0m \u001b[0;34m'd->d'\u001b[0m\u001b[0;34m\u001b[0m\u001b[0m\n",
      "\u001b[0;32m/anaconda3/lib/python3.6/site-packages/numpy/linalg/linalg.py\u001b[0m in \u001b[0;36m_assertNdSquareness\u001b[0;34m(*arrays)\u001b[0m\n\u001b[1;32m    209\u001b[0m     \u001b[0;32mfor\u001b[0m \u001b[0ma\u001b[0m \u001b[0;32min\u001b[0m \u001b[0marrays\u001b[0m\u001b[0;34m:\u001b[0m\u001b[0;34m\u001b[0m\u001b[0m\n\u001b[1;32m    210\u001b[0m         \u001b[0;32mif\u001b[0m \u001b[0mmax\u001b[0m\u001b[0;34m(\u001b[0m\u001b[0ma\u001b[0m\u001b[0;34m.\u001b[0m\u001b[0mshape\u001b[0m\u001b[0;34m[\u001b[0m\u001b[0;34m-\u001b[0m\u001b[0;36m2\u001b[0m\u001b[0;34m:\u001b[0m\u001b[0;34m]\u001b[0m\u001b[0;34m)\u001b[0m \u001b[0;34m!=\u001b[0m \u001b[0mmin\u001b[0m\u001b[0;34m(\u001b[0m\u001b[0ma\u001b[0m\u001b[0;34m.\u001b[0m\u001b[0mshape\u001b[0m\u001b[0;34m[\u001b[0m\u001b[0;34m-\u001b[0m\u001b[0;36m2\u001b[0m\u001b[0;34m:\u001b[0m\u001b[0;34m]\u001b[0m\u001b[0;34m)\u001b[0m\u001b[0;34m:\u001b[0m\u001b[0;34m\u001b[0m\u001b[0m\n\u001b[0;32m--> 211\u001b[0;31m             \u001b[0;32mraise\u001b[0m \u001b[0mLinAlgError\u001b[0m\u001b[0;34m(\u001b[0m\u001b[0;34m'Last 2 dimensions of the array must be square'\u001b[0m\u001b[0;34m)\u001b[0m\u001b[0;34m\u001b[0m\u001b[0m\n\u001b[0m\u001b[1;32m    212\u001b[0m \u001b[0;34m\u001b[0m\u001b[0m\n\u001b[1;32m    213\u001b[0m \u001b[0;32mdef\u001b[0m \u001b[0m_assertFinite\u001b[0m\u001b[0;34m(\u001b[0m\u001b[0;34m*\u001b[0m\u001b[0marrays\u001b[0m\u001b[0;34m)\u001b[0m\u001b[0;34m:\u001b[0m\u001b[0;34m\u001b[0m\u001b[0m\n",
      "\u001b[0;31mLinAlgError\u001b[0m: Last 2 dimensions of the array must be square"
     ]
    }
   ],
   "source": [
    "np.linalg.det(new_matrix) # using numpy"
   ]
  },
  {
   "cell_type": "markdown",
   "metadata": {},
   "source": [
    "Notes:\n",
    "\n",
    "- We can't compute the determinant of the above matrix since it is not square \n",
    "- Also, notice that the error messages in both SciPy and NumPy are different, suggesting that the functions actually have separate routines"
   ]
  },
  {
   "cell_type": "markdown",
   "metadata": {},
   "source": [
    "### 8.3.4.2 Matrix Inverse"
   ]
  },
  {
   "cell_type": "markdown",
   "metadata": {},
   "source": [
    "__Overview:__\n",
    "- __[Inverse](https://en.wikipedia.org/wiki/Invertible_matrix):__ The inverse of a matrix is (somewhat) analagous to matrix division and is very useful for many linear algebra routines \n",
    "- The inverse of a matrix $\\pmb A$ is such a matrix that returns the identity matrix (recall section 8.1) when multiplied by $\\pmb A$:\n",
    "<center> ($\\pmb A^{-1} \\pmb A = \\pmb I$) </center>\n",
    "- It may not be immediately clear how matrix inverses are analgous to division, but recall that $X / Y$ is the same operation as multiplying X by the reciprocal of Y $\\Rightarrow(1/Y)*X$. In the case of a matrix inverse, since X and Y refer to the same object, multiplying by its own reciprocal results in 1 $\\Rightarrow (1/Y)*Y = 1$\n",
    "- By definition, the inverse matrix $\\pmb A^{-1}$ \"undoes\" the effects of the matrix $\\pmb A$. We will take advantage of this fact in future sections\n",
    "\n",
    "__Helpful Points:__\n",
    "1. Be careful - a matrix inverse ($\\pmb A^{-1}$) does not exist for every matrix. That is to say, there does not exist a matrix $\\pmb B$, such that $\\pmb B \\pmb A = \\pmb I$, for every matrix $\\pmb A$. Instead, if the following 2 conditions hold, matrix $\\pmb A$ is said to be __Invertible__, __Nonsingular__, or __Nondegenerate__ and there exists a matrix $\\pmb B$ that will result in $\\pmb A \\pmb B = \\pmb I$. Conversely, if an inverse does not exist for a matrix $\\pmb A$, then the matrix is said to be __Singular__ or __Degenerate__.\n",
    "> a. Matrix has to be square (recall definition in section 8.1) <br>\n",
    "> b. Determinant of the matrix is non-zero\n",
    "2. There are a few important properties regarding matrix inverses:\n",
    "> a. If $\\pmb A$ is a square matrix and has an inverse, then $\\pmb A^{-1}$ is unique<br>\n",
    "> b. If $\\pmb A$ and $\\pmb B$ are both invertible matrices, then $\\pmb A \\pmb B$ is also an invertible matrix and $(\\pmb A \\pmb B)^{-1} = \\pmb B^{-1} \\pmb A^{-1}$<br>\n",
    "> c. If $\\pmb A$ is an invertible matrix, then $\\pmb A^T$ is also invertible and $(\\pmb A^T)^{-1} = (\\pmb A^{-1})^T$<br>\n",
    "> d. If $\\pmb A$ is an invertible matrix and $\\alpha$ is a nonzero scalar, then $(\\alpha \\pmb A)^{-1} = \\frac{1}\n",
    "{\\alpha}\\pmb A^{-1}$<br>\n",
    "> e. $\\pmb A^{-1} \\pmb A = \\pmb I$ is true and $\\pmb A \\pmb A^{-1} = \\pmb I$ is also true\n",
    "3. There are a few ways to calculate a matrix inverse if it exists:\n",
    "> a. __Method 1:__ Using the determinant and the __[adjugate](https://en.wikipedia.org/wiki/Adjugate_matrix)__ of the matrix $\\pmb A$<br>\n",
    "> b. __Method 2:__ Using matrix row operations (see section 8.3)<br>\n",
    "> c. __Method 3:__ Using NumPy and SciPy's built in matrix inverse methods: [`scipy.linalg.inv`](https://docs.scipy.org/doc/scipy/reference/generated/scipy.linalg.inv.html#scipy.linalg.inv) and [`numpy.linalg.inv`](https://docs.scipy.org/doc/numpy-1.14.0/reference/generated/numpy.linalg.inv.html#numpy.linalg.inv)\n",
    "4. The most useful ability of matrix inverses is so to solve linear equations such as $\\pmb A \\pmb x = \\pmb b$ (see section 8.3)\n",
    "\n",
    "__Practice:__ Examples of Matrix Inverse in Python "
   ]
  },
  {
   "cell_type": "markdown",
   "metadata": {},
   "source": [
    "### Example 1 (Calculating Inverses):"
   ]
  },
  {
   "cell_type": "code",
   "execution_count": 117,
   "metadata": {},
   "outputs": [
    {
     "name": "stdout",
     "output_type": "stream",
     "text": [
      "[[1 1]\n",
      " [2 3]]\n"
     ]
    }
   ],
   "source": [
    "A = np.array([[1,1], [2,3]])\n",
    "print(A)"
   ]
  },
  {
   "cell_type": "markdown",
   "metadata": {},
   "source": [
    "### Example 1.1 (Using Method 1):\n",
    "\n",
    "We can calculate the inverse of a $2$ $x$ $2$ matrix using the determinant and the adjugate of the matrix. Technically speaking, the adjugate of a matrix is the transpose of the cofactor of the matrix and this can get fairly complicated for matrices larger than $2$ $x$ $2$. Therefore, we will illustrate the formula for a $2$ $x$ $2$ matrix and propose this method as a viable method only for matrices of this shape. For larger matrices, methods 2 and 3 will prevail. \n",
    "\n",
    "If\n",
    "\\begin{equation}\n",
    "A = \n",
    "\\begin{bmatrix}\n",
    "    A_{11} & A_{12}\\\\\n",
    "    A_{12} & A_{22}\n",
    "\\end{bmatrix}\n",
    "\\end{equation}\n",
    "\n",
    "Then\n",
    "\\begin{equation}\n",
    "A^{-1} = \\frac{1}{det(A)}\n",
    "adj(A)\n",
    "\\end{equation}\n",
    "where\n",
    "\\begin{equation}\n",
    "adj(A) = \n",
    "\\begin{bmatrix}\n",
    "    A_{22} & -A_{12}\\\\\n",
    "    -A_{21} & A_{11}\n",
    "\\end{bmatrix}\n",
    "\\end{equation}"
   ]
  },
  {
   "cell_type": "code",
   "execution_count": 118,
   "metadata": {},
   "outputs": [
    {
     "data": {
      "text/plain": [
       "array([[ 3, -1],\n",
       "       [-2,  1]])"
      ]
     },
     "execution_count": 118,
     "metadata": {},
     "output_type": "execute_result"
    }
   ],
   "source": [
    "adj_A = np.array([[3,-1],[-2,1]])\n",
    "adj_A"
   ]
  },
  {
   "cell_type": "code",
   "execution_count": 119,
   "metadata": {},
   "outputs": [
    {
     "data": {
      "text/plain": [
       "array([[ 3., -1.],\n",
       "       [-2.,  1.]])"
      ]
     },
     "execution_count": 119,
     "metadata": {},
     "output_type": "execute_result"
    }
   ],
   "source": [
    "(1/np.linalg.det(A)) * adj_A"
   ]
  },
  {
   "cell_type": "markdown",
   "metadata": {},
   "source": [
    "### Example 1.2 (Using Method 2):\n",
    "\n",
    "You have to wait for Section 8.3 to see this..."
   ]
  },
  {
   "cell_type": "markdown",
   "metadata": {},
   "source": [
    "### Example 1.3 (Using Method 3):"
   ]
  },
  {
   "cell_type": "code",
   "execution_count": 120,
   "metadata": {},
   "outputs": [
    {
     "data": {
      "text/plain": [
       "array([[ 3., -1.],\n",
       "       [-2.,  1.]])"
      ]
     },
     "execution_count": 120,
     "metadata": {},
     "output_type": "execute_result"
    }
   ],
   "source": [
    "linalg.inv(A) # using scipy"
   ]
  },
  {
   "cell_type": "code",
   "execution_count": 121,
   "metadata": {},
   "outputs": [
    {
     "data": {
      "text/plain": [
       "array([[ 3., -1.],\n",
       "       [-2.,  1.]])"
      ]
     },
     "execution_count": 121,
     "metadata": {},
     "output_type": "execute_result"
    }
   ],
   "source": [
    "np.linalg.inv(A) # using numpy"
   ]
  },
  {
   "cell_type": "markdown",
   "metadata": {},
   "source": [
    "### Example 2 (Checking if Inverse Exists):"
   ]
  },
  {
   "cell_type": "markdown",
   "metadata": {},
   "source": [
    "### Example 2.1 (Square Matrix that is Non-Singular):"
   ]
  },
  {
   "cell_type": "code",
   "execution_count": 122,
   "metadata": {
    "scrolled": true
   },
   "outputs": [
    {
     "name": "stdout",
     "output_type": "stream",
     "text": [
      "[[1 1 4]\n",
      " [2 3 1]\n",
      " [3 3 2]]\n"
     ]
    }
   ],
   "source": [
    "A = np.array([[1,1,4], [2,3,1], [3,3,2]])\n",
    "print(A)"
   ]
  },
  {
   "cell_type": "code",
   "execution_count": 125,
   "metadata": {},
   "outputs": [
    {
     "data": {
      "text/plain": [
       "-10.0"
      ]
     },
     "execution_count": 125,
     "metadata": {},
     "output_type": "execute_result"
    }
   ],
   "source": [
    "linalg.det(A)"
   ]
  },
  {
   "cell_type": "code",
   "execution_count": 123,
   "metadata": {},
   "outputs": [
    {
     "data": {
      "text/plain": [
       "array([[-3.00000000e-01, -1.00000000e+00,  1.10000000e+00],\n",
       "       [ 1.00000000e-01,  1.00000000e+00, -7.00000000e-01],\n",
       "       [ 3.00000000e-01, -1.66533454e-17, -1.00000000e-01]])"
      ]
     },
     "execution_count": 123,
     "metadata": {},
     "output_type": "execute_result"
    }
   ],
   "source": [
    "linalg.inv(A) "
   ]
  },
  {
   "cell_type": "code",
   "execution_count": 124,
   "metadata": {},
   "outputs": [
    {
     "data": {
      "text/plain": [
       "array([[-3.00000000e-01, -1.00000000e+00,  1.10000000e+00],\n",
       "       [ 1.00000000e-01,  1.00000000e+00, -7.00000000e-01],\n",
       "       [ 3.00000000e-01, -1.66533454e-17, -1.00000000e-01]])"
      ]
     },
     "execution_count": 124,
     "metadata": {},
     "output_type": "execute_result"
    }
   ],
   "source": [
    "np.linalg.inv(A)"
   ]
  },
  {
   "cell_type": "markdown",
   "metadata": {},
   "source": [
    "### Example 2.2 (Square Matrix that is Singular):"
   ]
  },
  {
   "cell_type": "code",
   "execution_count": 126,
   "metadata": {},
   "outputs": [
    {
     "name": "stdout",
     "output_type": "stream",
     "text": [
      "[[1 2]\n",
      " [2 4]]\n"
     ]
    }
   ],
   "source": [
    "B = np.array([[1,2], [2,4]])\n",
    "print(B)"
   ]
  },
  {
   "cell_type": "code",
   "execution_count": 127,
   "metadata": {},
   "outputs": [
    {
     "ename": "LinAlgError",
     "evalue": "singular matrix",
     "output_type": "error",
     "traceback": [
      "\u001b[0;31m---------------------------------------------------------------------------\u001b[0m",
      "\u001b[0;31mLinAlgError\u001b[0m                               Traceback (most recent call last)",
      "\u001b[0;32m<ipython-input-127-f9562d59491d>\u001b[0m in \u001b[0;36m<module>\u001b[0;34m()\u001b[0m\n\u001b[0;32m----> 1\u001b[0;31m \u001b[0mlinalg\u001b[0m\u001b[0;34m.\u001b[0m\u001b[0minv\u001b[0m\u001b[0;34m(\u001b[0m\u001b[0mB\u001b[0m\u001b[0;34m)\u001b[0m \u001b[0;31m# using scipy\u001b[0m\u001b[0;34m\u001b[0m\u001b[0m\n\u001b[0m",
      "\u001b[0;32m/anaconda3/lib/python3.6/site-packages/scipy/linalg/basic.py\u001b[0m in \u001b[0;36minv\u001b[0;34m(a, overwrite_a, check_finite)\u001b[0m\n\u001b[1;32m    973\u001b[0m         \u001b[0minv_a\u001b[0m\u001b[0;34m,\u001b[0m \u001b[0minfo\u001b[0m \u001b[0;34m=\u001b[0m \u001b[0mgetri\u001b[0m\u001b[0;34m(\u001b[0m\u001b[0mlu\u001b[0m\u001b[0;34m,\u001b[0m \u001b[0mpiv\u001b[0m\u001b[0;34m,\u001b[0m \u001b[0mlwork\u001b[0m\u001b[0;34m=\u001b[0m\u001b[0mlwork\u001b[0m\u001b[0;34m,\u001b[0m \u001b[0moverwrite_lu\u001b[0m\u001b[0;34m=\u001b[0m\u001b[0;36m1\u001b[0m\u001b[0;34m)\u001b[0m\u001b[0;34m\u001b[0m\u001b[0m\n\u001b[1;32m    974\u001b[0m     \u001b[0;32mif\u001b[0m \u001b[0minfo\u001b[0m \u001b[0;34m>\u001b[0m \u001b[0;36m0\u001b[0m\u001b[0;34m:\u001b[0m\u001b[0;34m\u001b[0m\u001b[0m\n\u001b[0;32m--> 975\u001b[0;31m         \u001b[0;32mraise\u001b[0m \u001b[0mLinAlgError\u001b[0m\u001b[0;34m(\u001b[0m\u001b[0;34m\"singular matrix\"\u001b[0m\u001b[0;34m)\u001b[0m\u001b[0;34m\u001b[0m\u001b[0m\n\u001b[0m\u001b[1;32m    976\u001b[0m     \u001b[0;32mif\u001b[0m \u001b[0minfo\u001b[0m \u001b[0;34m<\u001b[0m \u001b[0;36m0\u001b[0m\u001b[0;34m:\u001b[0m\u001b[0;34m\u001b[0m\u001b[0m\n\u001b[1;32m    977\u001b[0m         raise ValueError('illegal value in %d-th argument of internal '\n",
      "\u001b[0;31mLinAlgError\u001b[0m: singular matrix"
     ]
    }
   ],
   "source": [
    "linalg.inv(B) # using scipy "
   ]
  },
  {
   "cell_type": "code",
   "execution_count": 128,
   "metadata": {
    "scrolled": true
   },
   "outputs": [
    {
     "ename": "LinAlgError",
     "evalue": "Singular matrix",
     "output_type": "error",
     "traceback": [
      "\u001b[0;31m---------------------------------------------------------------------------\u001b[0m",
      "\u001b[0;31mLinAlgError\u001b[0m                               Traceback (most recent call last)",
      "\u001b[0;32m<ipython-input-128-07f5505a3d2d>\u001b[0m in \u001b[0;36m<module>\u001b[0;34m()\u001b[0m\n\u001b[0;32m----> 1\u001b[0;31m \u001b[0mnp\u001b[0m\u001b[0;34m.\u001b[0m\u001b[0mlinalg\u001b[0m\u001b[0;34m.\u001b[0m\u001b[0minv\u001b[0m\u001b[0;34m(\u001b[0m\u001b[0mB\u001b[0m\u001b[0;34m)\u001b[0m \u001b[0;31m# using numpy\u001b[0m\u001b[0;34m\u001b[0m\u001b[0m\n\u001b[0m",
      "\u001b[0;32m/anaconda3/lib/python3.6/site-packages/numpy/linalg/linalg.py\u001b[0m in \u001b[0;36minv\u001b[0;34m(a)\u001b[0m\n\u001b[1;32m    526\u001b[0m     \u001b[0msignature\u001b[0m \u001b[0;34m=\u001b[0m \u001b[0;34m'D->D'\u001b[0m \u001b[0;32mif\u001b[0m \u001b[0misComplexType\u001b[0m\u001b[0;34m(\u001b[0m\u001b[0mt\u001b[0m\u001b[0;34m)\u001b[0m \u001b[0;32melse\u001b[0m \u001b[0;34m'd->d'\u001b[0m\u001b[0;34m\u001b[0m\u001b[0m\n\u001b[1;32m    527\u001b[0m     \u001b[0mextobj\u001b[0m \u001b[0;34m=\u001b[0m \u001b[0mget_linalg_error_extobj\u001b[0m\u001b[0;34m(\u001b[0m\u001b[0m_raise_linalgerror_singular\u001b[0m\u001b[0;34m)\u001b[0m\u001b[0;34m\u001b[0m\u001b[0m\n\u001b[0;32m--> 528\u001b[0;31m     \u001b[0mainv\u001b[0m \u001b[0;34m=\u001b[0m \u001b[0m_umath_linalg\u001b[0m\u001b[0;34m.\u001b[0m\u001b[0minv\u001b[0m\u001b[0;34m(\u001b[0m\u001b[0ma\u001b[0m\u001b[0;34m,\u001b[0m \u001b[0msignature\u001b[0m\u001b[0;34m=\u001b[0m\u001b[0msignature\u001b[0m\u001b[0;34m,\u001b[0m \u001b[0mextobj\u001b[0m\u001b[0;34m=\u001b[0m\u001b[0mextobj\u001b[0m\u001b[0;34m)\u001b[0m\u001b[0;34m\u001b[0m\u001b[0m\n\u001b[0m\u001b[1;32m    529\u001b[0m     \u001b[0;32mreturn\u001b[0m \u001b[0mwrap\u001b[0m\u001b[0;34m(\u001b[0m\u001b[0mainv\u001b[0m\u001b[0;34m.\u001b[0m\u001b[0mastype\u001b[0m\u001b[0;34m(\u001b[0m\u001b[0mresult_t\u001b[0m\u001b[0;34m,\u001b[0m \u001b[0mcopy\u001b[0m\u001b[0;34m=\u001b[0m\u001b[0;32mFalse\u001b[0m\u001b[0;34m)\u001b[0m\u001b[0;34m)\u001b[0m\u001b[0;34m\u001b[0m\u001b[0m\n\u001b[1;32m    530\u001b[0m \u001b[0;34m\u001b[0m\u001b[0m\n",
      "\u001b[0;32m/anaconda3/lib/python3.6/site-packages/numpy/linalg/linalg.py\u001b[0m in \u001b[0;36m_raise_linalgerror_singular\u001b[0;34m(err, flag)\u001b[0m\n\u001b[1;32m     87\u001b[0m \u001b[0;34m\u001b[0m\u001b[0m\n\u001b[1;32m     88\u001b[0m \u001b[0;32mdef\u001b[0m \u001b[0m_raise_linalgerror_singular\u001b[0m\u001b[0;34m(\u001b[0m\u001b[0merr\u001b[0m\u001b[0;34m,\u001b[0m \u001b[0mflag\u001b[0m\u001b[0;34m)\u001b[0m\u001b[0;34m:\u001b[0m\u001b[0;34m\u001b[0m\u001b[0m\n\u001b[0;32m---> 89\u001b[0;31m     \u001b[0;32mraise\u001b[0m \u001b[0mLinAlgError\u001b[0m\u001b[0;34m(\u001b[0m\u001b[0;34m\"Singular matrix\"\u001b[0m\u001b[0;34m)\u001b[0m\u001b[0;34m\u001b[0m\u001b[0m\n\u001b[0m\u001b[1;32m     90\u001b[0m \u001b[0;34m\u001b[0m\u001b[0m\n\u001b[1;32m     91\u001b[0m \u001b[0;32mdef\u001b[0m \u001b[0m_raise_linalgerror_nonposdef\u001b[0m\u001b[0;34m(\u001b[0m\u001b[0merr\u001b[0m\u001b[0;34m,\u001b[0m \u001b[0mflag\u001b[0m\u001b[0;34m)\u001b[0m\u001b[0;34m:\u001b[0m\u001b[0;34m\u001b[0m\u001b[0m\n",
      "\u001b[0;31mLinAlgError\u001b[0m: Singular matrix"
     ]
    }
   ],
   "source": [
    "np.linalg.inv(B) # using numpy "
   ]
  },
  {
   "cell_type": "markdown",
   "metadata": {},
   "source": [
    "Why is this matrix singular? It is square, but its determinant is equal to 0 and we know that invertible matrices must have a non-zero determinant. See below:"
   ]
  },
  {
   "cell_type": "code",
   "execution_count": 129,
   "metadata": {},
   "outputs": [
    {
     "data": {
      "text/plain": [
       "0.0"
      ]
     },
     "execution_count": 129,
     "metadata": {},
     "output_type": "execute_result"
    }
   ],
   "source": [
    "linalg.det(B)"
   ]
  },
  {
   "cell_type": "code",
   "execution_count": 130,
   "metadata": {
    "scrolled": true
   },
   "outputs": [
    {
     "data": {
      "text/plain": [
       "0.0"
      ]
     },
     "execution_count": 130,
     "metadata": {},
     "output_type": "execute_result"
    }
   ],
   "source": [
    "np.linalg.det(B)"
   ]
  },
  {
   "cell_type": "markdown",
   "metadata": {},
   "source": [
    "### Example 3 (Checking Matrix Properties):"
   ]
  },
  {
   "cell_type": "code",
   "execution_count": 131,
   "metadata": {
    "scrolled": true
   },
   "outputs": [
    {
     "name": "stdout",
     "output_type": "stream",
     "text": [
      "[[1 2 4]\n",
      " [2 1 0]\n",
      " [1 1 5]]\n"
     ]
    }
   ],
   "source": [
    "A = np.array([[1,2,4],[2,1,0],[1,1,5]])\n",
    "print(A)"
   ]
  },
  {
   "cell_type": "code",
   "execution_count": 132,
   "metadata": {
    "scrolled": true
   },
   "outputs": [
    {
     "name": "stdout",
     "output_type": "stream",
     "text": [
      "[[3 0 0]\n",
      " [4 1 0]\n",
      " [2 3 5]]\n"
     ]
    }
   ],
   "source": [
    "B = np.array([[3,0,0],[4,1,0],[2,3,5]])\n",
    "print(B)"
   ]
  },
  {
   "cell_type": "markdown",
   "metadata": {},
   "source": [
    "### Example 3.1 (AA^-1 = I)"
   ]
  },
  {
   "cell_type": "code",
   "execution_count": 133,
   "metadata": {},
   "outputs": [
    {
     "name": "stdout",
     "output_type": "stream",
     "text": [
      "[[-0.45454545  0.54545455  0.36363636]\n",
      " [ 0.90909091 -0.09090909 -0.72727273]\n",
      " [-0.09090909 -0.09090909  0.27272727]]\n"
     ]
    }
   ],
   "source": [
    "A_inv = np.linalg.inv(A)\n",
    "print(A_inv)"
   ]
  },
  {
   "cell_type": "code",
   "execution_count": 134,
   "metadata": {
    "scrolled": true
   },
   "outputs": [
    {
     "data": {
      "text/plain": [
       "array([[ 1.00000000e+00,  0.00000000e+00,  0.00000000e+00],\n",
       "       [ 0.00000000e+00,  1.00000000e+00,  0.00000000e+00],\n",
       "       [ 4.16333634e-17, -2.77555756e-17,  1.00000000e+00]])"
      ]
     },
     "execution_count": 134,
     "metadata": {},
     "output_type": "execute_result"
    }
   ],
   "source": [
    "np.dot(A, A_inv) # identity matrix "
   ]
  },
  {
   "cell_type": "markdown",
   "metadata": {},
   "source": [
    "### Example 3.2 (A^-1A = I)"
   ]
  },
  {
   "cell_type": "code",
   "execution_count": 135,
   "metadata": {
    "scrolled": true
   },
   "outputs": [
    {
     "data": {
      "text/plain": [
       "array([[ 1.00000000e+00, -5.55111512e-17, -1.66533454e-16],\n",
       "       [ 1.11022302e-16,  1.00000000e+00,  3.33066907e-16],\n",
       "       [ 0.00000000e+00,  0.00000000e+00,  1.00000000e+00]])"
      ]
     },
     "execution_count": 135,
     "metadata": {},
     "output_type": "execute_result"
    }
   ],
   "source": [
    "np.dot(A_inv, A) # identity matrix "
   ]
  },
  {
   "cell_type": "markdown",
   "metadata": {},
   "source": [
    "### Example 3.3 ( (AB)^-1 = B^-1A^-1 )"
   ]
  },
  {
   "cell_type": "code",
   "execution_count": 136,
   "metadata": {},
   "outputs": [
    {
     "data": {
      "text/plain": [
       "array([[-0.15151515,  0.18181818,  0.12121212],\n",
       "       [ 1.51515152, -0.81818182, -1.21212121],\n",
       "       [-0.86666667,  0.4       ,  0.73333333]])"
      ]
     },
     "execution_count": 136,
     "metadata": {},
     "output_type": "execute_result"
    }
   ],
   "source": [
    "np.linalg.inv(np.dot(A, B)) "
   ]
  },
  {
   "cell_type": "code",
   "execution_count": 137,
   "metadata": {
    "scrolled": true
   },
   "outputs": [
    {
     "data": {
      "text/plain": [
       "array([[-0.15151515,  0.18181818,  0.12121212],\n",
       "       [ 1.51515152, -0.81818182, -1.21212121],\n",
       "       [-0.86666667,  0.4       ,  0.73333333]])"
      ]
     },
     "execution_count": 137,
     "metadata": {},
     "output_type": "execute_result"
    }
   ],
   "source": [
    "np.dot(np.linalg.inv(B), np.linalg.inv(A))"
   ]
  },
  {
   "cell_type": "markdown",
   "metadata": {},
   "source": [
    "### Example 3.4 ( (A^T)^-1 = (A^-1)^T )"
   ]
  },
  {
   "cell_type": "code",
   "execution_count": 138,
   "metadata": {},
   "outputs": [
    {
     "data": {
      "text/plain": [
       "array([[-0.45454545,  0.90909091, -0.09090909],\n",
       "       [ 0.54545455, -0.09090909, -0.09090909],\n",
       "       [ 0.36363636, -0.72727273,  0.27272727]])"
      ]
     },
     "execution_count": 138,
     "metadata": {},
     "output_type": "execute_result"
    }
   ],
   "source": [
    "np.linalg.inv(A.transpose()) "
   ]
  },
  {
   "cell_type": "code",
   "execution_count": 139,
   "metadata": {},
   "outputs": [
    {
     "data": {
      "text/plain": [
       "array([[-0.45454545,  0.90909091, -0.09090909],\n",
       "       [ 0.54545455, -0.09090909, -0.09090909],\n",
       "       [ 0.36363636, -0.72727273,  0.27272727]])"
      ]
     },
     "execution_count": 139,
     "metadata": {},
     "output_type": "execute_result"
    }
   ],
   "source": [
    "np.linalg.inv(A).transpose()"
   ]
  },
  {
   "cell_type": "markdown",
   "metadata": {},
   "source": [
    "### Problem 4\n",
    "\n",
    "Create a matrix \n",
    "\n",
    "\\begin{equation}\n",
    "\\pmb A = \n",
    "\\begin{bmatrix}\n",
    "    1 & 2\\\\\n",
    "    2 & 0\\\\\n",
    "\\end{bmatrix}\n",
    "\\end{equation}\n",
    "\n",
    "Calculate the determinant and inverse of this matrix. Use any method(s) you please, but ensure one of those methods is the manual calculation. "
   ]
  },
  {
   "cell_type": "code",
   "execution_count": null,
   "metadata": {},
   "outputs": [],
   "source": [
    "# write your code here \n",
    "\n",
    "\n",
    "\n"
   ]
  },
  {
   "cell_type": "markdown",
   "metadata": {},
   "source": [
    "## 8.3 Systems of Linear Equations  "
   ]
  },
  {
   "cell_type": "markdown",
   "metadata": {},
   "source": [
    "### 8.3.1 What is a System of Linear Equations?"
   ]
  },
  {
   "cell_type": "markdown",
   "metadata": {},
   "source": [
    "__Overview:__ \n",
    "- __[System of Linear Equations](https://en.wikipedia.org/wiki/System_of_linear_equations):__ A system of linear equations is a collection of linear equations in which the solution must satisfy all equations in the system \n",
    "- To \"solve\" the system simply means to find values for the unknown variables that make both the left side and the right side equal for all equations in the system \n",
    "- It is possible to visualize the \"solution\" to a system of equations in both 2-dimensional and 3-dimensional space as the point that two lines intersect at (in 2-d space) and the line that two planes intersect at (in 3-d space) \n",
    "\n",
    "__Helpful Points:__\n",
    "1. The system of equations can either be:\n",
    "> a. __Consistent:__ Consistent systems have at least one solution (the lines or planes intersect at least once)<br>\n",
    "> b. __Inconsistent:__ Inconsistent systems have no solution (the lines or planes never intersect) \n",
    "2. The following is an example of a system of linear equations. To \"solve\" this system would be to find values for $x$ and $y$ that satisfy both equations:\n",
    "<center> $2x - y = 0$ </center>\n",
    "<center> $-x + 2y = 3$ </center>  "
   ]
  },
  {
   "cell_type": "markdown",
   "metadata": {},
   "source": [
    "### 8.3.2 Representing a System of Linear Equations:"
   ]
  },
  {
   "cell_type": "markdown",
   "metadata": {},
   "source": [
    "__Overview:__ \n",
    "- There are 3 main ways to represent a system of linear equations in Linear Algebra:\n",
    "> 1. __Row Picture:__ The row picture represents each equation as a line/plane in $n$-dimensional space and the solution is where the two lines/planes intersect. \n",
    ">> - To plot the linear equations on a graph in 2 or 3-dimensional space, plug in numbers for $x$ and rearrange the equation to find the associated value for $y$. Conversely, plug in numbers for $y$ and rearrange the equation to find the associated value for $x$. Remember that you need only 2 points to form a line. \n",
    ">> - For the example shown above in section 8.3.1:\n",
    "<center> __Equation 1:__ $y = 2x$ </center> \n",
    "<center> __Equation 2:__ $y = \\frac{3}{2} + \\frac{x}{2}$ </center> \n",
    "> 2. __Column Picture:__ The column picture turns a system of linear equations into a single equation where coefficients become the column vectors and we are interested in finding the $x$ and $y$ values which make the linear combination equal to the right hand side vector \n",
    ">> - Recall linear combinations with vectors from Lecture 7\n",
    ">> - For the example shown above in section 8.3.2:\n",
    "\\begin{equation}\n",
    "x\n",
    "\\begin{bmatrix}\n",
    "    2\\\\\n",
    "    -1\n",
    "\\end{bmatrix}\n",
    "+ y\n",
    "\\begin{bmatrix}\n",
    "    -1\\\\\n",
    "    2\n",
    "\\end{bmatrix}\n",
    "= \n",
    "\\begin{bmatrix}\n",
    "    0\\\\\n",
    "    3\n",
    "\\end{bmatrix}\n",
    "\\end{equation}\n",
    "> 3. __Matrix Picture:__ The matrix picture converts a system of linear equations to the following form where the solution of the system contains the values of $[x,y]^T$ that satisfied the equation.\n",
    "<center> $\\pmb A \\pmb x = \\pmb b$ </center> \n",
    "<center> Where $\\pmb A$ = The coefficient matrix, $\\pmb x$ = The vector of unknowns, and $\\pmb b$ = The solution vector </center>\n",
    ">> - For the example shown above in section 8.3.3:\n",
    "\\begin{equation}\n",
    "\\begin{bmatrix}\n",
    "    2 & -1\\\\\n",
    "    -1 & 2\n",
    "\\end{bmatrix}\n",
    "\\begin{bmatrix}\n",
    "    x\\\\\n",
    "    y\n",
    "\\end{bmatrix}\n",
    "=\n",
    "\\begin{bmatrix}\n",
    "    0\\\\\n",
    "    3\n",
    "\\end{bmatrix}\n",
    "\\end{equation}\n",
    "\n",
    "__Helpful Points:__\n",
    "1. It is most common to use the Matrix Picture in Linear Algebra and Data Science in general, so you should become fluent with this notation\n",
    "\n",
    "__Practice:__ Examples of Representing Systems of Linear Equations in Python "
   ]
  },
  {
   "cell_type": "markdown",
   "metadata": {},
   "source": [
    "### Example 1 (Row Picture):"
   ]
  },
  {
   "cell_type": "code",
   "execution_count": 140,
   "metadata": {},
   "outputs": [],
   "source": [
    "# 2x - y = 0 or y = 2x (input x and get output y)\n",
    "def eq_1(x):\n",
    "    y = 2*x\n",
    "    return y "
   ]
  },
  {
   "cell_type": "code",
   "execution_count": 141,
   "metadata": {},
   "outputs": [
    {
     "data": {
      "text/plain": [
       "0"
      ]
     },
     "execution_count": 141,
     "metadata": {},
     "output_type": "execute_result"
    }
   ],
   "source": [
    "eq_1(0) # first point on eq 1 line (0,0)"
   ]
  },
  {
   "cell_type": "code",
   "execution_count": 142,
   "metadata": {
    "scrolled": false
   },
   "outputs": [
    {
     "data": {
      "text/plain": [
       "2"
      ]
     },
     "execution_count": 142,
     "metadata": {},
     "output_type": "execute_result"
    }
   ],
   "source": [
    "eq_1(1) # second point on eq 1 line (1,2)"
   ]
  },
  {
   "cell_type": "code",
   "execution_count": 143,
   "metadata": {},
   "outputs": [
    {
     "data": {
      "text/plain": [
       "-2"
      ]
     },
     "execution_count": 143,
     "metadata": {},
     "output_type": "execute_result"
    }
   ],
   "source": [
    "eq_1(-1) # third point on eq 1 line (-1,-2)"
   ]
  },
  {
   "cell_type": "code",
   "execution_count": 144,
   "metadata": {},
   "outputs": [],
   "source": [
    "# -x + 2y = 3 or y = 3/2 + x/2\n",
    "def eq_2(x):\n",
    "    y = 3/2 + x/2\n",
    "    return y "
   ]
  },
  {
   "cell_type": "code",
   "execution_count": 145,
   "metadata": {},
   "outputs": [
    {
     "data": {
      "text/plain": [
       "1.5"
      ]
     },
     "execution_count": 145,
     "metadata": {},
     "output_type": "execute_result"
    }
   ],
   "source": [
    "eq_2(0) # first point on eq 2 line (0,1.5)"
   ]
  },
  {
   "cell_type": "code",
   "execution_count": 146,
   "metadata": {
    "scrolled": false
   },
   "outputs": [
    {
     "data": {
      "text/plain": [
       "2.0"
      ]
     },
     "execution_count": 146,
     "metadata": {},
     "output_type": "execute_result"
    }
   ],
   "source": [
    "eq_2(1) # second point on eq 2 line (1,2)"
   ]
  },
  {
   "cell_type": "code",
   "execution_count": 147,
   "metadata": {},
   "outputs": [
    {
     "data": {
      "text/plain": [
       "1.0"
      ]
     },
     "execution_count": 147,
     "metadata": {},
     "output_type": "execute_result"
    }
   ],
   "source": [
    "eq_2(-1) # third point on eq 2 line (-1,1)"
   ]
  },
  {
   "cell_type": "code",
   "execution_count": 148,
   "metadata": {
    "scrolled": true
   },
   "outputs": [
    {
     "data": {
      "image/png": "[encoded data removed]",
      "text/plain": [
       "<Figure size 432x288 with 1 Axes>"
      ]
     },
     "metadata": {},
     "output_type": "display_data"
    }
   ],
   "source": [
    "soa = np.array([[-1, -2, 3, 6], [-1, 1, 3, 1.5]])\n",
    "X, Y, U, V = zip(*soa)\n",
    "plt.figure()\n",
    "ax = plt.gca()\n",
    "ax.quiver(X, Y, U, V, angles='xy', scale_units='xy', scale=1, color = [\"blue\", \"red\"])\n",
    "ax.set_xlim([-2, 5])\n",
    "ax.set_ylim([-2, 5])\n",
    "plt.title('System of equations (eq1 = blue, eq 2 = red)')\n",
    "plt.xlabel('$1$', fontsize = 20)\n",
    "plt.ylabel('$2$', fontsize = 20)\n",
    "plt.axhline(y=0, color='black', linestyle='-')\n",
    "plt.axvline(x=0, color='black', linestyle='-')\n",
    "plt.grid()"
   ]
  },
  {
   "cell_type": "markdown",
   "metadata": {},
   "source": [
    "We can see graphically that the \"solution\" to this sytem of linear equations is the point $(1,2)$ or $x = 1, y = 2$ since this is where the two lines intersect. We can test this solution by checking if these variables satisfy both equations: \n",
    "\n",
    "<center> Equation 1: $2(1) - 2 = 0$ </center>\n",
    "<center> Equation 2: $-1 + 2(2) = 3$ </center> \n",
    "\n",
    "Indeed, the left side of both equations equals the right side of both equations and therefore we have found a solution to this system. It is important to note that we can see in the graph that there is only one point in which the lines intersect at, therfore this sytem has 1 solution. "
   ]
  },
  {
   "cell_type": "markdown",
   "metadata": {},
   "source": [
    "### Example 2 (Column Picture):"
   ]
  },
  {
   "cell_type": "markdown",
   "metadata": {},
   "source": [
    "Recall the formulation of the column picture. Our goal is to find values of $x$ and $y$ such that the linear combination equals the right hand side vector:<br>\n",
    "\\begin{equation}\n",
    "x\n",
    "\\begin{bmatrix}\n",
    "    2\\\\\n",
    "    -1\n",
    "\\end{bmatrix}\n",
    "+ y\n",
    "\\begin{bmatrix}\n",
    "    -1\\\\\n",
    "    2\n",
    "\\end{bmatrix}\n",
    "= \n",
    "\\begin{bmatrix}\n",
    "    0\\\\\n",
    "    3\n",
    "\\end{bmatrix}\n",
    "\\end{equation}\n",
    "\n",
    "Each column vector can be plotted and visualized on the graph below:"
   ]
  },
  {
   "cell_type": "code",
   "execution_count": 149,
   "metadata": {
    "scrolled": false
   },
   "outputs": [
    {
     "data": {
      "image/png": "[encoded data removed]",
      "text/plain": [
       "<Figure size 432x288 with 1 Axes>"
      ]
     },
     "metadata": {},
     "output_type": "display_data"
    }
   ],
   "source": [
    "# plot the left hand side and right hand side vectors \n",
    "soa = np.array([[0, 0, 2, -1], [0, 0, -1, 2], [0, 0, 0, 3]])\n",
    "X, Y, U, V = zip(*soa)\n",
    "plt.figure()\n",
    "ax = plt.gca()\n",
    "ax.quiver(X, Y, U, V, angles='xy', scale_units='xy', scale=1, color = [\"blue\", \"red\", \"green\"])\n",
    "ax.set_xlim([-3, 3])\n",
    "ax.set_ylim([-3, 3])\n",
    "plt.title('System of equations (col_vector_1 = blue, col_vector_2 = red, col_vector_3 = green)')\n",
    "plt.xlabel('$1$', fontsize = 20)\n",
    "plt.ylabel('$2$', fontsize = 20)\n",
    "plt.grid()"
   ]
  },
  {
   "cell_type": "markdown",
   "metadata": {},
   "source": [
    "What if we were to multiply the red vector by 2 and then add it to the blue vector? Will we get the green vector? If we do, we will have found a solution."
   ]
  },
  {
   "cell_type": "code",
   "execution_count": 150,
   "metadata": {
    "scrolled": true
   },
   "outputs": [
    {
     "data": {
      "image/png": "[encoded data removed]",
      "text/plain": [
       "<Figure size 432x288 with 1 Axes>"
      ]
     },
     "metadata": {},
     "output_type": "display_data"
    }
   ],
   "source": [
    "# plot the transformed left hand side and standard right hand side vectors \n",
    "soa = np.array([[0, 0, 2, -1], [2, -1, -2, 4], [0, 0, 0, 3]])\n",
    "X, Y, U, V = zip(*soa)\n",
    "plt.figure()\n",
    "ax = plt.gca()\n",
    "ax.quiver(X, Y, U, V, angles='xy', scale_units='xy', scale=1, color = [\"blue\", \"red\", \"green\"])\n",
    "ax.set_xlim([-3, 3])\n",
    "ax.set_ylim([-3, 3])\n",
    "plt.title('System of equations (col_vector_1 = blue, col_vector_2 = red, col_vector_3 = green)')\n",
    "plt.xlabel('$1$', fontsize = 20)\n",
    "plt.ylabel('$2$', fontsize = 20)\n",
    "plt.grid()"
   ]
  },
  {
   "cell_type": "markdown",
   "metadata": {},
   "source": [
    "Recall vector addition from Lecture 7. The blue vector added to the transformed red vector is equal to the green vector. \n",
    "\n",
    "Therefore, we have arrived at the same solution as in the Row Picture - that is, $x = 1$ and $y = 2$"
   ]
  },
  {
   "cell_type": "markdown",
   "metadata": {},
   "source": [
    "### Example 3 (Matrix Picture):"
   ]
  },
  {
   "cell_type": "markdown",
   "metadata": {},
   "source": [
    "Recall the formulation of the Matrix Picture ($\\pmb A \\pmb x = \\pmb b$) and shown below. Our goal is to find the unknown $x$ vector that satisfies this equation. \n",
    "\\begin{equation}\n",
    "\\begin{bmatrix}\n",
    "    2 & -1\\\\\n",
    "    -1 & 2\n",
    "\\end{bmatrix}\n",
    "\\begin{bmatrix}\n",
    "    x\\\\\n",
    "    y\n",
    "\\end{bmatrix}\n",
    "=\n",
    "\\begin{bmatrix}\n",
    "    0\\\\\n",
    "    3\n",
    "\\end{bmatrix}\n",
    "\\end{equation}\n",
    "\n",
    "See section 8.3.3 to solve this equation in the Matrix Form"
   ]
  },
  {
   "cell_type": "markdown",
   "metadata": {},
   "source": [
    "### 8.3.3 Solving System of Linear Equations"
   ]
  },
  {
   "cell_type": "markdown",
   "metadata": {},
   "source": [
    "__Overview:__ \n",
    "- Below are some of the common ways of solving systems of linear equations:\n",
    "> 1. __Method 1:__ Graphically using the row and column pictures (see Section 8.3.2) \n",
    "> 2. __Method 2:__ Using substitution, elimination, or subtraction \n",
    "> 2. __Method 3:__ Using __[Gaussian Elimination](https://en.wikipedia.org/wiki/Gaussian_elimination)__ to achieve __[Row Echelon Form (REF)](https://en.wikipedia.org/wiki/Gaussian_elimination)__\n",
    ">> - Gaussian elimination uses matrix row operations (multiplication, addition, subtraction) to create an upper triangular matrix consisting of zeros on the lower triangle, ones along the main diagonal and possible non-zero values on the upper triangle which is considered the row echelon form of the original matrix \n",
    ">> - Gauss-Jordan elimintation performs the same matrix row operations as Gaussian elimination but achieves __Reduced Row Echelon Form__ by eliminating non-zero values in the upper triangle of the matrix \n",
    ">> - Following Gaussian Elimination to achieve row echelon form, back substitution is used to find values for the unknowns \n",
    "> 3. __Method 4:__ Using the inverse method if the matrix is invertible:\n",
    "<center> $\\pmb A \\pmb x = \\pmb b$ </center>\n",
    "Step 1: Multiply both sides by the inverse of A $\\Rightarrow$ $A^{-1}$\n",
    "<center> $\\pmb A^{-1} \\pmb A \\pmb x = \\pmb A^{-1} \\pmb b$ </center>\n",
    "Step 2: Use the fact that $\\pmb A^{-1} \\pmb A = I$\n",
    "<center> $\\pmb I \\pmb x = \\pmb A^{-1} \\pmb b$ </center> \n",
    "Step 3: Use the fact that $\\pmb I \\pmb x = \\pmb x$\n",
    "<center> $\\pmb x = \\pmb A^{-1} \\pmb b$ </center> \n",
    "> 3. __Method 5:__ Using NumPy and SciPy's built in matrix solve methods: [`scipy.linalg.inv`](https://docs.scipy.org/doc/scipy/reference/generated/scipy.linalg.solve.html#scipy.linalg.solve) and [`numpy.linalg.inv`](https://docs.scipy.org/doc/numpy-1.14.0/reference/routines.linalg.html)\n",
    "\n",
    "__Helpful Points:__\n",
    "1. In order to solve a system of $n$ equations, we must have $n$ unknowns \n",
    "2. There are 4 possible results for a system of equations:\n",
    "> a. __Solution 1:__ One unique, non-zero solution. For example, the RREF may look like:<br>\n",
    "\\begin{equation}\n",
    "\\begin{array}{ccc|c}  \n",
    " 1 & 0 & 0 & 2\\\\  \n",
    " 0 & 1 & 0 & -3\\\\\n",
    " 0 & 0 & 1 & -5\n",
    "\\end{array}\n",
    "\\end{equation}\n",
    "> b. __Solution 2:__ Infinitely many solutions (one equation is a linear combination of the other equation). For example, the RREF may look like:<br>\n",
    "\\begin{equation}\n",
    "\\begin{array}{cc|c}  \n",
    " 1 & -2 & 3\\\\  \n",
    " 0 & 0 & 0\\\\\n",
    "\\end{array}\n",
    "\\end{equation}\n",
    "> c. __Solution 3:__ One zero solution. For example, the RREF may look like<br>\n",
    "\\begin{equation}\n",
    "\\begin{array}{cc|c}  \n",
    " 0 & 5 & 0\\\\  \n",
    " 0 & 2 & 0\\\\\n",
    "\\end{array}\n",
    "\\end{equation}\n",
    "> d. __Solution 4:__ No solution (equations are parallel and have no intersection point). For example, the RREF may look like:<br>\n",
    "\\begin{equation}\n",
    "\\begin{array}{cc|c}  \n",
    " 1 & 2 & 3\\\\  \n",
    " 0 & 0 & 14\\\\\n",
    "\\end{array}\n",
    "\\end{equation}\n",
    "3. Recall in Lecture 7 when we were finding values for the variables $c_1$ and $c_2$ in linear combinations and linear span. In these examples the solution was given but you will know enough after this section to go back and solve these equations yourself\n",
    "\n",
    "__Practice:__ Examples of Solving System of Linear Equations in Python "
   ]
  },
  {
   "cell_type": "markdown",
   "metadata": {},
   "source": [
    "### Example 1 (Method 3):"
   ]
  },
  {
   "cell_type": "markdown",
   "metadata": {},
   "source": [
    "Let us solve the following system of linear equations:\n",
    "<center> $x + y + z = 3$ </center>\n",
    "<center> $x + 2y + 3z = 0$ </center>\n",
    "<center> $x + 3y + 4z = -2$ </center> "
   ]
  },
  {
   "cell_type": "markdown",
   "metadata": {},
   "source": [
    "We need to first convert the system of linear equations to the Matrix Form $\\pmb A \\pmb x = \\pmb b$ (see above section):\n",
    "\n",
    "The coefficient matrix:\n",
    "\n",
    "\\begin{equation}\n",
    "\\pmb A = \n",
    "\\begin{bmatrix}\n",
    "    1 & 1 & 1\\\\\n",
    "    1 & 2 & 3\\\\\n",
    "    1 & 3 & 4\n",
    "\\end{bmatrix}\n",
    "\\end{equation}\n",
    "\n",
    "The vector of unknowns:\n",
    "\n",
    "\\begin{equation}\n",
    "\\pmb x = \n",
    "\\begin{bmatrix}\n",
    "    x\\\\\n",
    "    y\\\\\n",
    "    z\n",
    "\\end{bmatrix}\n",
    "\\end{equation}\n",
    "\n",
    "The solution vector:\n",
    "\n",
    "\\begin{equation}\n",
    "\\pmb b = \n",
    "\\begin{bmatrix}\n",
    "    3\\\\\n",
    "    0\\\\\n",
    "    -2\n",
    "\\end{bmatrix}\n",
    "\\end{equation}\n",
    "\n",
    "Then, we can create the __[Augmented Matrix](https://en.wikipedia.org/wiki/Augmented_matrix)__ in the form of $\\pmb A \\vert \\pmb b$\n",
    "\n",
    "\\begin{equation}\n",
    "\\begin{array}{ccc|c}  \n",
    " 1 & 1 & 1 & 3\\\\  \n",
    " 1 & 2 & 3 & 0\\\\\n",
    " 1 & 3 & 4 & -2\n",
    "\\end{array}\n",
    "\\end{equation}\n",
    "\n",
    "Lastly, we can use matrix row operations to obtain reduced row echelon form (ones along the diagonal, zeros everywhere else except for the augmented portion)"
   ]
  },
  {
   "cell_type": "markdown",
   "metadata": {},
   "source": [
    "__Step 1:__ Re-write the first row and then ask the question - how can the element $A_{21}$ go to 0? How about subtracting the first row from the second row - $R_2 - R_1$:\n",
    "\n",
    "\\begin{equation}\n",
    "\\begin{array}{ccc|c}  \n",
    " 1 & 1 & 1 & 3\\\\  \n",
    " R_2 - R_1\\\\ 0 & 1 & 2 & -3\\\\\n",
    " 1 & 3 & 4 & -2\n",
    "\\end{array}\n",
    "\\end{equation}"
   ]
  },
  {
   "cell_type": "markdown",
   "metadata": {},
   "source": [
    "__Step 2:__ Re-write the first and second row and then ask the question - how can the element $A_{31}$ go to 0? How about subtracting the first row from the third row - $R_3 - R_1$:\n",
    "\n",
    "\\begin{equation}\n",
    "\\begin{array}{ccc|c}  \n",
    " 1 & 1 & 1 & 3\\\\  \n",
    " 0 & 1 & 2 & -3\\\\\n",
    " R_3 - R_1\\\\ 0 & 2 & 3 & -5\n",
    "\\end{array}\n",
    "\\end{equation}"
   ]
  },
  {
   "cell_type": "markdown",
   "metadata": {},
   "source": [
    "__Step 3:__ Re-write the second and the third row and then ask the question - How can the element $A_{12}$ go to 0? How about subtracting the second row from the first row - $R_1 - R_2$:\n",
    "\n",
    "\\begin{equation}\n",
    "\\begin{array}{ccc|c}  \n",
    " R_1 - R_2\\\\ 1 & 0 & -1 & 6\\\\  \n",
    " 0 & 1 & 2 & -3\\\\\n",
    " 0 & 2 & 3 & -5\n",
    "\\end{array}\n",
    "\\end{equation}"
   ]
  },
  {
   "cell_type": "markdown",
   "metadata": {},
   "source": [
    "__Step 4:__ Re-write the first and second row and then ask the queestion - How can the element $A_{32}$ go to 0? How about subtracting the third row from 2 times the second row - $2R_2 - R_3$:\n",
    "\n",
    "\\begin{equation}\n",
    "\\begin{array}{ccc|c}  \n",
    " 1 & 0 & -1 & 6\\\\  \n",
    " 0 & 1 & 2 & -3\\\\\n",
    " 2R_2-R_3\\\\ 0 & 0 & 1 & -1\n",
    "\\end{array}\n",
    "\\end{equation}"
   ]
  },
  {
   "cell_type": "markdown",
   "metadata": {},
   "source": [
    "__Step 5:__ Re-write the second and third row and then ask the queestion - How can the element $A_{13}$ go to 0? How about adding the third row to the first row - $R_1 + R_3$:\n",
    "\n",
    "\\begin{equation}\n",
    "\\begin{array}{ccc|c}  \n",
    " R_1+R_3\\\\ 1 & 0 & 0 & 5\\\\  \n",
    " 0 & 1 & 2 & -3\\\\\n",
    " 0 & 0 & 1 & -1\n",
    "\\end{array}\n",
    "\\end{equation}"
   ]
  },
  {
   "cell_type": "markdown",
   "metadata": {},
   "source": [
    "__Step 6:__ Re-write the first and the third row and then ask the queestion - How can the element $A_{23}$ go to 0? How about subtracting 2 times the third row from the second row - $R_2 - 2R_3$:\n",
    "\n",
    "\\begin{equation}\n",
    "\\begin{array}{ccc|c}  \n",
    " 1 & 0 & 0 & 5\\\\  \n",
    " R_2 - 2R_3\\\\0 & 1 & 0 & -1\\\\\n",
    " 0 & 0 & 1 & -1\n",
    "\\end{array}\n",
    "\\end{equation}"
   ]
  },
  {
   "cell_type": "markdown",
   "metadata": {},
   "source": [
    "We now have obtained the __Reduced Row Echelon Form__ of the matrix $\\pmb A$. Technically, we only needed the lower triangle of zeros to obtain __Row Echelon Form__, but the reduced version makes it abundantly clear and exceptionally easy to discern unknown values for $x$, $y$, and $z$:\n",
    "\n",
    "<center> $1x + 0y + 0z = 5$ </center>\n",
    "<center> $0x + 1y + 0z = -1$ </center>\n",
    "<center> $0x + 0y + 1z = -1$ </center>\n",
    "\n",
    "Therefore, $x = 5$, $y = -1$, and $z = -1$. We can test this is the correct solution by plugging these values back into the system of equations: \n",
    "\n",
    "<center> $1(5) + 0y + 0z = 5$ </center>\n",
    "<center> $0x + 1(-1) + 0z = -1$ </center>\n",
    "<center> $0x + 0y + 1(-1) = -1$ </center>"
   ]
  },
  {
   "cell_type": "markdown",
   "metadata": {},
   "source": [
    "### Example 2 (Method 4):"
   ]
  },
  {
   "cell_type": "code",
   "execution_count": 151,
   "metadata": {},
   "outputs": [
    {
     "name": "stdout",
     "output_type": "stream",
     "text": [
      "[[1 1 1]\n",
      " [1 2 3]\n",
      " [1 3 4]]\n",
      "[ 3  0 -2]\n"
     ]
    }
   ],
   "source": [
    "A = np.array([[1,1,1],[1,2,3],[1,3,4]])\n",
    "b = np.array([3,0,-2])\n",
    "print(A)\n",
    "print(b)"
   ]
  },
  {
   "cell_type": "code",
   "execution_count": 152,
   "metadata": {},
   "outputs": [
    {
     "name": "stdout",
     "output_type": "stream",
     "text": [
      "[[ 1.  1. -1.]\n",
      " [ 1. -3.  2.]\n",
      " [-1.  2. -1.]]\n"
     ]
    }
   ],
   "source": [
    "A_inv = np.linalg.inv(A)\n",
    "print(A_inv)"
   ]
  },
  {
   "cell_type": "code",
   "execution_count": 153,
   "metadata": {},
   "outputs": [
    {
     "data": {
      "text/plain": [
       "array([ 5., -1., -1.])"
      ]
     },
     "execution_count": 153,
     "metadata": {},
     "output_type": "execute_result"
    }
   ],
   "source": [
    "np.dot(A_inv, b)"
   ]
  },
  {
   "cell_type": "markdown",
   "metadata": {},
   "source": [
    "We obtain the same solution in Method 4 as was obtained in Method 3."
   ]
  },
  {
   "cell_type": "markdown",
   "metadata": {},
   "source": [
    "### Example 3 (Method 5):"
   ]
  },
  {
   "cell_type": "code",
   "execution_count": 154,
   "metadata": {},
   "outputs": [
    {
     "data": {
      "text/plain": [
       "array([ 5., -1., -1.])"
      ]
     },
     "execution_count": 154,
     "metadata": {},
     "output_type": "execute_result"
    }
   ],
   "source": [
    "linalg.solve(A, b) # using scipy "
   ]
  },
  {
   "cell_type": "code",
   "execution_count": 155,
   "metadata": {},
   "outputs": [
    {
     "data": {
      "text/plain": [
       "array([ 5., -1., -1.])"
      ]
     },
     "execution_count": 155,
     "metadata": {},
     "output_type": "execute_result"
    }
   ],
   "source": [
    "np.linalg.solve(A, b) # using numpy"
   ]
  },
  {
   "cell_type": "markdown",
   "metadata": {},
   "source": [
    "We obtained the same solution in Method 5 as was obtained Method 3 and 4."
   ]
  },
  {
   "cell_type": "markdown",
   "metadata": {},
   "source": [
    "### Example 4 (Using RREF to find a Matrix Inverse for an Invertible Matrix):\n",
    "\n",
    "As promised, it is possible to find the inverse of a matrix using Gaussian elimination and the Reduced Row Echelon Form:\n",
    "\n",
    "If \n",
    "\\begin{equation}\n",
    "\\pmb A = \n",
    "\\begin{bmatrix}\n",
    "    A_{11} & A_{12} & A_{13}\\\\\n",
    "    A_{21} & A_{22} & A_{23}\\\\\n",
    "    A_{31} & A_{32} & A_{33}\n",
    "\\end{bmatrix}\n",
    "\\end{equation}\n",
    "\n",
    "Then, the augmented matrix is \n",
    "\\begin{equation}\n",
    "\\begin{array}{ccc|ccc}  \n",
    "    A_{11} & A_{12} & A_{13} & 1 & 0 & 0\\\\\n",
    "    A_{21} & A_{22} & A_{23} & 0 & 1 & 0\\\\\n",
    "    A_{31} & A_{32} & A_{33} & 0 & 0 & 1\n",
    "\\end{array}\n",
    "\\end{equation}\n",
    "\n",
    "By performing Gaussian Elimination on the above Augmented Matrix and achieving RREF in the matrix to the left, the matrix to the right will become the inverse matrix. \n",
    "\n",
    "For example, \n",
    "\n",
    "If \n",
    "\\begin{equation}\n",
    "\\pmb A = \n",
    "\\begin{bmatrix}\n",
    "    2 & 1 & 1\\\\\n",
    "    3 & 2 & 1\\\\\n",
    "    2 & 1 & 2\n",
    "\\end{bmatrix}\n",
    "\\end{equation}\n",
    "\n",
    "Then, the augmented matrix becomes: \n",
    "\\begin{equation}\n",
    "\\begin{array}{ccc|ccc}  \n",
    "    2 & 1 & 1 & 1 & 0 & 0\\\\\n",
    "    3 & 2 & 1 & 0 & 1 & 0\\\\\n",
    "    2 & 1 & 2 & 0 & 0 & 1\n",
    "\\end{array}\n",
    "\\end{equation}    \n",
    "\n",
    "After obtaining RREF on the left matrix, we are left with the inverse matrix on the right: \n",
    "\\begin{equation}\n",
    "\\begin{array}{ccc|ccc}  \n",
    "    1 & 0 & 0 & 3 & -1 & -1\\\\\n",
    "    0 & 1 & 0 & -4 & 2 & 1\\\\\n",
    "    0 & 0 & 1 & -1 & 0 & 1\n",
    "\\end{array}\n",
    "\\end{equation}\n",
    "\n",
    "Verify this below:"
   ]
  },
  {
   "cell_type": "code",
   "execution_count": 156,
   "metadata": {},
   "outputs": [
    {
     "name": "stdout",
     "output_type": "stream",
     "text": [
      "[[2 1 1]\n",
      " [3 2 1]\n",
      " [2 1 2]]\n"
     ]
    }
   ],
   "source": [
    "A = np.array([[2,1,1],[3,2,1],[2,1,2]])\n",
    "print(A)"
   ]
  },
  {
   "cell_type": "code",
   "execution_count": 157,
   "metadata": {},
   "outputs": [
    {
     "data": {
      "text/plain": [
       "array([[ 3., -1., -1.],\n",
       "       [-4.,  2.,  1.],\n",
       "       [-1.,  0.,  1.]])"
      ]
     },
     "execution_count": 157,
     "metadata": {},
     "output_type": "execute_result"
    }
   ],
   "source": [
    "linalg.inv(A) # using scipy "
   ]
  },
  {
   "cell_type": "code",
   "execution_count": 158,
   "metadata": {},
   "outputs": [
    {
     "data": {
      "text/plain": [
       "array([[ 3., -1., -1.],\n",
       "       [-4.,  2.,  1.],\n",
       "       [-1.,  0.,  1.]])"
      ]
     },
     "execution_count": 158,
     "metadata": {},
     "output_type": "execute_result"
    }
   ],
   "source": [
    "np.linalg.inv(A) # using numpy "
   ]
  },
  {
   "cell_type": "markdown",
   "metadata": {},
   "source": [
    "### Problem 5\n",
    "\n",
    "For the following matrix \n",
    "\n",
    "\\begin{equation}\n",
    "\\pmb A = \n",
    "\\begin{bmatrix}\n",
    "    1 & 2 & 1\\\\\n",
    "    2 & 2 & 2\\\\\n",
    "    1 & 0 & 1\n",
    "\\end{bmatrix}\n",
    "\\end{equation}\n",
    "\n",
    "Manually find the reduced row echelon form"
   ]
  },
  {
   "cell_type": "code",
   "execution_count": null,
   "metadata": {},
   "outputs": [],
   "source": [
    "# write your code here \n",
    "\n",
    "\n",
    "\n"
   ]
  },
  {
   "cell_type": "markdown",
   "metadata": {},
   "source": [
    "## 8.4 Fundamental Vector Spaces"
   ]
  },
  {
   "cell_type": "markdown",
   "metadata": {},
   "source": [
    "### 8.4.1 Null Space:"
   ]
  },
  {
   "cell_type": "markdown",
   "metadata": {},
   "source": [
    "__Overview:__ \n",
    "- The first \"interesting\"/\"fundamental\" vector space associated with any matrix $\\pmb A$ is the Null Space\n",
    "- __Null Space:__ The Null Space of a matrix $\\pmb A \\in \\mathbb R^{m x n}$ consists of all the vectors that when multiplied with the matrix $\\pmb A$ equal 0. In other words, it is a subspace that consists of all the possible solutions to the homogeneous equation $\\pmb A \\pmb x = \\pmb 0$:<br>\n",
    "\n",
    "<center> $N(A) = \\{\\pmb x \\in \\pmb R^n \\mid \\pmb A \\pmb x = \\pmb 0\\}$ </center>\n",
    ">> - If the column vectors in matrix $\\pmb A$ are linearly independent, the only solution to $\\pmb A \\pmb x = \\pmb 0$ is the trivial solution ($\\pmb x = \\pmb 0$) and therefore the Nullspace of A only contains the zero vector. This is due to the definition of linear independence (see Lecture 7)\n",
    ">> - If the column vectors in matrix $\\pmb A$ are linearly dependent, there exists another solution to $\\pmb A \\pmb x = \\pmb 0$ other than the trivial solution ($\\pmb x = \\pmb 0$) and therefore the Nullspace of A contains additional vectors other than the zero vector. This is due to the definition of linear dependence (see Lecture 7)\n",
    "\n",
    "__Helpful Points:__ \n",
    "1. To find the Null Space of a matrix, solve the equation $\\pmb A \\pmb x = \\pmb 0$ using the Gaussian Elimination and RREF method we saw in section 8.3.3\n",
    "2. In order for the solution set of vectors to the equation $\\pmb A \\pmb x = \\pmb 0$ to form a subspace, it must satisfy the conditions outlined in Lecture 7 (contain the zero vector, closed under multiplication and addition)\n",
    "\n",
    "__Practice:__ Examples of Null Space in Python "
   ]
  },
  {
   "cell_type": "markdown",
   "metadata": {},
   "source": [
    "### Example 1 (Find Null Space):"
   ]
  },
  {
   "cell_type": "markdown",
   "metadata": {},
   "source": [
    "If we want to find the Null Space of the matrix $\\pmb A$, we have to solve the following equation \n",
    "\n",
    "\\begin{equation}\n",
    "\\pmb A = \n",
    "\\begin{bmatrix}\n",
    "    2 & 1 & 1\\\\\n",
    "    1 & 2 & 3\\\\\n",
    "    4 & 3 & 2\n",
    "\\end{bmatrix}\n",
    "\\begin{bmatrix}\n",
    "    x_1\\\\\n",
    "    x_2\\\\\n",
    "    x_3\n",
    "\\end{bmatrix}\n",
    "= \n",
    "\\begin{bmatrix}\n",
    "    0\\\\\n",
    "    0\\\\\n",
    "    0\n",
    "\\end{bmatrix}\n",
    "\\end{equation}\n",
    "\n",
    "Since $\\pmb x \\in \\mathbb R^3$, $N(A) = \\{\\pmb x \\in \\mathbb R^3 \\mid \\pmb A \\pmb x = \\pmb 0\\}$\n",
    "\n",
    "Which is the same as \n",
    "<center> $2x_1 + x_2 + x_3 = 0$ </center>\n",
    "<center> $x_1 + 2x_2 + 3x_3 = 0$ </center>\n",
    "<center> $4x_1 + 3x_2 + 2x_3 = 0$ </center>\n",
    "\n",
    "We now know how to solve this system of equations used the Augmented Matrix:\n",
    "\n",
    "\\begin{equation}\n",
    "\\begin{array}{ccc|c}  \n",
    "    2 & 1 & 1 & 0\\\\\n",
    "    1 & 2 & 3 & 0\\\\\n",
    "    4 & 3 & 2 & 0\n",
    "\\end{array}\n",
    "\\end{equation}  "
   ]
  },
  {
   "cell_type": "code",
   "execution_count": null,
   "metadata": {},
   "outputs": [],
   "source": [
    "A = np.array([[2,1,1],[1,2,3],[4,3,2]])\n",
    "zero = np.zeros(3)\n",
    "print(A)\n",
    "print(zero)"
   ]
  },
  {
   "cell_type": "code",
   "execution_count": null,
   "metadata": {},
   "outputs": [],
   "source": [
    "A_inv = linalg.inv(A)\n",
    "print(A_inv)"
   ]
  },
  {
   "cell_type": "code",
   "execution_count": null,
   "metadata": {},
   "outputs": [],
   "source": [
    "linalg.solve(A, zero) "
   ]
  },
  {
   "cell_type": "markdown",
   "metadata": {},
   "source": [
    "The zero vector is the only vector inside the Null Space of $\\pmb A$"
   ]
  },
  {
   "cell_type": "markdown",
   "metadata": {},
   "source": [
    "### 8.4.2 Column Space:"
   ]
  },
  {
   "cell_type": "markdown",
   "metadata": {},
   "source": [
    "__Overview:__ \n",
    "- The second \"interesting\"/\"fundamental\" vector space associated with any matrix $\\pmb A$ is the Column Space\n",
    "- __Column Space:__ The Column Space of a matrix $\\pmb A \\in \\mathbb R^{m x n}$ consists of all the vectors that can be produced as linear combinations of the columns of the matrix $\\pmb A$:\n",
    "<center> $C(A) = \\{\\pmb b \\in \\mathbb R^m \\mid \\pmb b = \\pmb A \\pmb x$ for some $\\pmb x \\in \\mathbb R^n\\}$ </center>\n",
    ">> - This formulation should make sense since we know the matrix-vector product is simply the multiplication of each column vector by the associated element of the vector:\n",
    "\\begin{equation}\n",
    "\\begin{bmatrix}\n",
    "    \\pmb A_1 & \\pmb A_2 & \\pmb A_3 & \\dots & \\pmb A_n\n",
    "\\end{bmatrix}\n",
    "\\begin{bmatrix}\n",
    "    x_1 \\\\\n",
    "    x_2 \\\\\n",
    "    x_3 \\\\\n",
    "    \\vdots \\\\\n",
    "    x_n\n",
    "\\end{bmatrix}\n",
    "=\n",
    "\\begin{bmatrix}\n",
    "    x_1\\pmb A_1 + x_2\\pmb A_2 + x_3\\pmb A_3 + \\dots + x_n\\pmb A_n\n",
    "\\end{bmatrix}\n",
    "=\n",
    "\\pmb b\n",
    "\\end{equation}\n",
    "<br>\n",
    ">> - It is now intuitive to think of the solutions to our famous matrix equation $\\pmb A \\pmb x = \\pmb b$ in terms of the column space of A. This equation will only have a solution if $\\pmb b$ can be written as a linear combination of the column vectors in $\\pmb A$, or we can say, this equation will only have a solution if $\\pmb b$ is in the Column Space of $\\pmb A$\n",
    "\n",
    "__Helpful Points:__ \n",
    "1. Since the Column Space contains all the linear combinations of the column vectors of a matrix, we can also say that the Column Space is equal to the span of the column vectors: $C(A) = \\langle S \\rangle$ of the column vectors\n",
    "2. To ensure the matrix-vector product is feasible, $\\pmb b$ must have $m$ components and $\\in \\mathbb R^m$, whereas $\\pmb x$ must have $n$ components and $\\in \\mathbb R^n$\n",
    "3. In summary,\n",
    "> - $\\pmb A \\pmb x = \\pmb b$ has a solution if and only if $\\pmb b \\in C(A)$\n",
    "> - $\\pmb A \\pmb x = \\pmb b$ has no solution if and only if $\\pmb b \\notin C(A)$\n",
    "4. The column vectors only form a basis of the Column Space if they are linearly independent. Also, if the column vectors are linearly independent, then the Null Space only contains the zero vector. In other words, if the Nulll Space contains more than just the zero vector, the column vectors do not form a basis for the Column Space. Once identifying the basis for the Column Space, we can easily describe the dimension of this space as simply the number of basis vectors\n",
    "\n",
    "__Practice:__ Examples of Column Space in Python "
   ]
  },
  {
   "cell_type": "markdown",
   "metadata": {},
   "source": [
    "### Example 1 (b is in the Column Space of A):"
   ]
  },
  {
   "cell_type": "markdown",
   "metadata": {},
   "source": [
    "\\begin{equation}\n",
    "\\begin{array}{cc|c}  \n",
    "    1 & 2 & -2\\\\\n",
    "    -2 & -4 & -12\\\\\n",
    "\\end{array}\n",
    "\\end{equation}  "
   ]
  },
  {
   "cell_type": "code",
   "execution_count": null,
   "metadata": {},
   "outputs": [],
   "source": [
    "A = np.array([[1,2],[2,-4]])\n",
    "b = np.array([2,-12])\n",
    "print(A)\n",
    "print(b)"
   ]
  },
  {
   "cell_type": "code",
   "execution_count": null,
   "metadata": {
    "scrolled": true
   },
   "outputs": [],
   "source": [
    "np.linalg.solve(A, b)"
   ]
  },
  {
   "cell_type": "markdown",
   "metadata": {},
   "source": [
    "The Column Space of A contains all the linear combination of the vectors $[1,-2]^T$ and $[2,-4]^T$ and clearly there exists a set of coefficients $x_1=-2$ and $x_2=2$ to produce the vector $[-2,12]$. Therefore, this vector $\\pmb b$ is in the Column Space of A. "
   ]
  },
  {
   "cell_type": "markdown",
   "metadata": {},
   "source": [
    "### Example 2 (b is not in the Column Space of A):"
   ]
  },
  {
   "cell_type": "markdown",
   "metadata": {},
   "source": [
    "\\begin{equation}\n",
    "\\begin{array}{cc|c}  \n",
    "    1 & 2 & 3\\\\\n",
    "    -2 & -4 & 8\\\\\n",
    "\\end{array}\n",
    "\\end{equation}  "
   ]
  },
  {
   "cell_type": "code",
   "execution_count": null,
   "metadata": {},
   "outputs": [],
   "source": [
    "A = np.array([[1,2],[-2,-4]])\n",
    "b = np.array([3,8])\n",
    "print(A)\n",
    "print(b)"
   ]
  },
  {
   "cell_type": "code",
   "execution_count": null,
   "metadata": {
    "scrolled": true
   },
   "outputs": [],
   "source": [
    "np.linalg.solve(A, b)"
   ]
  },
  {
   "cell_type": "markdown",
   "metadata": {},
   "source": [
    "The Column Space of A contains all the linear combination of the vectors $[1,-2]^T$ and $[2,-4]^T$ and clearly there does not exist any set of coefficients $x_1$ and $x_2$ to produce the vector $[3,8]$. Therefore, this vector $\\pmb b$ is not in the Column Space of A. "
   ]
  },
  {
   "cell_type": "markdown",
   "metadata": {},
   "source": [
    "### Example 3 (Finding Basis and Dimension of the Column Space):"
   ]
  },
  {
   "cell_type": "markdown",
   "metadata": {},
   "source": [
    "It turns out that by performing Gaussian Elimination on a matrix to obtain RREF, the result will provide insight into the basis and dimension of the Column Space. Let's see this below: "
   ]
  },
  {
   "cell_type": "markdown",
   "metadata": {},
   "source": [
    "If \n",
    "\\begin{equation}\n",
    "\\pmb A = \n",
    "\\begin{bmatrix}\n",
    "    1 & 0 & -1 & 0 & 4\\\\\n",
    "    2 & 1 & 0 & 0 & 9\\\\\n",
    "    -1 & 2 & 5 & 1 & -5\\\\\n",
    "    1 & -1 & -3 & -2 & 9\\\\\n",
    "\\end{bmatrix}\n",
    "\\end{equation}\n",
    "\n",
    "and we want to find the basis for the Column Space of A, we can begin by obtaining RREF of the matrix $\\pmb A$:\n",
    "\n",
    "\\begin{equation}\n",
    "\\pmb R = rref(A) = \n",
    "\\begin{bmatrix}\n",
    "    1 & 0 & -1 & 0 & 4\\\\\n",
    "    0 & 1 & 2 & 0 & 1\\\\\n",
    "    0 & 0 & 0 & 1 & -3\\\\\n",
    "    0 & 0 & 0 & 0 & 0\\\\\n",
    "\\end{bmatrix}\n",
    "\\end{equation}"
   ]
  },
  {
   "cell_type": "markdown",
   "metadata": {},
   "source": [
    "The first, second, and fourth column are called __Pivot Columns__ since they have all non-zero entries with the except of the 1 entry. The three Pivot Columns are obviously linearly independent and by extension, it can also be proven that the associated columns in matrix $\\pmb A$ are also linearly independent and span the Column Space. Therefore, the third and fifth column are \"extra\" columns and do not belong in the basis of the Column Space of A. \n",
    "\n",
    "In summary, to find the basis of the Column Space of A, obtain the RREF and find the Pivot Columns. The associated columns in the original matrix form the basis of the Column Space of A. Therefore, the dimension of this Column Space or the __Rank__ of the matrix $\\pmb A$ is the number of basis vectors in the Column Space of A or the number of linearly independent vectors in the Column Space of $\\pmb A$ or 3. "
   ]
  },
  {
   "cell_type": "markdown",
   "metadata": {},
   "source": [
    "## 8.5 Eigenvectors and Eigenvalues:"
   ]
  },
  {
   "cell_type": "markdown",
   "metadata": {},
   "source": [
    "### 8.5.1 What are Eigenvectors and Eigenvalues? "
   ]
  },
  {
   "cell_type": "markdown",
   "metadata": {},
   "source": [
    "__Overview:__ \n",
    "- __[Eigenvectors](https://en.wikipedia.org/wiki/Eigenvalues_and_eigenvectors):__ Eigenvectors are special vectors associated with a matrix that when multiplied by a matrix, produce the same vector but scaled by a factor (equal to the eigenvalue)\n",
    "- __Eigenvalues:__ Eigenvalues are special numbers associated with a matrix that contribute the \"scaling\" of the eigenvector that enables the matrix-eigenvector product to be equal to the scaled version of the same eigenvector \n",
    "- Recall how matrices act as functions in linear transformation. In some special cases, the ouput of a linear transformation of a vector is the same vector as the input, but scaled by a factor \n",
    "- The gerneral formula is:\n",
    "<center> $\\pmb A \\pmb x = \\lambda \\pmb x$ </center> \n",
    "<center> where $\\pmb x$ is the Eigenvector and $\\lambda$ is the Eigenvalue </center> \n",
    "\n",
    "__Helpful Points:__\n",
    "1. Each Eigenvector corresponds to an Eigenvalue \n",
    "2. An $n$ $x$ $n$ matrix will have $n$ Eigenvalues \n",
    "\n",
    "__Practice:__ Examples of Eigenvectors and Eigenvalues "
   ]
  },
  {
   "cell_type": "markdown",
   "metadata": {},
   "source": [
    "### Example 1 (Visualizing Eigenvectors and Eigenvalues):"
   ]
  },
  {
   "cell_type": "code",
   "execution_count": 159,
   "metadata": {
    "scrolled": true
   },
   "outputs": [
    {
     "name": "stdout",
     "output_type": "stream",
     "text": [
      "[[3 1]\n",
      " [1 3]]\n"
     ]
    }
   ],
   "source": [
    "A = np.array([[3,1],[1,3]])\n",
    "print(A)"
   ]
  },
  {
   "cell_type": "markdown",
   "metadata": {},
   "source": [
    "Do any \"special vectors\" exist such that the linear transformation of the vector is in the same direction as the input vector? Let us try to find out:"
   ]
  },
  {
   "cell_type": "markdown",
   "metadata": {},
   "source": [
    "### Test 1: "
   ]
  },
  {
   "cell_type": "code",
   "execution_count": 160,
   "metadata": {},
   "outputs": [],
   "source": [
    "x = np.array([1,2])"
   ]
  },
  {
   "cell_type": "code",
   "execution_count": 161,
   "metadata": {
    "scrolled": true
   },
   "outputs": [
    {
     "data": {
      "text/plain": [
       "array([5, 7])"
      ]
     },
     "execution_count": 161,
     "metadata": {},
     "output_type": "execute_result"
    }
   ],
   "source": [
    "y = np.dot(A, x)\n",
    "y"
   ]
  },
  {
   "cell_type": "markdown",
   "metadata": {},
   "source": [
    "In order for the vector $\\pmb x = [1,2]^T$ to be an eigenvector for the matrix $\\pmb A$, the output of $\\pmb A \\pmb x$ (denoted as $\\pmb y$), must be in the same direction as the input. Let us check if $\\pmb y$ is in the same direction as $\\pmb x$:"
   ]
  },
  {
   "cell_type": "code",
   "execution_count": 162,
   "metadata": {
    "scrolled": true
   },
   "outputs": [
    {
     "data": {
      "image/png": "[encoded data removed]",
      "text/plain": [
       "<Figure size 432x288 with 1 Axes>"
      ]
     },
     "metadata": {},
     "output_type": "display_data"
    }
   ],
   "source": [
    "soa = np.array([[0, 0, 1, 2], [0, 0, 5, 7]])\n",
    "X, Y, U, V = zip(*soa)\n",
    "plt.figure()\n",
    "ax = plt.gca()\n",
    "ax.quiver(X, Y, U, V, angles='xy', scale_units='xy', scale=1, color = [\"blue\", \"red\"])\n",
    "ax.set_xlim([0, 10])\n",
    "ax.set_ylim([0, 10])\n",
    "plt.title('Eigenvectors and Eigenvalues (Input (x) = blue, Output (y) = red)')\n",
    "plt.xlabel('$1$', fontsize = 20)\n",
    "plt.ylabel('$2$', fontsize = 20)\n",
    "plt.grid()"
   ]
  },
  {
   "cell_type": "markdown",
   "metadata": {},
   "source": [
    "It doesn't appear that $\\pmb y$ is in the same direction as $\\pmb x$, therefore $\\pmb x$ is not an Eigenvector for the matrix $\\pmb A$."
   ]
  },
  {
   "cell_type": "markdown",
   "metadata": {},
   "source": [
    "### Test 2: "
   ]
  },
  {
   "cell_type": "code",
   "execution_count": 163,
   "metadata": {},
   "outputs": [],
   "source": [
    "x_1 = np.array([1,1])"
   ]
  },
  {
   "cell_type": "code",
   "execution_count": 164,
   "metadata": {
    "scrolled": true
   },
   "outputs": [
    {
     "data": {
      "text/plain": [
       "array([4, 4])"
      ]
     },
     "execution_count": 164,
     "metadata": {},
     "output_type": "execute_result"
    }
   ],
   "source": [
    "y = np.dot(A, x_1)\n",
    "y"
   ]
  },
  {
   "cell_type": "markdown",
   "metadata": {},
   "source": [
    "In order for the vector $\\pmb x_1 = [1,1]^T$ to be an eigenvector for the matrix $\\pmb A$, the output of $\\pmb A \\pmb x_1$ (denoted as $\\pmb y$), must be in the same direction as the input. Let us check if $\\pmb y$ is in the same direction as $\\pmb x_1$:"
   ]
  },
  {
   "cell_type": "code",
   "execution_count": 165,
   "metadata": {
    "scrolled": true
   },
   "outputs": [
    {
     "data": {
      "image/png": "[encoded data removed]",
      "text/plain": [
       "<Figure size 432x288 with 1 Axes>"
      ]
     },
     "metadata": {},
     "output_type": "display_data"
    }
   ],
   "source": [
    "soa = np.array([[0, 0, 1, 1], [0, 0, 4, 4]])\n",
    "X, Y, U, V = zip(*soa)\n",
    "plt.figure()\n",
    "ax = plt.gca()\n",
    "ax.quiver(X, Y, U, V, angles='xy', scale_units='xy', scale=1, color = [\"blue\", \"red\"])\n",
    "ax.set_xlim([0, 10])\n",
    "ax.set_ylim([0, 10])\n",
    "plt.title('Eigenvectors and Eigenvalues (Input (x_1) = blue, Output (y) = red)')\n",
    "plt.xlabel('$1$', fontsize = 20)\n",
    "plt.ylabel('$2$', fontsize = 20)\n",
    "plt.grid()"
   ]
  },
  {
   "cell_type": "markdown",
   "metadata": {},
   "source": [
    "It appears that $\\pmb y$ is in the same direction as $\\pmb x_1$, therefore $\\pmb x_1$ is an Eigenvector for the matrix $\\pmb A$. To calculate the Eigenvector $\\pmb x_1$ corresponding Eigenvalue, we simply need to calculate the factor that the input vector $\\pmb x_1$ was stretched by to produce the output vector $\\pmb y$. The stretch factor is clearly 4, so the eigenvalue for the eigenvector $\\pmb x_1$ is 4.\n",
    "\n",
    "However, the matrix $\\pmb A$ is $2$ $x$ $2$ and therefore has 2 Eigenvectors. Can you guess the other one? "
   ]
  },
  {
   "cell_type": "markdown",
   "metadata": {},
   "source": [
    "### Test 3: "
   ]
  },
  {
   "cell_type": "code",
   "execution_count": 166,
   "metadata": {},
   "outputs": [],
   "source": [
    "x_2 = np.array([-1,1])"
   ]
  },
  {
   "cell_type": "code",
   "execution_count": 167,
   "metadata": {
    "scrolled": true
   },
   "outputs": [
    {
     "data": {
      "text/plain": [
       "array([-2,  2])"
      ]
     },
     "execution_count": 167,
     "metadata": {},
     "output_type": "execute_result"
    }
   ],
   "source": [
    "y = np.dot(A, x_2)\n",
    "y"
   ]
  },
  {
   "cell_type": "markdown",
   "metadata": {},
   "source": [
    "In order for the vector $\\pmb x_2 = [-1,1]^T$ to be an eigenvector for the matrix $\\pmb A$, the output of $\\pmb A \\pmb x_2$ (denoted as $\\pmb y$), must be in the same direction as the input. Let us check if $\\pmb x_2$ is in the same direction as $\\pmb y$:"
   ]
  },
  {
   "cell_type": "code",
   "execution_count": 168,
   "metadata": {
    "scrolled": true
   },
   "outputs": [
    {
     "data": {
      "image/png": "[encoded data removed]",
      "text/plain": [
       "<Figure size 432x288 with 1 Axes>"
      ]
     },
     "metadata": {},
     "output_type": "display_data"
    }
   ],
   "source": [
    "soa = np.array([[0, 0, -1, 1], [0, 0, -2, 2]])\n",
    "X, Y, U, V = zip(*soa)\n",
    "plt.figure()\n",
    "ax = plt.gca()\n",
    "ax.quiver(X, Y, U, V, angles='xy', scale_units='xy', scale=1, color = [\"blue\", \"red\"])\n",
    "ax.set_xlim([-5, 5])\n",
    "ax.set_ylim([-5, 5])\n",
    "plt.title('Eigenvectors and Eigenvalues (Input (x_2) = blue, Output (y) = red)')\n",
    "plt.xlabel('$1$', fontsize = 20)\n",
    "plt.ylabel('$2$', fontsize = 20)\n",
    "plt.grid()"
   ]
  },
  {
   "cell_type": "markdown",
   "metadata": {},
   "source": [
    "It appears that $\\pmb y$ is in the same direction as $\\pmb x_2$, therefore $\\pmb x_2$ is another Eigenvector for the matrix $\\pmb A$. To calculate the Eigenvector $\\pmb x_2$ corresponding Eigenvalue, we simply need to calculate the factor that the input vector $\\pmb x_2$ was stretched by to produce the output vector $\\pmb y$. The stretch factor is clearly -2, so the eigenvalue for the eigenvector $\\pmb x_2$ is -2"
   ]
  },
  {
   "cell_type": "markdown",
   "metadata": {},
   "source": [
    "### 8.5.2 Calculating Eigenvectors and Eigenvalues:"
   ]
  },
  {
   "cell_type": "markdown",
   "metadata": {},
   "source": [
    "__Overview:__ \n",
    "- There exists a more systematic way of calculating Eigenvectors and Eigenvalues than the \"guess and check\" approach attempted above in Section 8.5.1\n",
    "- We know there are 2 unknowns in the equation $\\pmb A \\pmb x = \\lambda \\pmb x$, specifically $\\lambda$ and $\\pmb x$\n",
    "- There are 2 ways to calculate Eigenvectors and Eigenvalues of the matrix $\\pmb A$:\n",
    "> /1. __Method 1:__ Using the algorithm as outlined below:\n",
    "\n",
    ">> __Step 1:__ Rearrange the equation $\\pmb A \\pmb x = \\lambda \\pmb x$:\n",
    "<center> $\\pmb A \\pmb x - \\lambda \\pmb x = 0$ </center> \n",
    ">> __Step 2:__ Factor out the x:\n",
    "<center> $(\\pmb A - \\lambda \\pmb I)\\pmb x = 0$ </center> \n",
    "\n",
    "In order for $\\pmb x$ to be an eigenvector, $det(\\pmb A - \\lambda \\pmb I) = 0$\n",
    "\n",
    ">> __Step 3:__ Find $det(\\pmb A - \\lambda \\pmb I)$ in terms of the elements of the matrix \n",
    "\\begin{equation}\n",
    "\\pmb A - \\lambda \\pmb I = \n",
    "\\begin{bmatrix}\n",
    "    A_{12} & A_{12}\\\\\n",
    "    A_{21} & A_{22}\n",
    "\\end{bmatrix}\n",
    "-\n",
    "\\begin{bmatrix}\n",
    "    \\lambda & 0\\\\\n",
    "    0 & \\lambda\n",
    "\\end{bmatrix}\n",
    "=\n",
    "\\begin{bmatrix}\n",
    "    A_{12} - \\lambda \\pmb I & A_{12}\\\\\n",
    "    A_{21} & A_{22} - \\lambda \\pmb I\n",
    "\\end{bmatrix}\n",
    "\\end{equation}\n",
    "\n",
    "\\begin{equation}\n",
    "det(\\pmb A - \\lambda \\pmb I)\n",
    "= \n",
    "(A_{12} - \\lambda)(A_{22} - \\lambda \\pmb I) - (A_{21})(A_{12})\n",
    "\\end{equation}\n",
    "\n",
    ">> __Step 4:__ Set $det(\\pmb A - \\lambda \\pmb I) = 0$ and solve for the $\\lambda$(s) which are the Eigenvectors of the matrix $\\pmb A$\n",
    "\n",
    ">> __Step 5:__ Plug $\\lambda$(s) back into $\\pmb A - \\lambda \\pmb I$ to create $n$ new matrices\n",
    "\n",
    ">> __Step 6:__ Solve the system of equations in the $n$ new matrices using Gaussian Elimination and obtaining RREF\n",
    "\n",
    "> /2. __Method 2:__ Using NumPy and SciPy's built in matrix eigenvalue methods: [`scipy.linalg.eig`](https://docs.scipy.org/doc/scipy/reference/generated/scipy.linalg.eig.html#scipy.linalg.eig) and [`numpy.linalg.eig`](https://docs.scipy.org/doc/numpy-1.14.0/reference/generated/numpy.linalg.eig.html#numpy.linalg.eig)\n",
    "\n",
    "__Helpful Points:__\n",
    "1. The Eigenvalues of $\\pmb A^2$ and $\\pmb A^{-1}$ are $\\lambda^2$ and $\\lambda^{-1}$, with the same Eigenvectors\n",
    "\n",
    "__Practice:__ Examples of Eigenvectors and Eigenvectors in Python "
   ]
  },
  {
   "cell_type": "markdown",
   "metadata": {},
   "source": [
    "### Example 1 (Calculating Eigenvectors and Eigenvalues with Method 1):"
   ]
  },
  {
   "cell_type": "code",
   "execution_count": 169,
   "metadata": {
    "scrolled": true
   },
   "outputs": [
    {
     "name": "stdout",
     "output_type": "stream",
     "text": [
      "[[3 1]\n",
      " [1 3]]\n"
     ]
    }
   ],
   "source": [
    "A = np.array([[3,1],[1,3]])\n",
    "print(A)"
   ]
  },
  {
   "cell_type": "markdown",
   "metadata": {},
   "source": [
    "__Step 1:__ Rearrange the equation $\\pmb A \\pmb x = \\lambda \\pmb x$:\n",
    "<center> $\\pmb A \\pmb x - \\lambda \\pmb x = 0$ </center> \n",
    "__Step 2:__ Factor out the x:\n",
    "<center> $(\\pmb A - \\lambda \\pmb I)\\pmb x = 0$ </center> \n",
    "__Step 3:__ Find $det(\\pmb A - \\lambda \\pmb I)$ in terms of the elements of the matrix \n",
    "\\begin{equation}\n",
    "\\pmb A - \\lambda \\pmb I = \n",
    "\\begin{bmatrix}\n",
    "    3 & 1\\\\\n",
    "    1 & 3\n",
    "\\end{bmatrix}\n",
    "-\n",
    "\\begin{bmatrix}\n",
    "    \\lambda & 0\\\\\n",
    "    0 & \\lambda\n",
    "\\end{bmatrix}\n",
    "=\n",
    "\\begin{bmatrix}\n",
    "    3 - \\lambda \\pmb I & 1\\\\\n",
    "    1 & 3 - \\lambda \\pmb I\n",
    "\\end{bmatrix}\n",
    "\\end{equation}\n",
    "\n",
    "\\begin{equation}\n",
    "det(\\pmb A - \\lambda \\pmb I)\n",
    "= \n",
    "(3 - \\lambda)(3 - \\lambda \\pmb I) - (1)(1) = \\lambda^2 - 6\\lambda + 8 \n",
    "\\end{equation}\n",
    "\n",
    "__Step 4:__ Set $\\lambda^2 - 6\\lambda + 8 = 0$ and solve for the $\\lambda$(s) which are the Eigenvectors of the matrix $\\pmb A$ $\\Rightarrow$ $\\lambda_1 = 4$ and $\\lambda_2 = 2$.\n",
    "\n",
    "__Step 5:__ Plug $\\lambda$(s) back into $\\pmb A - \\lambda \\pmb I$ to create 2 new matrices:\n",
    "\\begin{equation}\n",
    "\\pmb A - 4\\pmb I = \n",
    "\\begin{bmatrix}\n",
    "    -1 & 1\\\\\n",
    "    1 & -1\n",
    "\\end{bmatrix}\n",
    "\\end{equation}\n",
    "\n",
    "\\begin{equation}\n",
    "\\pmb A - 2\\pmb I = \n",
    "\\begin{bmatrix}\n",
    "    1 & 1\\\\\n",
    "    1 & 1\n",
    "\\end{bmatrix}\n",
    "\\end{equation}\n",
    "\n",
    "__Step 6:__ Solve the system of equations in the 2 new matrices using Gaussian Elimination and obtaining RREF\n",
    "\n",
    "\\begin{equation}\n",
    "\\begin{array}{cc|c}  \n",
    "    -1 & 1 & 0\\\\\n",
    "    1 & -1 & 0\\\\\n",
    "\\end{array}\n",
    "\\Rightarrow x_1 = \n",
    "\\begin{bmatrix}\n",
    "    1 \\\\\n",
    "    1\n",
    "\\end{bmatrix}\n",
    "\\end{equation}  \n",
    "\n",
    "\\begin{equation}\n",
    "\\begin{array}{cc|c}  \n",
    "    1 & 1 & 0\\\\\n",
    "    1 & -1 & 0\\\\\n",
    "\\end{array}\n",
    "\\Rightarrow x_2 = \n",
    "\\begin{bmatrix}\n",
    "    -1 \\\\\n",
    "    1\n",
    "\\end{bmatrix}\n",
    "\\end{equation} "
   ]
  },
  {
   "cell_type": "markdown",
   "metadata": {},
   "source": [
    "Therefore, the two eigenvectors are $[1,1]^T$ and $[-1,1]^T$ and the two eigenvalues are 4 and 2, respectively. "
   ]
  },
  {
   "cell_type": "markdown",
   "metadata": {},
   "source": [
    "### Example 2 (Calculating Eigenvectors and Eigenvalues with Method 2):"
   ]
  },
  {
   "cell_type": "code",
   "execution_count": 170,
   "metadata": {},
   "outputs": [
    {
     "data": {
      "text/plain": [
       "(array([4.+0.j, 2.+0.j]), array([[ 0.70710678, -0.70710678],\n",
       "        [ 0.70710678,  0.70710678]]))"
      ]
     },
     "execution_count": 170,
     "metadata": {},
     "output_type": "execute_result"
    }
   ],
   "source": [
    "linalg.eig(A)"
   ]
  },
  {
   "cell_type": "code",
   "execution_count": 171,
   "metadata": {},
   "outputs": [
    {
     "data": {
      "text/plain": [
       "(array([4., 2.]), array([[ 0.70710678, -0.70710678],\n",
       "        [ 0.70710678,  0.70710678]]))"
      ]
     },
     "execution_count": 171,
     "metadata": {},
     "output_type": "execute_result"
    }
   ],
   "source": [
    "np.linalg.eig(A)"
   ]
  },
  {
   "cell_type": "markdown",
   "metadata": {},
   "source": [
    "### ANSWERS TO LECTURE 8 PROBLEMS:"
   ]
  },
  {
   "cell_type": "markdown",
   "metadata": {},
   "source": [
    "### Problem 1 \n",
    "\n",
    "Create a vector $\\pmb u = [1,1,0]$ and a matrix \n",
    "\n",
    "\\begin{equation}\n",
    "\\pmb A = \n",
    "\\begin{bmatrix}\n",
    "    1 & 2 & 4\\\\\n",
    "    2 & 0 & 1\\\\\n",
    "\\end{bmatrix}\n",
    "\\end{equation}\n",
    "\n",
    "Perform vector-matrix multiplication using manual calculation on pencil and paper and also using the dot product function."
   ]
  },
  {
   "cell_type": "code",
   "execution_count": null,
   "metadata": {},
   "outputs": [],
   "source": [
    "u = np.array([1,1,0])\n",
    "A = np.array([[1,2,4],[2,0,1]])\n",
    "print(u)\n",
    "print(A)"
   ]
  },
  {
   "cell_type": "code",
   "execution_count": null,
   "metadata": {},
   "outputs": [],
   "source": [
    "np.dot(A,u)"
   ]
  },
  {
   "cell_type": "markdown",
   "metadata": {},
   "source": [
    "See the whiteboard for a manual calculation. "
   ]
  },
  {
   "cell_type": "markdown",
   "metadata": {},
   "source": [
    "### Problem 2\n",
    "\n",
    "Create a matrix \n",
    "\n",
    "\\begin{equation}\n",
    "\\pmb A = \n",
    "\\begin{bmatrix}\n",
    "    1 & 2 & 4\\\\\n",
    "    2 & 0 & 1\\\\\n",
    "\\end{bmatrix}\n",
    "\\end{equation}\n",
    "\n",
    "and a matrix \n",
    "\n",
    "\\begin{equation}\n",
    "\\pmb B = \n",
    "\\begin{bmatrix}\n",
    "    2 & 1\\\\\n",
    "    2 & 3\\\\\n",
    "    1 & 1\n",
    "\\end{bmatrix}\n",
    "\\end{equation}\n",
    "\n",
    "Perform matrix multiplication using manual calculation on pencil and paper and also using the dot product function."
   ]
  },
  {
   "cell_type": "code",
   "execution_count": null,
   "metadata": {},
   "outputs": [],
   "source": [
    "A = np.array([[1,2,4],[2,0,1]])\n",
    "B = np.array([[2,1],[2,3],[1,1]])\n",
    "print(A)\n",
    "print(B)"
   ]
  },
  {
   "cell_type": "code",
   "execution_count": null,
   "metadata": {},
   "outputs": [],
   "source": [
    "np.dot(A, B)"
   ]
  },
  {
   "cell_type": "markdown",
   "metadata": {},
   "source": [
    "See the whiteboard for a manual calculation. "
   ]
  },
  {
   "cell_type": "markdown",
   "metadata": {},
   "source": [
    "### Problem 3\n",
    "\n",
    "Create a matrix \n",
    "\n",
    "\\begin{equation}\n",
    "\\pmb A = \n",
    "\\begin{bmatrix}\n",
    "    1 & 2 & 4\\\\\n",
    "    2 & 0 & 1\\\\\n",
    "\\end{bmatrix}\n",
    "\\end{equation}\n",
    "\n",
    "and a matrix \n",
    "\n",
    "\\begin{equation}\n",
    "\\pmb B = \n",
    "\\begin{bmatrix}\n",
    "    2 & 1 & 1\\\\\n",
    "    2 & 3 & 1\\\\\n",
    "\\end{bmatrix}\n",
    "\\end{equation}\n",
    "\n",
    "Try performing matrix multiplication on these two matrices. If you are unable to do so, explain why. Then modify one of the two matrices in a way that the two matrices can now be multiplied. "
   ]
  },
  {
   "cell_type": "code",
   "execution_count": null,
   "metadata": {},
   "outputs": [],
   "source": [
    "A = np.array([[1,2,4],[2,0,1]])\n",
    "B = np.array([[2,1,1],[2,3,1]])\n",
    "print(A)\n",
    "print(B)"
   ]
  },
  {
   "cell_type": "code",
   "execution_count": null,
   "metadata": {},
   "outputs": [],
   "source": [
    "np.dot(A,B)"
   ]
  },
  {
   "cell_type": "code",
   "execution_count": null,
   "metadata": {},
   "outputs": [],
   "source": [
    "A_transpose = A.transpose()\n",
    "print(A_transpose)"
   ]
  },
  {
   "cell_type": "code",
   "execution_count": null,
   "metadata": {},
   "outputs": [],
   "source": [
    "np.dot(A_transpose, B)"
   ]
  },
  {
   "cell_type": "markdown",
   "metadata": {},
   "source": [
    "### Problem 4\n",
    "\n",
    "Create a matrix \n",
    "\n",
    "\\begin{equation}\n",
    "\\pmb A = \n",
    "\\begin{bmatrix}\n",
    "    1 & 2\\\\\n",
    "    2 & 0\\\\\n",
    "\\end{bmatrix}\n",
    "\\end{equation}\n",
    "\n",
    "Calculate the determinant and inverse of this matrix. Use any method(s) you please, but ensure one of those methods is the manual calculation. "
   ]
  },
  {
   "cell_type": "code",
   "execution_count": null,
   "metadata": {},
   "outputs": [],
   "source": [
    "A = np.array([[1,2],[2,0]])\n",
    "print(A)"
   ]
  },
  {
   "cell_type": "code",
   "execution_count": null,
   "metadata": {},
   "outputs": [],
   "source": [
    "np.linalg.det(A)"
   ]
  },
  {
   "cell_type": "code",
   "execution_count": null,
   "metadata": {},
   "outputs": [],
   "source": [
    "np.linalg.inv(A)"
   ]
  },
  {
   "cell_type": "markdown",
   "metadata": {},
   "source": [
    "### Problem 5\n",
    "\n",
    "For the following matrix \n",
    "\n",
    "\\begin{equation}\n",
    "\\pmb A = \n",
    "\\begin{bmatrix}\n",
    "    1 & 2 & 1\\\\\n",
    "    2 & 2 & 2\\\\\n",
    "    1 & 0 & 1\n",
    "\\end{bmatrix}\n",
    "\\end{equation}\n",
    "\n",
    "Manually find the reduced row echelon form"
   ]
  },
  {
   "cell_type": "markdown",
   "metadata": {},
   "source": [
    "\\begin{equation}\n",
    "\\pmb A = \n",
    "\\begin{bmatrix}\n",
    "    1 & 2 & 1\\\\\n",
    "    2 & 2 & 2\\\\\n",
    "    1 & 0 & 1\n",
    "\\end{bmatrix}\n",
    "\\Rightarrow\n",
    "\\begin{bmatrix}\n",
    "    1 & 2 & 1\\\\\n",
    "    0 & -2 & 0\\\\\n",
    "    0 & -2 & 0\n",
    "\\end{bmatrix}\n",
    "\\Rightarrow\n",
    "\\begin{bmatrix}\n",
    "    1 & 2 & 1\\\\\n",
    "    0 & -2 & 0\\\\\n",
    "    0 & 0 & 0\n",
    "\\end{bmatrix}\n",
    "\\Rightarrow\n",
    "\\begin{bmatrix}\n",
    "    1 & 0 & 1\\\\\n",
    "    0 & -2 & 0\\\\\n",
    "    0 & 0 & 0\n",
    "\\end{bmatrix}\n",
    "\\Rightarrow\n",
    "\\begin{bmatrix}\n",
    "    1 & 0 & 1\\\\\n",
    "    0 & 1 & 0\\\\\n",
    "    0 & 0 & 0\n",
    "\\end{bmatrix}\n",
    "\\end{equation}"
   ]
  },
  {
   "cell_type": "code",
   "execution_count": null,
   "metadata": {},
   "outputs": [],
   "source": []
  }
 ],
 "metadata": {
  "kernelspec": {
   "display_name": "Python 3",
   "language": "python",
   "name": "python3"
  },
  "language_info": {
   "codemirror_mode": {
    "name": "ipython",
    "version": 3
   },
   "file_extension": ".py",
   "mimetype": "text/x-python",
   "name": "python",
   "nbconvert_exporter": "python",
   "pygments_lexer": "ipython3",
   "version": "3.6.5"
  }
 },
 "nbformat": 4,
 "nbformat_minor": 2
}
